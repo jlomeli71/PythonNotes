{
 "cells": [
  {
   "cell_type": "markdown",
   "metadata": {},
   "source": [
    "# Scripting in Python"
   ]
  },
  {
   "cell_type": "code",
   "execution_count": 2,
   "metadata": {},
   "outputs": [],
   "source": []
  },
  {
   "cell_type": "markdown",
   "metadata": {},
   "source": [
    "### The sys module\n",
    "\n",
    "We can see and set differeent environment variables"
   ]
  },
  {
   "cell_type": "code",
   "execution_count": 1,
   "metadata": {},
   "outputs": [
    {
     "data": {
      "text/plain": [
       "'3.7.4 (default, Aug  9 2019, 18:34:13) [MSC v.1915 64 bit (AMD64)]'"
      ]
     },
     "execution_count": 1,
     "metadata": {},
     "output_type": "execute_result"
    }
   ],
   "source": [
    "import sys\n",
    "# Python version\n",
    "sys.version"
   ]
  },
  {
   "cell_type": "code",
   "execution_count": 2,
   "metadata": {},
   "outputs": [
    {
     "data": {
      "text/plain": [
       "namespace(cache_tag='cpython-37', hexversion=50791664, name='cpython', version=sys.version_info(major=3, minor=7, micro=4, releaselevel='final', serial=0))"
      ]
     },
     "execution_count": 2,
     "metadata": {},
     "output_type": "execute_result"
    }
   ],
   "source": [
    "# Information about the Python environment\n",
    "sys.implementation"
   ]
  },
  {
   "cell_type": "code",
   "execution_count": 5,
   "metadata": {},
   "outputs": [
    {
     "data": {
      "text/plain": [
       "['C:\\\\Users\\\\jmlom\\\\Documents\\\\GitHubRepositories\\\\python-notes',\n",
       " 'C:\\\\Users\\\\jmlom\\\\Anaconda3\\\\python37.zip',\n",
       " 'C:\\\\Users\\\\jmlom\\\\Anaconda3\\\\DLLs',\n",
       " 'C:\\\\Users\\\\jmlom\\\\Anaconda3\\\\lib',\n",
       " 'C:\\\\Users\\\\jmlom\\\\Anaconda3',\n",
       " '',\n",
       " 'C:\\\\Users\\\\jmlom\\\\AppData\\\\Roaming\\\\Python\\\\Python37\\\\site-packages',\n",
       " 'C:\\\\Users\\\\jmlom\\\\AppData\\\\Roaming\\\\Python\\\\Python37\\\\site-packages\\\\win32',\n",
       " 'C:\\\\Users\\\\jmlom\\\\AppData\\\\Roaming\\\\Python\\\\Python37\\\\site-packages\\\\win32\\\\lib',\n",
       " 'C:\\\\Users\\\\jmlom\\\\AppData\\\\Roaming\\\\Python\\\\Python37\\\\site-packages\\\\Pythonwin',\n",
       " 'C:\\\\Users\\\\jmlom\\\\Anaconda3\\\\lib\\\\site-packages',\n",
       " 'C:\\\\Users\\\\jmlom\\\\Anaconda3\\\\lib\\\\site-packages\\\\win32',\n",
       " 'C:\\\\Users\\\\jmlom\\\\Anaconda3\\\\lib\\\\site-packages\\\\win32\\\\lib',\n",
       " 'C:\\\\Users\\\\jmlom\\\\Anaconda3\\\\lib\\\\site-packages\\\\Pythonwin',\n",
       " 'C:\\\\Users\\\\jmlom\\\\Anaconda3\\\\lib\\\\site-packages\\\\IPython\\\\extensions',\n",
       " 'C:\\\\Users\\\\jmlom\\\\.ipython']"
      ]
     },
     "execution_count": 5,
     "metadata": {},
     "output_type": "execute_result"
    }
   ],
   "source": [
    "# Path variable\n",
    "sys.path"
   ]
  },
  {
   "cell_type": "code",
   "execution_count": 3,
   "metadata": {},
   "outputs": [
    {
     "data": {
      "text/plain": [
       "'win32'"
      ]
     },
     "execution_count": 3,
     "metadata": {},
     "output_type": "execute_result"
    }
   ],
   "source": [
    "# Platfroms\n",
    "sys.platform"
   ]
  },
  {
   "cell_type": "code",
   "execution_count": 4,
   "metadata": {},
   "outputs": [
    {
     "name": "stdout",
     "output_type": "stream",
     "text": [
      "Windows comands\n"
     ]
    }
   ],
   "source": [
    "# \n",
    "if sys.platform == \"win32\":\n",
    "    print(\"Windows comands\")"
   ]
  },
  {
   "cell_type": "code",
   "execution_count": 7,
   "metadata": {},
   "outputs": [
    {
     "data": {
      "text/plain": [
       "(9000112, 8000048, 33554656)"
      ]
     },
     "execution_count": 7,
     "metadata": {},
     "output_type": "execute_result"
    }
   ],
   "source": [
    "# Size of objects in bytes\n",
    "my_list = list(range(1_000_000))\n",
    "my_tuple = tuple(my_list)\n",
    "my_set = set(my_list)\n",
    "sys.getsizeof(my_list), sys.getsizeof(my_tuple), sys.getsizeof(my_set) "
   ]
  },
  {
   "cell_type": "code",
   "execution_count": null,
   "metadata": {},
   "outputs": [],
   "source": [
    "# Default stdout\n",
    "stdout = sys.stdout\n",
    "with open(\"files\\\\working\\\\newfile.txt\", \"a\") as sys.stdout:\n",
    "    print(\"Output redirection\", stdout)\n",
    "    help(\"sys\")"
   ]
  },
  {
   "cell_type": "code",
   "execution_count": 18,
   "metadata": {},
   "outputs": [],
   "source": [
    "sys.stdout = stdout"
   ]
  },
  {
   "cell_type": "code",
   "execution_count": 19,
   "metadata": {},
   "outputs": [
    {
     "name": "stdout",
     "output_type": "stream",
     "text": [
      "Output redirection <ipykernel.iostream.OutStream object at 0x0000021F77B05548>\n",
      "Help on built-in module sys:\n",
      "\n",
      "NAME\n",
      "    sys\n",
      "\n",
      "MODULE REFERENCE\n",
      "    https://docs.python.org/3.7/library/sys\n",
      "    \n",
      "    The following documentation is automatically generated from the Python\n",
      "    source files.  It may be incomplete, incorrect or include features that\n",
      "    are considered implementation detail and may vary between Python\n",
      "    implementations.  When in doubt, consult the module reference at the\n",
      "    location listed above.\n",
      "\n",
      "DESCRIPTION\n",
      "    This module provides access to some objects used or maintained by the\n",
      "    interpreter and to functions that interact strongly with the interpreter.\n",
      "    \n",
      "    Dynamic objects:\n",
      "    \n",
      "    argv -- command line arguments; argv[0] is the script pathname if known\n",
      "    path -- module search path; path[0] is the script directory, else ''\n",
      "    modules -- dictionary of loaded modules\n",
      "    \n",
      "    displayhook -- called to show results in an interactive session\n",
      "    excepthook -- called to handle any uncaught exception other than SystemExit\n",
      "      To customize printing in an interactive session or to install a custom\n",
      "      top-level exception handler, assign other functions to replace these.\n",
      "    \n",
      "    stdin -- standard input file object; used by input()\n",
      "    stdout -- standard output file object; used by print()\n",
      "    stderr -- standard error object; used for error messages\n",
      "      By assigning other file objects (or objects that behave like files)\n",
      "      to these, it is possible to redirect all of the interpreter's I/O.\n",
      "    \n",
      "    last_type -- type of last uncaught exception\n",
      "    last_value -- value of last uncaught exception\n",
      "    last_traceback -- traceback of last uncaught exception\n",
      "      These three are only available in an interactive session after a\n",
      "      traceback has been printed.\n",
      "    \n",
      "    Static objects:\n",
      "    \n",
      "    builtin_module_names -- tuple of module names built into this interpreter\n",
      "    copyright -- copyright notice pertaining to this interpreter\n",
      "    exec_prefix -- prefix used to find the machine-specific Python library\n",
      "    executable -- absolute path of the executable binary of the Python interpreter\n",
      "    float_info -- a struct sequence with information about the float implementation.\n",
      "    float_repr_style -- string indicating the style of repr() output for floats\n",
      "    hash_info -- a struct sequence with information about the hash algorithm.\n",
      "    hexversion -- version information encoded as a single integer\n",
      "    implementation -- Python implementation information.\n",
      "    int_info -- a struct sequence with information about the int implementation.\n",
      "    maxsize -- the largest supported length of containers.\n",
      "    maxunicode -- the value of the largest Unicode code point\n",
      "    platform -- platform identifier\n",
      "    prefix -- prefix used to find the Python library\n",
      "    thread_info -- a struct sequence with information about the thread implementation.\n",
      "    version -- the version of this interpreter as a string\n",
      "    version_info -- version information as a named tuple\n",
      "    dllhandle -- [Windows only] integer handle of the Python DLL\n",
      "    winver -- [Windows only] version number of the Python DLL\n",
      "    _enablelegacywindowsfsencoding -- [Windows only] \n",
      "    __stdin__ -- the original stdin; don't touch!\n",
      "    __stdout__ -- the original stdout; don't touch!\n",
      "    __stderr__ -- the original stderr; don't touch!\n",
      "    __displayhook__ -- the original displayhook; don't touch!\n",
      "    __excepthook__ -- the original excepthook; don't touch!\n",
      "    \n",
      "    Functions:\n",
      "    \n",
      "    displayhook() -- print an object to the screen, and save it in builtins._\n",
      "    excepthook() -- print an exception and its traceback to sys.stderr\n",
      "    exc_info() -- return thread-safe information about the current exception\n",
      "    exit() -- exit the interpreter by raising SystemExit\n",
      "    getdlopenflags() -- returns flags to be used for dlopen() calls\n",
      "    getprofile() -- get the global profiling function\n",
      "    getrefcount() -- return the reference count for an object (plus one :-)\n",
      "    getrecursionlimit() -- return the max recursion depth for the interpreter\n",
      "    getsizeof() -- return the size of an object in bytes\n",
      "    gettrace() -- get the global debug tracing function\n",
      "    setcheckinterval() -- control how often the interpreter checks for events\n",
      "    setdlopenflags() -- set the flags to be used for dlopen() calls\n",
      "    setprofile() -- set the global profiling function\n",
      "    setrecursionlimit() -- set the max recursion depth for the interpreter\n",
      "    settrace() -- set the global debug tracing function\n",
      "\n",
      "FUNCTIONS\n",
      "    __breakpointhook__ = breakpointhook(...)\n",
      "        breakpointhook(*args, **kws)\n",
      "        \n",
      "        This hook function is called by built-in breakpoint().\n",
      "    \n",
      "    __displayhook__ = displayhook(...)\n",
      "        displayhook(object) -> None\n",
      "        \n",
      "        Print an object to sys.stdout and also save it in builtins._\n",
      "    \n",
      "    __excepthook__ = excepthook(...)\n",
      "        excepthook(exctype, value, traceback) -> None\n",
      "        \n",
      "        Handle an exception by displaying it with a traceback on sys.stderr.\n",
      "    \n",
      "    breakpointhook(...)\n",
      "        breakpointhook(*args, **kws)\n",
      "        \n",
      "        This hook function is called by built-in breakpoint().\n",
      "    \n",
      "    call_tracing(...)\n",
      "        call_tracing(func, args) -> object\n",
      "        \n",
      "        Call func(*args), while tracing is enabled.  The tracing state is\n",
      "        saved, and restored afterwards.  This is intended to be called from\n",
      "        a debugger from a checkpoint, to recursively debug some other code.\n",
      "    \n",
      "    callstats(...)\n",
      "        callstats() -> tuple of integers\n",
      "        \n",
      "        Return a tuple of function call statistics, if CALL_PROFILE was defined\n",
      "        when Python was built.  Otherwise, return None.\n",
      "        \n",
      "        When enabled, this function returns detailed, implementation-specific\n",
      "        details about the number of function calls executed. The return value is\n",
      "        a 11-tuple where the entries in the tuple are counts of:\n",
      "        0. all function calls\n",
      "        1. calls to PyFunction_Type objects\n",
      "        2. PyFunction calls that do not create an argument tuple\n",
      "        3. PyFunction calls that do not create an argument tuple\n",
      "           and bypass PyEval_EvalCodeEx()\n",
      "        4. PyMethod calls\n",
      "        5. PyMethod calls on bound methods\n",
      "        6. PyType calls\n",
      "        7. PyCFunction calls\n",
      "        8. generator calls\n",
      "        9. All other calls\n",
      "        10. Number of stack pops performed by call_function()\n",
      "    \n",
      "    exc_info(...)\n",
      "        exc_info() -> (type, value, traceback)\n",
      "        \n",
      "        Return information about the most recent exception caught by an except\n",
      "        clause in the current stack frame or in an older stack frame.\n",
      "    \n",
      "    exit(...)\n",
      "        exit([status])\n",
      "        \n",
      "        Exit the interpreter by raising SystemExit(status).\n",
      "        If the status is omitted or None, it defaults to zero (i.e., success).\n",
      "        If the status is an integer, it will be used as the system exit status.\n",
      "        If it is another kind of object, it will be printed and the system\n",
      "        exit status will be one (i.e., failure).\n",
      "    \n",
      "    get_asyncgen_hooks(...)\n",
      "        get_asyncgen_hooks()\n",
      "        \n",
      "        Return a namedtuple of installed asynchronous generators hooks (firstiter, finalizer).\n",
      "    \n",
      "    get_coroutine_origin_tracking_depth()\n",
      "        Check status of origin tracking for coroutine objects in this thread.\n",
      "    \n",
      "    get_coroutine_wrapper(...)\n",
      "        get_coroutine_wrapper()\n",
      "        \n",
      "        Return the wrapper for coroutine objects set by sys.set_coroutine_wrapper.\n",
      "    \n",
      "    getallocatedblocks(...)\n",
      "        getallocatedblocks() -> integer\n",
      "        \n",
      "        Return the number of memory blocks currently allocated, regardless of their\n",
      "        size.\n",
      "    \n",
      "    getcheckinterval(...)\n",
      "        getcheckinterval() -> current check interval; see setcheckinterval().\n",
      "    \n",
      "    getdefaultencoding(...)\n",
      "        getdefaultencoding() -> string\n",
      "        \n",
      "        Return the current default string encoding used by the Unicode \n",
      "        implementation.\n",
      "    \n",
      "    getfilesystemencodeerrors(...)\n",
      "        getfilesystemencodeerrors() -> string\n",
      "        \n",
      "        Return the error mode used to convert Unicode filenames in\n",
      "        operating system filenames.\n",
      "    \n",
      "    getfilesystemencoding(...)\n",
      "        getfilesystemencoding() -> string\n",
      "        \n",
      "        Return the encoding used to convert Unicode filenames in\n",
      "        operating system filenames.\n",
      "    \n",
      "    getprofile(...)\n",
      "        getprofile()\n",
      "        \n",
      "        Return the profiling function set with sys.setprofile.\n",
      "        See the profiler chapter in the library manual.\n",
      "    \n",
      "    getrecursionlimit(...)\n",
      "        getrecursionlimit()\n",
      "        \n",
      "        Return the current value of the recursion limit, the maximum depth\n",
      "        of the Python interpreter stack.  This limit prevents infinite\n",
      "        recursion from causing an overflow of the C stack and crashing Python.\n",
      "    \n",
      "    getrefcount(...)\n",
      "        getrefcount(object) -> integer\n",
      "        \n",
      "        Return the reference count of object.  The count returned is generally\n",
      "        one higher than you might expect, because it includes the (temporary)\n",
      "        reference as an argument to getrefcount().\n",
      "    \n",
      "    getsizeof(...)\n",
      "        getsizeof(object, default) -> int\n",
      "        \n",
      "        Return the size of object in bytes.\n",
      "    \n",
      "    getswitchinterval(...)\n",
      "        getswitchinterval() -> current thread switch interval; see setswitchinterval().\n",
      "    \n",
      "    gettrace(...)\n",
      "        gettrace()\n",
      "        \n",
      "        Return the global debug tracing function set with sys.settrace.\n",
      "        See the debugger chapter in the library manual.\n",
      "    \n",
      "    getwindowsversion(...)\n",
      "        getwindowsversion()\n",
      "        \n",
      "        Return information about the running version of Windows as a named tuple.\n",
      "        The members are named: major, minor, build, platform, service_pack,\n",
      "        service_pack_major, service_pack_minor, suite_mask, and product_type. For\n",
      "        backward compatibility, only the first 5 items are available by indexing.\n",
      "        All elements are numbers, except service_pack and platform_type which are\n",
      "        strings, and platform_version which is a 3-tuple. Platform is always 2.\n",
      "        Product_type may be 1 for a workstation, 2 for a domain controller, 3 for a\n",
      "        server. Platform_version is a 3-tuple containing a version number that is\n",
      "        intended for identifying the OS rather than feature detection.\n",
      "    \n",
      "    intern(...)\n",
      "        intern(string) -> string\n",
      "        \n",
      "        ``Intern'' the given string.  This enters the string in the (global)\n",
      "        table of interned strings whose purpose is to speed up dictionary lookups.\n",
      "        Return the string itself or the previously interned string object with the\n",
      "        same value.\n",
      "    \n",
      "    is_finalizing(...)\n",
      "        is_finalizing()\n",
      "        Return True if Python is exiting.\n",
      "    \n",
      "    set_asyncgen_hooks(...)\n",
      "        set_asyncgen_hooks(*, firstiter=None, finalizer=None)\n",
      "        \n",
      "        Set a finalizer for async generators objects.\n",
      "    \n",
      "    set_coroutine_origin_tracking_depth(depth)\n",
      "        Enable or disable origin tracking for coroutine objects in this thread.\n",
      "        \n",
      "        Coroutine objects will track 'depth' frames of traceback information about\n",
      "        where they came from, available in their cr_origin attribute. Set depth of 0\n",
      "        to disable.\n",
      "    \n",
      "    set_coroutine_wrapper(...)\n",
      "        set_coroutine_wrapper(wrapper)\n",
      "        \n",
      "        Set a wrapper for coroutine objects.\n",
      "    \n",
      "    setcheckinterval(...)\n",
      "        setcheckinterval(n)\n",
      "        \n",
      "        Tell the Python interpreter to check for asynchronous events every\n",
      "        n instructions.  This also affects how often thread switches occur.\n",
      "    \n",
      "    setprofile(...)\n",
      "        setprofile(function)\n",
      "        \n",
      "        Set the profiling function.  It will be called on each function call\n",
      "        and return.  See the profiler chapter in the library manual.\n",
      "    \n",
      "    setrecursionlimit(...)\n",
      "        setrecursionlimit(n)\n",
      "        \n",
      "        Set the maximum depth of the Python interpreter stack to n.  This\n",
      "        limit prevents infinite recursion from causing an overflow of the C\n",
      "        stack and crashing Python.  The highest possible limit is platform-\n",
      "        dependent.\n",
      "    \n",
      "    setswitchinterval(...)\n",
      "        setswitchinterval(n)\n",
      "        \n",
      "        Set the ideal thread switching delay inside the Python interpreter\n",
      "        The actual frequency of switching threads can be lower if the\n",
      "        interpreter executes long sequences of uninterruptible code\n",
      "        (this is implementation-specific and workload-dependent).\n",
      "        \n",
      "        The parameter must represent the desired switching delay in seconds\n",
      "        A typical value is 0.005 (5 milliseconds).\n",
      "    \n",
      "    settrace(...)\n",
      "        settrace(function)\n",
      "        \n",
      "        Set the global debug tracing function.  It will be called on each\n",
      "        function call.  See the debugger chapter in the library manual.\n",
      "\n",
      "DATA\n",
      "    __stderr__ = <_io.TextIOWrapper name='<stderr>' mode='w' encoding='utf...\n",
      "    __stdin__ = <_io.TextIOWrapper name='<stdin>' mode='r' encoding='cp125...\n",
      "    __stdout__ = <_io.TextIOWrapper name='<stdout>' mode='w' encoding='utf...\n",
      "    api_version = 1013\n",
      "    argv = [r'C:\\Users\\jmlom\\AppData\\Roaming\\Python\\Python37\\site-packages...\n",
      "    base_exec_prefix = r'C:\\Users\\jmlom\\Anaconda3'\n",
      "    base_prefix = r'C:\\Users\\jmlom\\Anaconda3'\n",
      "    builtin_module_names = ('_abc', '_ast', '_bisect', '_blake2', '_codecs...\n",
      "    byteorder = 'little'\n",
      "    copyright = 'Copyright (c) 2001-2019 Python Software Foundati...ematis...\n",
      "    displayhook = <ipykernel.displayhook.ZMQShellDisplayHook object>\n",
      "    dllhandle = 140725282996224\n",
      "    dont_write_bytecode = False\n",
      "    exec_prefix = r'C:\\Users\\jmlom\\Anaconda3'\n",
      "    executable = r'C:\\Users\\jmlom\\Anaconda3\\python.exe'\n",
      "    flags = sys.flags(debug=0, inspect=0, interactive=0, opt...ation=1, is...\n",
      "    float_info = sys.float_info(max=1.7976931348623157e+308, max_...epsilo...\n",
      "    float_repr_style = 'short'\n",
      "    hash_info = sys.hash_info(width=64, modulus=2305843009213693...iphash2...\n",
      "    hexversion = 50791664\n",
      "    implementation = namespace(cache_tag='cpython-37', hexversion=507...in...\n",
      "    int_info = sys.int_info(bits_per_digit=30, sizeof_digit=4)\n",
      "    maxsize = 9223372036854775807\n",
      "    maxunicode = 1114111\n",
      "    meta_path = [<class '_frozen_importlib.BuiltinImporter'>, <class '_fro...\n",
      "    modules = {'IPython': <module 'IPython' from 'C:\\\\Users\\\\jmlom\\\\Anacon...\n",
      "    path = [r'C:\\Users\\jmlom\\Documents\\GitHubRepositories\\python-notes', r...\n",
      "    path_hooks = [<class 'zipimport.zipimporter'>, <function FileFinder.pa...\n",
      "    path_importer_cache = {r'C:\\Users\\jmlom\\.ipython': FileFinder('C:\\\\Use...\n",
      "    platform = 'win32'\n",
      "    prefix = r'C:\\Users\\jmlom\\Anaconda3'\n",
      "    ps1 = 'In : '\n",
      "    ps2 = '...: '\n",
      "    ps3 = 'Out: '\n",
      "    stderr = <ipykernel.iostream.OutStream object>\n",
      "    stdin = <_io.TextIOWrapper name='<stdin>' mode='r' encoding='cp1252'>\n",
      "    stdout = <_io.TextIOWrapper name='files\\\\working\\\\newfile.txt' mode='a...\n",
      "    thread_info = sys.thread_info(name='nt', lock=None, version=None)\n",
      "    version = '3.7.4 (default, Aug  9 2019, 18:34:13) [MSC v.1915 64 bit (...\n",
      "    version_info = sys.version_info(major=3, minor=7, micro=4, releaseleve...\n",
      "    warnoptions = []\n",
      "    winver = '3.7'\n",
      "\n",
      "FILE\n",
      "    (built-in)\n",
      "\n",
      "\n",
      "\n"
     ]
    }
   ],
   "source": [
    "with open(\"files\\\\working\\\\newfile.txt\", \"r\") as file:\n",
    "    print(file.read())"
   ]
  },
  {
   "cell_type": "code",
   "execution_count": 21,
   "metadata": {},
   "outputs": [
    {
     "name": "stdout",
     "output_type": "stream",
     "text": [
      "Number of arguments: 3\n",
      "This is the name of the script: C:\\Users\\jmlom\\AppData\\Roaming\\Python\\Python37\\site-packages\\ipykernel_launcher.py\n",
      "The script arguments are: ['C:\\\\Users\\\\jmlom\\\\AppData\\\\Roaming\\\\Python\\\\Python37\\\\site-packages\\\\ipykernel_launcher.py', '-f', 'C:\\\\Users\\\\jmlom\\\\AppData\\\\Roaming\\\\jupyter\\\\runtime\\\\kernel-04e16840-6520-41c2-8734-138c9581c5ee.json']\n"
     ]
    }
   ],
   "source": [
    "### sys.argv\n",
    "\n",
    "import sys\n",
    "print(f\"Number of arguments: {len(sys.argv)}\")\n",
    "print(f\"This is the name of the script: {sys.argv[0]}\")\n",
    "print(f\"The script arguments are: {sys.argv}\")\n"
   ]
  },
  {
   "cell_type": "markdown",
   "metadata": {},
   "source": [
    "### The os module\n",
    "\n",
    "- import os\n",
    "- os.path.exists\n",
    "- os.makedirs\n",
    "- os.listdirs\n",
    "- os.path.splitext"
   ]
  },
  {
   "cell_type": "code",
   "execution_count": 3,
   "metadata": {},
   "outputs": [],
   "source": [
    "import os"
   ]
  },
  {
   "cell_type": "code",
   "execution_count": 2,
   "metadata": {},
   "outputs": [
    {
     "data": {
      "text/plain": [
       "'C:\\\\Users\\\\jmlom\\\\Documents\\\\GitHubRepositories\\\\python-notes'"
      ]
     },
     "execution_count": 2,
     "metadata": {},
     "output_type": "execute_result"
    }
   ],
   "source": [
    "os.getcwd()"
   ]
  },
  {
   "cell_type": "code",
   "execution_count": 4,
   "metadata": {},
   "outputs": [
    {
     "data": {
      "text/plain": [
       "'C:\\\\Users\\\\jmlom\\\\Documents'"
      ]
     },
     "execution_count": 4,
     "metadata": {},
     "output_type": "execute_result"
    }
   ],
   "source": [
    "os.chdir(\"C:\\\\Users\\\\jmlom\\\\Documents\")\n",
    "os.getcwd()"
   ]
  },
  {
   "cell_type": "code",
   "execution_count": 5,
   "metadata": {},
   "outputs": [
    {
     "data": {
      "text/plain": [
       "'C:\\\\Users\\\\jmlom\\\\Documents\\\\GitHubRepositories\\\\python-notes\\\\files'"
      ]
     },
     "execution_count": 5,
     "metadata": {},
     "output_type": "execute_result"
    }
   ],
   "source": [
    "os.chdir(\"C:\\\\Users\\\\jmlom\\\\Documents\\\\GitHubRepositories\\\\python-notes\\\\files\")\n",
    "os.getcwd()"
   ]
  },
  {
   "cell_type": "code",
   "execution_count": 6,
   "metadata": {},
   "outputs": [
    {
     "data": {
      "text/plain": [
       "['modules', 'testing', 'webserver', 'working']"
      ]
     },
     "execution_count": 6,
     "metadata": {},
     "output_type": "execute_result"
    }
   ],
   "source": [
    "os.listdir()"
   ]
  },
  {
   "cell_type": "code",
   "execution_count": 7,
   "metadata": {},
   "outputs": [
    {
     "data": {
      "text/plain": [
       "['happy.txt', 'multi.txt', 'newfile.txt', 'text.txt']"
      ]
     },
     "execution_count": 7,
     "metadata": {},
     "output_type": "execute_result"
    }
   ],
   "source": [
    "os.listdir(\"working\")"
   ]
  },
  {
   "cell_type": "code",
   "execution_count": 13,
   "metadata": {},
   "outputs": [
    {
     "data": {
      "text/plain": [
       "'C:\\\\Users\\\\jmlom\\\\Documents\\\\GitHubRepositories\\\\python-notes\\\\files'"
      ]
     },
     "execution_count": 13,
     "metadata": {},
     "output_type": "execute_result"
    }
   ],
   "source": [
    "os.getcwd()"
   ]
  },
  {
   "cell_type": "code",
   "execution_count": 14,
   "metadata": {},
   "outputs": [],
   "source": [
    "os.mkdir(\"basura\")"
   ]
  },
  {
   "cell_type": "code",
   "execution_count": 15,
   "metadata": {},
   "outputs": [
    {
     "data": {
      "text/plain": [
       "['basura', 'modules', 'testing', 'webserver', 'working']"
      ]
     },
     "execution_count": 15,
     "metadata": {},
     "output_type": "execute_result"
    }
   ],
   "source": [
    "os.listdir()"
   ]
  },
  {
   "cell_type": "code",
   "execution_count": 16,
   "metadata": {},
   "outputs": [],
   "source": [
    "os.makedirs(\"garbage1\\\\garbage2\\\\garbage3\")"
   ]
  },
  {
   "cell_type": "code",
   "execution_count": 17,
   "metadata": {},
   "outputs": [
    {
     "data": {
      "text/plain": [
       "['basura', 'garbage1', 'modules', 'testing', 'webserver', 'working']"
      ]
     },
     "execution_count": 17,
     "metadata": {},
     "output_type": "execute_result"
    }
   ],
   "source": [
    "os.listdir()"
   ]
  },
  {
   "cell_type": "code",
   "execution_count": 19,
   "metadata": {},
   "outputs": [
    {
     "name": "stdout",
     "output_type": "stream",
     "text": [
      "happy .txt\n",
      "multi .txt\n",
      "newfile .txt\n",
      "text .txt\n"
     ]
    }
   ],
   "source": [
    "import os\n",
    "os.chdir(\"C:\\\\Users\\\\jmlom\\\\Documents\\\\GitHubRepositories\\\\python-notes\\\\files\\\\working\")\n",
    "\n",
    "for file in os.listdir():\n",
    "    file_name, file_extension = os.path.splitext(file)\n",
    "    print(file_name, file_extension)\n",
    "    # we can change the file name\n",
    "    new_name = name + \"123\"\n",
    "    os.rename(file, new_name)"
   ]
  },
  {
   "cell_type": "markdown",
   "metadata": {},
   "source": [
    "### The shutil module\n",
    "\n",
    "Stand for shell utilities.\n",
    "Has several file operations. The os module has some similar, but it is easier with the shutil module."
   ]
  },
  {
   "cell_type": "code",
   "execution_count": 22,
   "metadata": {},
   "outputs": [
    {
     "name": "stdout",
     "output_type": "stream",
     "text": [
      "['Error', 'ExecError', 'ReadError', 'RegistryError', 'SameFileError', 'SpecialFileError', '_ARCHIVE_FORMATS', '_BZ2_SUPPORTED', '_LZMA_SUPPORTED', '_UNPACK_FORMATS', '_ZLIB_SUPPORTED', '__all__', '__builtins__', '__cached__', '__doc__', '__file__', '__loader__', '__name__', '__package__', '__spec__', '_basename', '_check_unpack_options', '_copyxattr', '_destinsrc', '_ensure_directory', '_find_unpack_format', '_get_gid', '_get_uid', '_make_tarball', '_make_zipfile', '_ntuple_diskusage', '_rmtree_safe_fd', '_rmtree_unsafe', '_samefile', '_unpack_tarfile', '_unpack_zipfile', '_use_fd_functions', 'chown', 'collections', 'copy', 'copy2', 'copyfile', 'copyfileobj', 'copymode', 'copystat', 'copytree', 'disk_usage', 'errno', 'fnmatch', 'get_archive_formats', 'get_terminal_size', 'get_unpack_formats', 'getgrnam', 'getpwnam', 'ignore_patterns', 'make_archive', 'move', 'nt', 'os', 'register_archive_format', 'register_unpack_format', 'rmtree', 'stat', 'sys', 'unpack_archive', 'unregister_archive_format', 'unregister_unpack_format', 'which']\n"
     ]
    }
   ],
   "source": [
    "import shutil\n",
    "print(dir(shutil))"
   ]
  },
  {
   "cell_type": "code",
   "execution_count": null,
   "metadata": {},
   "outputs": [],
   "source": [
    "# This does not copy file permisions\n",
    "shutil.copyfile(\"source_file\", \"destination_file\")\n",
    "# Copies file permission \n",
    "shutil.copy(\"source_file\", \"destination_file\")\n",
    "shutil.copy2(\"source_file\", \"destination_file\")\n",
    "# Copies a directory\n",
    "shutil.copytree(\"source_directory\", \"destination_directory\")\n",
    "# We can rename files with\"\n",
    "shutil.move(\"source_file\", \"destination_file\")\n",
    "# Remove a directory\n",
    "shutil.rmtree(\"directory_to_be_removed\")"
   ]
  },
  {
   "cell_type": "code",
   "execution_count": 23,
   "metadata": {},
   "outputs": [
    {
     "name": "stdout",
     "output_type": "stream",
     "text": [
      "Help on function rmtree in module shutil:\n",
      "\n",
      "rmtree(path, ignore_errors=False, onerror=None)\n",
      "    Recursively delete a directory tree.\n",
      "    \n",
      "    If ignore_errors is set, errors are ignored; otherwise, if onerror\n",
      "    is set, it is called to handle the error with arguments (func,\n",
      "    path, exc_info) where func is platform and implementation dependent;\n",
      "    path is the argument to that function that caused it to fail; and\n",
      "    exc_info is a tuple returned by sys.exc_info().  If ignore_errors\n",
      "    is false and onerror is None, an exception is raised.\n",
      "\n"
     ]
    }
   ],
   "source": [
    "help(shutil.rmtree)"
   ]
  },
  {
   "cell_type": "markdown",
   "metadata": {},
   "source": [
    "### Running shell commads \n",
    "\n",
    "- The os module\n",
    "- The subprocess module"
   ]
  },
  {
   "cell_type": "code",
   "execution_count": 26,
   "metadata": {},
   "outputs": [
    {
     "name": "stdout",
     "output_type": "stream",
     "text": [
      "\n",
      "Interfaz: 192.168.188.1 --- 0x4\n",
      "  Direcci¢n de Internet          Direcci¢n f¡sica      Tipo\n",
      "  192.168.188.255       ff-ff-ff-ff-ff-ff     est tico  \n",
      "  224.0.0.22            01-00-5e-00-00-16     est tico  \n",
      "  224.0.0.251           01-00-5e-00-00-fb     est tico  \n",
      "  224.0.0.252           01-00-5e-00-00-fc     est tico  \n",
      "  239.255.255.250       01-00-5e-7f-ff-fa     est tico  \n",
      "\n",
      "Interfaz: 192.168.230.1 --- 0x6\n",
      "  Direcci¢n de Internet          Direcci¢n f¡sica      Tipo\n",
      "  192.168.230.255       ff-ff-ff-ff-ff-ff     est tico  \n",
      "  224.0.0.22            01-00-5e-00-00-16     est tico  \n",
      "  224.0.0.251           01-00-5e-00-00-fb     est tico  \n",
      "  224.0.0.252           01-00-5e-00-00-fc     est tico  \n",
      "  239.255.255.250       01-00-5e-7f-ff-fa     est tico  \n",
      "\n",
      "Interfaz: 192.168.206.1 --- 0x7\n",
      "  Direcci¢n de Internet          Direcci¢n f¡sica      Tipo\n",
      "  192.168.206.255       ff-ff-ff-ff-ff-ff     est tico  \n",
      "  224.0.0.22            01-00-5e-00-00-16     est tico  \n",
      "  224.0.0.251           01-00-5e-00-00-fb     est tico  \n",
      "  224.0.0.252           01-00-5e-00-00-fc     est tico  \n",
      "  239.255.255.250       01-00-5e-7f-ff-fa     est tico  \n",
      "\n",
      "Interfaz: 192.168.145.1 --- 0xa\n",
      "  Direcci¢n de Internet          Direcci¢n f¡sica      Tipo\n",
      "  192.168.145.255       ff-ff-ff-ff-ff-ff     est tico  \n",
      "  224.0.0.22            01-00-5e-00-00-16     est tico  \n",
      "  224.0.0.251           01-00-5e-00-00-fb     est tico  \n",
      "  224.0.0.252           01-00-5e-00-00-fc     est tico  \n",
      "  239.255.255.250       01-00-5e-7f-ff-fa     est tico  \n",
      "\n",
      "Interfaz: 10.106.240.113 --- 0xb\n",
      "  Direcci¢n de Internet          Direcci¢n f¡sica      Tipo\n",
      "  10.0.0.1              00-11-22-33-44-55     din mico  \n",
      "  10.103.2.43           00-11-22-33-44-55     din mico  \n",
      "  10.103.2.177          00-11-22-33-44-55     din mico  \n",
      "  10.255.255.255        ff-ff-ff-ff-ff-ff     est tico  \n",
      "  224.0.0.22            01-00-5e-00-00-16     est tico  \n",
      "  224.0.0.251           01-00-5e-00-00-fb     est tico  \n",
      "  224.0.0.252           01-00-5e-00-00-fc     est tico  \n",
      "  239.255.255.250       01-00-5e-7f-ff-fa     est tico  \n",
      "  255.255.255.255       ff-ff-ff-ff-ff-ff     est tico  \n",
      "\n",
      "Interfaz: 192.168.126.1 --- 0xd\n",
      "  Direcci¢n de Internet          Direcci¢n f¡sica      Tipo\n",
      "  192.168.126.255       ff-ff-ff-ff-ff-ff     est tico  \n",
      "  224.0.0.22            01-00-5e-00-00-16     est tico  \n",
      "  224.0.0.251           01-00-5e-00-00-fb     est tico  \n",
      "  224.0.0.252           01-00-5e-00-00-fc     est tico  \n",
      "  239.255.255.250       01-00-5e-7f-ff-fa     est tico  \n",
      "\n",
      "Interfaz: 192.168.216.1 --- 0x10\n",
      "  Direcci¢n de Internet          Direcci¢n f¡sica      Tipo\n",
      "  192.168.216.255       ff-ff-ff-ff-ff-ff     est tico  \n",
      "  224.0.0.22            01-00-5e-00-00-16     est tico  \n",
      "  224.0.0.251           01-00-5e-00-00-fb     est tico  \n",
      "  224.0.0.252           01-00-5e-00-00-fc     est tico  \n",
      "  239.255.255.250       01-00-5e-7f-ff-fa     est tico  \n",
      "\n",
      "Interfaz: 192.168.229.1 --- 0x12\n",
      "  Direcci¢n de Internet          Direcci¢n f¡sica      Tipo\n",
      "  192.168.229.255       ff-ff-ff-ff-ff-ff     est tico  \n",
      "  224.0.0.22            01-00-5e-00-00-16     est tico  \n",
      "  224.0.0.251           01-00-5e-00-00-fb     est tico  \n",
      "  224.0.0.252           01-00-5e-00-00-fc     est tico  \n",
      "  239.255.255.250       01-00-5e-7f-ff-fa     est tico  \n",
      "\n",
      "Interfaz: 192.168.193.1 --- 0x16\n",
      "  Direcci¢n de Internet          Direcci¢n f¡sica      Tipo\n",
      "  192.168.193.255       ff-ff-ff-ff-ff-ff     est tico  \n",
      "  224.0.0.22            01-00-5e-00-00-16     est tico  \n",
      "  224.0.0.251           01-00-5e-00-00-fb     est tico  \n",
      "  224.0.0.252           01-00-5e-00-00-fc     est tico  \n",
      "  239.255.255.250       01-00-5e-7f-ff-fa     est tico  \n",
      "\n",
      "Interfaz: 192.168.106.1 --- 0x17\n",
      "  Direcci¢n de Internet          Direcci¢n f¡sica      Tipo\n",
      "  192.168.106.255       ff-ff-ff-ff-ff-ff     est tico  \n",
      "  224.0.0.22            01-00-5e-00-00-16     est tico  \n",
      "  224.0.0.251           01-00-5e-00-00-fb     est tico  \n",
      "  224.0.0.252           01-00-5e-00-00-fc     est tico  \n",
      "  239.255.255.250       01-00-5e-7f-ff-fa     est tico  \n",
      "\n",
      "Interfaz: 192.168.37.1 --- 0x19\n",
      "  Direcci¢n de Internet          Direcci¢n f¡sica      Tipo\n",
      "  192.168.37.255        ff-ff-ff-ff-ff-ff     est tico  \n",
      "  224.0.0.22            01-00-5e-00-00-16     est tico  \n",
      "  224.0.0.251           01-00-5e-00-00-fb     est tico  \n",
      "  224.0.0.252           01-00-5e-00-00-fc     est tico  \n",
      "  239.255.255.250       01-00-5e-7f-ff-fa     est tico  \n",
      "\n",
      "Interfaz: 192.168.138.1 --- 0x1a\n",
      "  Direcci¢n de Internet          Direcci¢n f¡sica      Tipo\n",
      "  192.168.138.255       ff-ff-ff-ff-ff-ff     est tico  \n",
      "  224.0.0.22            01-00-5e-00-00-16     est tico  \n",
      "  224.0.0.251           01-00-5e-00-00-fb     est tico  \n",
      "  224.0.0.252           01-00-5e-00-00-fc     est tico  \n",
      "  239.255.255.250       01-00-5e-7f-ff-fa     est tico  \n",
      "\n",
      "Interfaz: 192.168.232.1 --- 0x1c\n",
      "  Direcci¢n de Internet          Direcci¢n f¡sica      Tipo\n",
      "  192.168.232.255       ff-ff-ff-ff-ff-ff     est tico  \n",
      "  224.0.0.22            01-00-5e-00-00-16     est tico  \n",
      "  224.0.0.251           01-00-5e-00-00-fb     est tico  \n",
      "  224.0.0.252           01-00-5e-00-00-fc     est tico  \n",
      "  239.255.255.250       01-00-5e-7f-ff-fa     est tico  \n",
      "\n",
      "Interfaz: 192.168.151.1 --- 0x1e\n",
      "  Direcci¢n de Internet          Direcci¢n f¡sica      Tipo\n",
      "  192.168.151.255       ff-ff-ff-ff-ff-ff     est tico  \n",
      "  224.0.0.22            01-00-5e-00-00-16     est tico  \n",
      "  224.0.0.251           01-00-5e-00-00-fb     est tico  \n",
      "  224.0.0.252           01-00-5e-00-00-fc     est tico  \n",
      "  239.255.255.250       01-00-5e-7f-ff-fa     est tico  \n",
      "\n",
      "Interfaz: 192.168.248.1 --- 0x20\n",
      "  Direcci¢n de Internet          Direcci¢n f¡sica      Tipo\n",
      "  192.168.248.255       ff-ff-ff-ff-ff-ff     est tico  \n",
      "  224.0.0.22            01-00-5e-00-00-16     est tico  \n",
      "  224.0.0.251           01-00-5e-00-00-fb     est tico  \n",
      "  224.0.0.252           01-00-5e-00-00-fc     est tico  \n",
      "  239.255.255.250       01-00-5e-7f-ff-fa     est tico  \n",
      "\n",
      "Interfaz: 192.168.104.1 --- 0x21\n",
      "  Direcci¢n de Internet          Direcci¢n f¡sica      Tipo\n",
      "  192.168.104.255       ff-ff-ff-ff-ff-ff     est tico  \n",
      "  224.0.0.22            01-00-5e-00-00-16     est tico  \n",
      "  224.0.0.251           01-00-5e-00-00-fb     est tico  \n",
      "  224.0.0.252           01-00-5e-00-00-fc     est tico  \n",
      "  239.255.255.250       01-00-5e-7f-ff-fa     est tico  \n",
      "\n",
      "Interfaz: 192.168.254.1 --- 0x23\n",
      "  Direcci¢n de Internet          Direcci¢n f¡sica      Tipo\n",
      "  192.168.254.255       ff-ff-ff-ff-ff-ff     est tico  \n",
      "  224.0.0.22            01-00-5e-00-00-16     est tico  \n",
      "  224.0.0.251           01-00-5e-00-00-fb     est tico  \n",
      "  224.0.0.252           01-00-5e-00-00-fc     est tico  \n",
      "  239.255.255.250       01-00-5e-7f-ff-fa     est tico  \n",
      "\n",
      "Interfaz: 192.168.125.1 --- 0x24\n",
      "  Direcci¢n de Internet          Direcci¢n f¡sica      Tipo\n",
      "  192.168.125.255       ff-ff-ff-ff-ff-ff     est tico  \n",
      "  224.0.0.22            01-00-5e-00-00-16     est tico  \n",
      "  224.0.0.251           01-00-5e-00-00-fb     est tico  \n",
      "  224.0.0.252           01-00-5e-00-00-fc     est tico  \n",
      "  239.255.255.250       01-00-5e-7f-ff-fa     est tico  \n",
      "\n",
      "Interfaz: 192.168.133.1 --- 0x25\n",
      "  Direcci¢n de Internet          Direcci¢n f¡sica      Tipo\n",
      "  192.168.133.255       ff-ff-ff-ff-ff-ff     est tico  \n",
      "  224.0.0.22            01-00-5e-00-00-16     est tico  \n",
      "  224.0.0.251           01-00-5e-00-00-fb     est tico  \n",
      "  224.0.0.252           01-00-5e-00-00-fc     est tico  \n",
      "  239.255.255.250       01-00-5e-7f-ff-fa     est tico  \n",
      "\n",
      "Interfaz: 192.168.68.1 --- 0x28\n",
      "  Direcci¢n de Internet          Direcci¢n f¡sica      Tipo\n",
      "  192.168.68.255        ff-ff-ff-ff-ff-ff     est tico  \n",
      "  224.0.0.22            01-00-5e-00-00-16     est tico  \n",
      "  224.0.0.251           01-00-5e-00-00-fb     est tico  \n",
      "  224.0.0.252           01-00-5e-00-00-fc     est tico  \n",
      "  239.255.255.250       01-00-5e-7f-ff-fa     est tico  \n",
      "\n",
      "Interfaz: 192.168.15.8 --- 0x29\n",
      "  Direcci¢n de Internet          Direcci¢n f¡sica      Tipo\n",
      "  192.168.15.1          2a-02-71-87-5b-6a     din mico  \n",
      "  192.168.15.11         0e-6a-7f-22-c8-98     din mico  \n",
      "  192.168.15.255        ff-ff-ff-ff-ff-ff     est tico  \n",
      "  224.0.0.22            01-00-5e-00-00-16     est tico  \n",
      "  224.0.0.251           01-00-5e-00-00-fb     est tico  \n",
      "  224.0.0.252           01-00-5e-00-00-fc     est tico  \n",
      "  239.255.255.250       01-00-5e-7f-ff-fa     est tico  \n",
      "  255.255.255.255       ff-ff-ff-ff-ff-ff     est tico  \n",
      "\n"
     ]
    }
   ],
   "source": [
    "import os\n",
    "output = os.popen(\"arp -a\").read()\n",
    "print(output)"
   ]
  },
  {
   "cell_type": "code",
   "execution_count": 27,
   "metadata": {},
   "outputs": [
    {
     "name": "stdout",
     "output_type": "stream",
     "text": [
      "\n",
      "Haciendo ping a www.google.com [216.58.194.132] con 32 bytes de datos:\n",
      "Respuesta desde 216.58.194.132: bytes=32 tiempo=36ms TTL=108\n",
      "Respuesta desde 216.58.194.132: bytes=32 tiempo=37ms TTL=108\n",
      "Respuesta desde 216.58.194.132: bytes=32 tiempo=34ms TTL=108\n",
      "\n",
      "Estad¡sticas de ping para 216.58.194.132:\n",
      "    Paquetes: enviados = 3, recibidos = 3, perdidos = 0\n",
      "    (0% perdidos),\n",
      "Tiempos aproximados de ida y vuelta en milisegundos:\n",
      "    M¡nimo = 34ms, M ximo = 37ms, Media = 35ms\n",
      "\n"
     ]
    }
   ],
   "source": [
    "output = os.popen(\"ping -n 3 www.google.com\").read()\n",
    "print(output)"
   ]
  },
  {
   "cell_type": "code",
   "execution_count": 28,
   "metadata": {},
   "outputs": [
    {
     "name": "stdout",
     "output_type": "stream",
     "text": [
      " El volumen de la unidad C no tiene etiqueta.\n",
      " El n£mero de serie del volumen es: 0CDC-AF0E\n",
      "\n",
      " Directorio de C:\\Users\\jmlom\\Documents\\GitHubRepositories\\python-notes\\files\\working\n",
      "\n",
      "25/11/2020  09:57    <DIR>          .\n",
      "25/11/2020  09:57    <DIR>          ..\n",
      "15/11/2020  18:18                12 happy.txt\n",
      "15/11/2020  18:18               104 multi.txt\n",
      "25/11/2020  09:57            15,404 newfile.txt\n",
      "25/11/2020  09:54            15,419 text.txt\n",
      "               4 archivos         30,939 bytes\n",
      "               2 dirs  60,993,327,104 bytes libres\n",
      "\n"
     ]
    }
   ],
   "source": [
    "output = os.popen(\"dir\").read()\n",
    "print(output)"
   ]
  },
  {
   "cell_type": "code",
   "execution_count": 31,
   "metadata": {},
   "outputs": [
    {
     "data": {
      "text/plain": [
       "0"
      ]
     },
     "execution_count": 31,
     "metadata": {},
     "output_type": "execute_result"
    }
   ],
   "source": [
    "# The os has a system module, but is not recommended\n",
    "output = os.system(\"dir\")\n",
    "output"
   ]
  },
  {
   "cell_type": "code",
   "execution_count": 32,
   "metadata": {},
   "outputs": [
    {
     "name": "stdout",
     "output_type": "stream",
     "text": [
      "['ABOVE_NORMAL_PRIORITY_CLASS', 'BELOW_NORMAL_PRIORITY_CLASS', 'CREATE_BREAKAWAY_FROM_JOB', 'CREATE_DEFAULT_ERROR_MODE', 'CREATE_NEW_CONSOLE', 'CREATE_NEW_PROCESS_GROUP', 'CREATE_NO_WINDOW', 'CalledProcessError', 'CompletedProcess', 'DETACHED_PROCESS', 'DEVNULL', 'HIGH_PRIORITY_CLASS', 'Handle', 'IDLE_PRIORITY_CLASS', 'NORMAL_PRIORITY_CLASS', 'PIPE', 'Popen', 'REALTIME_PRIORITY_CLASS', 'STARTF_USESHOWWINDOW', 'STARTF_USESTDHANDLES', 'STARTUPINFO', 'STDOUT', 'STD_ERROR_HANDLE', 'STD_INPUT_HANDLE', 'STD_OUTPUT_HANDLE', 'SW_HIDE', 'SubprocessError', 'TimeoutExpired', '__all__', '__builtins__', '__cached__', '__doc__', '__file__', '__loader__', '__name__', '__package__', '__spec__', '__warningregistry__', '_active', '_args_from_interpreter_flags', '_cleanup', '_mswindows', '_optim_args_from_interpreter_flags', '_time', '_winapi', 'builtins', 'call', 'check_call', 'check_output', 'errno', 'getoutput', 'getstatusoutput', 'io', 'list2cmdline', 'msvcrt', 'os', 'run', 'signal', 'sys', 'threading', 'time', 'warnings']\n"
     ]
    }
   ],
   "source": [
    "# The subprocess module is more powerfull\n",
    "import subprocess\n",
    "print(dir(subprocess))"
   ]
  },
  {
   "cell_type": "code",
   "execution_count": 44,
   "metadata": {},
   "outputs": [
    {
     "name": "stdout",
     "output_type": "stream",
     "text": [
      "<class 'bytes'>\n"
     ]
    },
    {
     "ename": "UnicodeDecodeError",
     "evalue": "'utf-8' codec can't decode byte 0xa2 in position 44: invalid start byte",
     "output_type": "error",
     "traceback": [
      "\u001b[1;31m---------------------------------------------------------------------------\u001b[0m",
      "\u001b[1;31mUnicodeDecodeError\u001b[0m                        Traceback (most recent call last)",
      "\u001b[1;32m<ipython-input-44-ecc2a148b72e>\u001b[0m in \u001b[0;36m<module>\u001b[1;34m\u001b[0m\n\u001b[0;32m      4\u001b[0m \u001b[0mprint\u001b[0m\u001b[1;33m(\u001b[0m\u001b[0mtype\u001b[0m\u001b[1;33m(\u001b[0m\u001b[0moutput\u001b[0m\u001b[1;33m)\u001b[0m\u001b[1;33m)\u001b[0m\u001b[1;33m\u001b[0m\u001b[1;33m\u001b[0m\u001b[0m\n\u001b[0;32m      5\u001b[0m \u001b[1;31m# To convert it to string\u001b[0m\u001b[1;33m\u001b[0m\u001b[1;33m\u001b[0m\u001b[1;33m\u001b[0m\u001b[0m\n\u001b[1;32m----> 6\u001b[1;33m \u001b[0mprint\u001b[0m\u001b[1;33m(\u001b[0m\u001b[0moutput\u001b[0m\u001b[1;33m.\u001b[0m\u001b[0mdecode\u001b[0m\u001b[1;33m(\u001b[0m\u001b[1;34m'utf-8'\u001b[0m\u001b[1;33m)\u001b[0m\u001b[1;33m)\u001b[0m\u001b[1;33m\u001b[0m\u001b[1;33m\u001b[0m\u001b[0m\n\u001b[0m",
      "\u001b[1;31mUnicodeDecodeError\u001b[0m: 'utf-8' codec can't decode byte 0xa2 in position 44: invalid start byte"
     ]
    }
   ],
   "source": [
    "# call process and check_call to run a command and check_output runs a commands and gets output\n",
    "cmd = [\"arp\", \"-a\"]\n",
    "output = subprocess.check_output(cmd)\n",
    "print(type(output))\n",
    "# To convert it to string\n",
    "print(output.decode('utf-8'))"
   ]
  },
  {
   "cell_type": "code",
   "execution_count": 35,
   "metadata": {},
   "outputs": [
    {
     "name": "stdout",
     "output_type": "stream",
     "text": [
      "b'\\r\\nHaciendo ping a www.google.com [216.58.194.132] con 32 bytes de datos:\\r\\nRespuesta desde 216.58.194.132: bytes=32 tiempo=127ms TTL=108\\r\\nRespuesta desde 216.58.194.132: bytes=32 tiempo=36ms TTL=108\\r\\nRespuesta desde 216.58.194.132: bytes=32 tiempo=36ms TTL=108\\r\\n\\r\\nEstad\\xa1sticas de ping para 216.58.194.132:\\r\\n    Paquetes: enviados = 3, recibidos = 3, perdidos = 0\\r\\n    (0% perdidos),\\r\\nTiempos aproximados de ida y vuelta en milisegundos:\\r\\n    M\\xa1nimo = 36ms, M\\xa0ximo = 127ms, Media = 66ms\\r\\n'\n"
     ]
    }
   ],
   "source": [
    "cmd = [\"ping\", \"-n\", \"3\", \"www.google.com\"]\n",
    "print(subprocess.check_output(cmd))"
   ]
  },
  {
   "cell_type": "markdown",
   "metadata": {},
   "source": [
    "### The random module\n",
    "\n",
    "Python uses a pseudorandom generator, that is the reason that this modulo should not be uses for security. "
   ]
  },
  {
   "cell_type": "code",
   "execution_count": 45,
   "metadata": {},
   "outputs": [],
   "source": [
    "import random"
   ]
  },
  {
   "cell_type": "code",
   "execution_count": 46,
   "metadata": {},
   "outputs": [
    {
     "data": {
      "text/plain": [
       "0.5332958904529628"
      ]
     },
     "execution_count": 46,
     "metadata": {},
     "output_type": "execute_result"
    }
   ],
   "source": [
    "# Random number generated between o and 1\n",
    "random.random()"
   ]
  },
  {
   "cell_type": "code",
   "execution_count": 47,
   "metadata": {},
   "outputs": [
    {
     "data": {
      "text/plain": [
       "11.839665128156543"
      ]
     },
     "execution_count": 47,
     "metadata": {},
     "output_type": "execute_result"
    }
   ],
   "source": [
    "# Random number generater withing a range\n",
    "random.uniform(4, 16)"
   ]
  },
  {
   "cell_type": "code",
   "execution_count": 48,
   "metadata": {},
   "outputs": [
    {
     "data": {
      "text/plain": [
       "4"
      ]
     },
     "execution_count": 48,
     "metadata": {},
     "output_type": "execute_result"
    }
   ],
   "source": [
    "# But if we want a integer number\n",
    "random.randint(4, 16)"
   ]
  },
  {
   "cell_type": "code",
   "execution_count": 52,
   "metadata": {},
   "outputs": [
    {
     "data": {
      "text/plain": [
       "6"
      ]
     },
     "execution_count": 52,
     "metadata": {},
     "output_type": "execute_result"
    }
   ],
   "source": [
    "# But if we want a integer number\n",
    "random.randrange(0, 10, 2)"
   ]
  },
  {
   "cell_type": "code",
   "execution_count": 53,
   "metadata": {},
   "outputs": [
    {
     "data": {
      "text/plain": [
       "'apple'"
      ]
     },
     "execution_count": 53,
     "metadata": {},
     "output_type": "execute_result"
    }
   ],
   "source": [
    "# We can choose from a sequence\n",
    "random.choice([\"apple\", \"mango\", \"pear\"])"
   ]
  },
  {
   "cell_type": "code",
   "execution_count": 67,
   "metadata": {},
   "outputs": [
    {
     "data": {
      "text/plain": [
       "[22, 77, 36, 69, 14]"
      ]
     },
     "execution_count": 67,
     "metadata": {},
     "output_type": "execute_result"
    }
   ],
   "source": [
    "# if we want a sequence\n",
    "total = list(range(100))\n",
    "random.sample(total, 5)"
   ]
  },
  {
   "cell_type": "code",
   "execution_count": 73,
   "metadata": {},
   "outputs": [
    {
     "name": "stdout",
     "output_type": "stream",
     "text": [
      "['b', 'a', 'd', 'c', 'e']\n"
     ]
    }
   ],
   "source": [
    "my_list2 = list(\"abcde\")\n",
    "random.shuffle(my_list2)\n",
    "print(my_list2)"
   ]
  },
  {
   "cell_type": "code",
   "execution_count": 74,
   "metadata": {},
   "outputs": [
    {
     "data": {
      "text/plain": [
       "0.6088533088884466"
      ]
     },
     "execution_count": 74,
     "metadata": {},
     "output_type": "execute_result"
    }
   ],
   "source": [
    "# With the systemrandom, we can select the random utilities from the OS guest system.\n",
    "r = random.SystemRandom()\n",
    "r.random()"
   ]
  },
  {
   "cell_type": "code",
   "execution_count": 75,
   "metadata": {},
   "outputs": [
    {
     "data": {
      "text/plain": [
       "9"
      ]
     },
     "execution_count": 75,
     "metadata": {},
     "output_type": "execute_result"
    }
   ],
   "source": [
    "r.randint(3,10)"
   ]
  },
  {
   "cell_type": "markdown",
   "metadata": {},
   "source": [
    "### The isclose module (math module)\n",
    "\n",
    "Some float numbers cannot be repeersented by a finate number, they have an infine number of decimal digits.\n",
    "\n",
    "Because the infinite binary representation, we see issues when operating with float numbers"
   ]
  },
  {
   "cell_type": "code",
   "execution_count": 76,
   "metadata": {},
   "outputs": [
    {
     "data": {
      "text/plain": [
       "'0.33333333333333331483'"
      ]
     },
     "execution_count": 76,
     "metadata": {},
     "output_type": "execute_result"
    }
   ],
   "source": [
    "format(1/3, \".20f\")"
   ]
  },
  {
   "cell_type": "code",
   "execution_count": 77,
   "metadata": {},
   "outputs": [
    {
     "data": {
      "text/plain": [
       "'0.10000000000000000555'"
      ]
     },
     "execution_count": 77,
     "metadata": {},
     "output_type": "execute_result"
    }
   ],
   "source": [
    "format(0.1, \".20f\")"
   ]
  },
  {
   "cell_type": "code",
   "execution_count": 78,
   "metadata": {},
   "outputs": [
    {
     "data": {
      "text/plain": [
       "False"
      ]
     },
     "execution_count": 78,
     "metadata": {},
     "output_type": "execute_result"
    }
   ],
   "source": [
    "a = 0.1\n",
    "b = 0.3\n",
    "a * 3 == b"
   ]
  },
  {
   "cell_type": "code",
   "execution_count": null,
   "metadata": {},
   "outputs": [],
   "source": [
    "### there is also the decimal module"
   ]
  },
  {
   "cell_type": "code",
   "execution_count": 83,
   "metadata": {},
   "outputs": [
    {
     "data": {
      "text/plain": [
       "Decimal('0.1')"
      ]
     },
     "execution_count": 83,
     "metadata": {},
     "output_type": "execute_result"
    }
   ],
   "source": [
    "from decimal import Decimal\n",
    "a = Decimal(\"0.1\")\n",
    "a"
   ]
  },
  {
   "cell_type": "code",
   "execution_count": 85,
   "metadata": {},
   "outputs": [
    {
     "data": {
      "text/plain": [
       "Decimal('4')"
      ]
     },
     "execution_count": 85,
     "metadata": {},
     "output_type": "execute_result"
    }
   ],
   "source": [
    "b = Decimal(4)\n",
    "b"
   ]
  },
  {
   "cell_type": "code",
   "execution_count": 88,
   "metadata": {},
   "outputs": [
    {
     "data": {
      "text/plain": [
       "False"
      ]
     },
     "execution_count": 88,
     "metadata": {},
     "output_type": "execute_result"
    }
   ],
   "source": [
    "Decimal(0.1) == Decimal(\"0.1\")"
   ]
  },
  {
   "cell_type": "code",
   "execution_count": 89,
   "metadata": {},
   "outputs": [
    {
     "data": {
      "text/plain": [
       "True"
      ]
     },
     "execution_count": 89,
     "metadata": {},
     "output_type": "execute_result"
    }
   ],
   "source": [
    "Decimal(1) == Decimal(\"1\")"
   ]
  },
  {
   "cell_type": "code",
   "execution_count": 91,
   "metadata": {},
   "outputs": [
    {
     "data": {
      "text/plain": [
       "True"
      ]
     },
     "execution_count": 91,
     "metadata": {},
     "output_type": "execute_result"
    }
   ],
   "source": [
    "b = Decimal(\"0.1\")\n",
    "b + b + b == Decimal(\"0.3\")"
   ]
  },
  {
   "cell_type": "code",
   "execution_count": 93,
   "metadata": {},
   "outputs": [
    {
     "data": {
      "text/plain": [
       "Context(prec=28, rounding=ROUND_HALF_EVEN, Emin=-999999, Emax=999999, capitals=1, clamp=0, flags=[], traps=[InvalidOperation, DivisionByZero, Overflow])"
      ]
     },
     "execution_count": 93,
     "metadata": {},
     "output_type": "execute_result"
    }
   ],
   "source": [
    "decimal.getcontext()"
   ]
  },
  {
   "cell_type": "code",
   "execution_count": null,
   "metadata": {},
   "outputs": [],
   "source": []
  }
 ],
 "metadata": {
  "kernelspec": {
   "display_name": "Python 3",
   "language": "python",
   "name": "python3"
  },
  "language_info": {
   "codemirror_mode": {
    "name": "ipython",
    "version": 3
   },
   "file_extension": ".py",
   "mimetype": "text/x-python",
   "name": "python",
   "nbconvert_exporter": "python",
   "pygments_lexer": "ipython3",
   "version": "3.7.4"
  }
 },
 "nbformat": 4,
 "nbformat_minor": 2
}

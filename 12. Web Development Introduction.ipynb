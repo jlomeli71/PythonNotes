{
 "cells": [
  {
   "cell_type": "markdown",
   "metadata": {},
   "source": [
    "# Web Development Introduction"
   ]
  },
  {
   "cell_type": "markdown",
   "metadata": {},
   "source": [
    "## Sections\n",
    "- [Website](#Website)\n",
    "- [Flask](#Flask)\n",
    "- [Django](#Django)"
   ]
  },
  {
   "cell_type": "markdown",
   "metadata": {},
   "source": [
    "## Website\n",
    "\n",
    "For comunication to a website, we requite the protocolos [http](https://en.wikipedia.org/wiki/Hypertext_Transfer_Protocol) or [https](https://en.wikipedia.org/wiki/HTTPS) (for secure comunication).\n",
    "\n",
    "A website is stored in a server, Python can be run in a server to run a website. One popular Python Framework for Websites is [Flask](https://flask.palletsprojects.com/)."
   ]
  },
  {
   "cell_type": "markdown",
   "metadata": {},
   "source": [
    "[Go back](#Sections)"
   ]
  },
  {
   "cell_type": "markdown",
   "metadata": {},
   "source": [
    "## Flask\n",
    "\n",
    "Flask is a Python Framework that includes several linraries prebuild to help building a webserver."
   ]
  },
  {
   "cell_type": "code",
   "execution_count": 9,
   "metadata": {},
   "outputs": [
    {
     "name": "stdout",
     "output_type": "stream",
     "text": [
      " El volumen de la unidad C no tiene etiqueta.\n",
      " El n£mero de serie del volumen es: 0CDC-AF0E\n",
      "\n",
      " Directorio de C:\\Users\\jmlom\\Documents\\GitHubRepositories\\python_practice\\files\\webserver\n",
      "\n",
      "14/11/2020  15:26    <DIR>          .\n",
      "14/11/2020  15:26    <DIR>          ..\n",
      "14/11/2020  15:32               401 index.html\n",
      "14/11/2020  15:33                25 script.js\n",
      "14/11/2020  15:29                44 style.css\n",
      "               3 archivos            470 bytes\n",
      "               2 dirs  57,396,285,440 bytes libres\n"
     ]
    }
   ],
   "source": [
    "# I created some file to be used on the servers\n",
    "%ls .\\files\\webserver"
   ]
  },
  {
   "cell_type": "markdown",
   "metadata": {},
   "source": [
    "Setting up a Flask server\n",
    "```\n",
    "> mkdir myproject\n",
    "> python -m venv webserver\n",
    "> .\\webserver\\Scripts\\activate.bat       # if in windows cmd console\n",
    "> (webconsole)\n",
    "> pip install Flask\n",
    "```\n",
    "Also consider in the console:\n",
    "```\n",
    "> set FLASK_APP=server.py\n",
    "> set FLASK_ENV=development         # this will enable to change my python file without shuting down the server\n",
    "> flask run\n",
    "```\n",
    "Then you will see in your console:\n",
    "\n",
    "```\n",
    "(webserver) .\\files\\webserver>flask run\n",
    " * Serving Flask app \"server.py\"\n",
    " * Environment: production\n",
    "   WARNING: This is a development server. Do not use it in a production deployment.\n",
    "   Use a production WSGI server instead.\n",
    " * Debug mode: on\n",
    " * Running on http://127.0.0.1:5000/ (Press CTRL+C to quit)\n",
    " ```"
   ]
  },
  {
   "cell_type": "code",
   "execution_count": null,
   "metadata": {},
   "outputs": [],
   "source": []
  },
  {
   "cell_type": "code",
   "execution_count": null,
   "metadata": {},
   "outputs": [],
   "source": []
  },
  {
   "cell_type": "code",
   "execution_count": null,
   "metadata": {},
   "outputs": [],
   "source": []
  },
  {
   "cell_type": "code",
   "execution_count": null,
   "metadata": {},
   "outputs": [],
   "source": []
  },
  {
   "cell_type": "markdown",
   "metadata": {},
   "source": [
    "## Django\n",
    "\n",
    "Djando for later for now."
   ]
  },
  {
   "cell_type": "code",
   "execution_count": 10,
   "metadata": {},
   "outputs": [],
   "source": [
    "# code"
   ]
  },
  {
   "cell_type": "markdown",
   "metadata": {},
   "source": [
    "[Go back](#Sections)"
   ]
  }
 ],
 "metadata": {
  "kernelspec": {
   "display_name": "Python 3",
   "language": "python",
   "name": "python3"
  },
  "language_info": {
   "codemirror_mode": {
    "name": "ipython",
    "version": 3
   },
   "file_extension": ".py",
   "mimetype": "text/x-python",
   "name": "python",
   "nbconvert_exporter": "python",
   "pygments_lexer": "ipython3",
   "version": "3.7.4"
  }
 },
 "nbformat": 4,
 "nbformat_minor": 2
}

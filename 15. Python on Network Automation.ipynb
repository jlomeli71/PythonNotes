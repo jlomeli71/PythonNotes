{
 "cells": [
  {
   "cell_type": "markdown",
   "metadata": {},
   "source": [
    "# Python on Network Automation"
   ]
  },
  {
   "cell_type": "markdown",
   "metadata": {},
   "source": [
    "# Sections\n",
    "\n",
    "- Serialization\n",
    "- Pickle\n",
    "- JSON\n",
    "\n"
   ]
  },
  {
   "cell_type": "markdown",
   "metadata": {},
   "source": [
    "## Pickle\n",
    "\n",
    "Data Serialization and Deserialization with Pickle\n",
    "\n",
    "Data Serialization is the process to covert Python objects into a format for storage  or transfer.\n",
    "if we try to storage a dictionary to a file, it send an error.\n",
    "\n",
    "Thi issue with picle is that is only Python propietary, non Python programs are able to load the data. Also Picke is not very secure for data transfer. A safer method is JSON."
   ]
  },
  {
   "cell_type": "code",
   "execution_count": 3,
   "metadata": {},
   "outputs": [
    {
     "name": "stdout",
     "output_type": "stream",
     "text": [
      "<class 'dict'>\n",
      "{'Dan': (20, 'London', 13242252), 'Maria': [25, 'Madrid', 34232424]}\n"
     ]
    }
   ],
   "source": [
    "import pickle\n",
    " \n",
    "friends = {\"Dan\": (20, \"London\", 13242252), \"Maria\":[25, \"Madrid\", 34232424]}\n",
    " \n",
    "# Serializing the dictionary to binary file\n",
    "with open(\"files\\\\working\\\\friends.dat\", \"wb\") as file: \n",
    "    pickle.dump(friends, file)\n",
    " \n",
    "# Deserializing into a Python Object\n",
    "with open(\"files\\\\working\\\\friends.dat\", \"rb\") as file:\n",
    "    my_obj = pickle.load(file)\n",
    " \n",
    "    print(type(my_obj))   \n",
    "    print(my_obj)         "
   ]
  },
  {
   "cell_type": "markdown",
   "metadata": {},
   "source": [
    "## JSON \n",
    "\n",
    "JSON is another way to serialize data, one adjantage is that JSON is portable. Also is more secure than pickle.\n",
    "\n",
    "But JSON can only represent a subset of python object types.\n",
    "\n",
    "Python | JSON\n",
    "-------|-----\n",
    "dict   | object\n",
    "list,tuple|array\n",
    "set    | not JSON serializable\n",
    "str    | string\n",
    "int,float|number\n",
    "True   | true\n",
    "False  | false\n",
    "None   | null"
   ]
  },
  {
   "cell_type": "code",
   "execution_count": 10,
   "metadata": {},
   "outputs": [
    {
     "name": "stdout",
     "output_type": "stream",
     "text": [
      "{\n",
      "    \"Dan\": [\n",
      "        20,\n",
      "        \"London\",\n",
      "        13242252\n",
      "    ],\n",
      "    \"Maria\": [\n",
      "        25,\n",
      "        \"Madrid\",\n",
      "        34232424\n",
      "    ]\n",
      "}\n"
     ]
    }
   ],
   "source": [
    "import json\n",
    " \n",
    "friends = {\"Dan\": (20, \"London\", 13242252), \"Maria\":[25, \"Madrid\", 34232424]}\n",
    " \n",
    "# Serializing the dictionary to a text file using dump\n",
    "with open(\"files\\\\working\\\\friends.json\", \"w\") as file:\n",
    "    json.dump(friends, file, indent=4)\n",
    " \n",
    "# Serializing the dictionary to a JSON encoded string using dumps\n",
    "my_json = json.dumps(friends, indent=4)\n",
    "print(my_json)"
   ]
  },
  {
   "cell_type": "code",
   "execution_count": 13,
   "metadata": {},
   "outputs": [
    {
     "name": "stdout",
     "output_type": "stream",
     "text": [
      "<class 'dict'>\n",
      "{'Dan': [20, 'London', 13242252], 'Maria': [25, 'Madrid', 34232424]}\n"
     ]
    }
   ],
   "source": [
    "# Deserializing from file into a Python Object\n",
    "\n",
    "with open(\"files\\\\working\\\\friends.json\", \"rt\") as file:\n",
    "    my_obj = json.load(file)\n",
    " \n",
    "    print(type(my_obj))  \n",
    "    print(my_obj)                "
   ]
  },
  {
   "cell_type": "code",
   "execution_count": 14,
   "metadata": {},
   "outputs": [
    {
     "name": "stdout",
     "output_type": "stream",
     "text": [
      "<class 'dict'>\n",
      "{'Dan': [20, 'London', 13242252], 'Maria': [25, 'Madrid', 34232424]}\n"
     ]
    }
   ],
   "source": [
    "# Loading a JSON encoded string intro a Python Object\n",
    "json_string = \"\"\"\n",
    "{\n",
    "    \"Dan\": [\n",
    "        20,\n",
    "        \"London\",\n",
    "        13242252\n",
    "    ],\n",
    "    \"Maria\": [\n",
    "        25,\n",
    "        \"Madrid\",\n",
    "        34232424\n",
    "    ]\n",
    "}\n",
    "\"\"\"\n",
    "# Deserializing from a JSON string\n",
    "my_obj = json.loads(json_string)\n",
    "print(type(my_obj))   \n",
    "print(my_obj) "
   ]
  },
  {
   "cell_type": "markdown",
   "metadata": {},
   "source": [
    "JSON is very common for APIs\n",
    "\n",
    "There is a free service for testing in \n",
    "\n",
    "[jsonplaceholder](#http://jsonplaceholder.typicode.com/todos)"
   ]
  },
  {
   "cell_type": "code",
   "execution_count": 17,
   "metadata": {},
   "outputs": [
    {
     "name": "stdout",
     "output_type": "stream",
     "text": [
      "<class 'list'>\n",
      "{'userId': 1, 'id': 4, 'title': 'et porro tempora', 'completed': True}\n",
      "{'userId': 1, 'id': 8, 'title': 'quo adipisci enim quam ut ab', 'completed': True}\n",
      "{'userId': 1, 'id': 10, 'title': 'illo est ratione doloremque quia maiores aut', 'completed': True}\n",
      "{'userId': 1, 'id': 11, 'title': 'vero rerum temporibus dolor', 'completed': True}\n",
      "{'userId': 1, 'id': 12, 'title': 'ipsa repellendus fugit nisi', 'completed': True}\n",
      "{'userId': 1, 'id': 14, 'title': 'repellendus sunt dolores architecto voluptatum', 'completed': True}\n",
      "{'userId': 1, 'id': 15, 'title': 'ab voluptatum amet voluptas', 'completed': True}\n",
      "{'userId': 1, 'id': 16, 'title': 'accusamus eos facilis sint et aut voluptatem', 'completed': True}\n",
      "{'userId': 1, 'id': 17, 'title': 'quo laboriosam deleniti aut qui', 'completed': True}\n",
      "{'userId': 1, 'id': 19, 'title': 'molestiae ipsa aut voluptatibus pariatur dolor nihil', 'completed': True}\n",
      "{'userId': 1, 'id': 20, 'title': 'ullam nobis libero sapiente ad optio sint', 'completed': True}\n",
      "{'userId': 2, 'id': 22, 'title': 'distinctio vitae autem nihil ut molestias quo', 'completed': True}\n",
      "{'userId': 2, 'id': 25, 'title': 'voluptas quo tenetur perspiciatis explicabo natus', 'completed': True}\n",
      "{'userId': 2, 'id': 26, 'title': 'aliquam aut quasi', 'completed': True}\n",
      "{'userId': 2, 'id': 27, 'title': 'veritatis pariatur delectus', 'completed': True}\n",
      "{'userId': 2, 'id': 30, 'title': 'nemo perspiciatis repellat ut dolor libero commodi blanditiis omnis', 'completed': True}\n",
      "{'userId': 2, 'id': 35, 'title': 'repellendus veritatis molestias dicta incidunt', 'completed': True}\n",
      "{'userId': 2, 'id': 36, 'title': 'excepturi deleniti adipisci voluptatem et neque optio illum ad', 'completed': True}\n",
      "{'userId': 2, 'id': 40, 'title': 'totam atque quo nesciunt', 'completed': True}\n",
      "{'userId': 3, 'id': 43, 'title': 'tempore ut sint quis recusandae', 'completed': True}\n",
      "{'userId': 3, 'id': 44, 'title': 'cum debitis quis accusamus doloremque ipsa natus sapiente omnis', 'completed': True}\n",
      "{'userId': 3, 'id': 50, 'title': 'cupiditate necessitatibus ullam aut quis dolor voluptate', 'completed': True}\n",
      "{'userId': 3, 'id': 54, 'title': 'quis et est ut voluptate quam dolor', 'completed': True}\n",
      "{'userId': 3, 'id': 55, 'title': 'voluptatum omnis minima qui occaecati provident nulla voluptatem ratione', 'completed': True}\n",
      "{'userId': 3, 'id': 56, 'title': 'deleniti ea temporibus enim', 'completed': True}\n",
      "{'userId': 3, 'id': 60, 'title': 'et sequi qui architecto ut adipisci', 'completed': True}\n",
      "{'userId': 4, 'id': 61, 'title': 'odit optio omnis qui sunt', 'completed': True}\n",
      "{'userId': 4, 'id': 63, 'title': 'doloremque aut dolores quidem fuga qui nulla', 'completed': True}\n",
      "{'userId': 4, 'id': 73, 'title': 'sint amet quia totam corporis qui exercitationem commodi', 'completed': True}\n",
      "{'userId': 4, 'id': 76, 'title': 'sequi dolorem sed', 'completed': True}\n",
      "{'userId': 4, 'id': 79, 'title': 'eum ipsa maxime ut', 'completed': True}\n",
      "{'userId': 4, 'id': 80, 'title': 'tempore molestias dolores rerum sequi voluptates ipsum consequatur', 'completed': True}\n",
      "{'userId': 5, 'id': 81, 'title': 'suscipit qui totam', 'completed': True}\n",
      "{'userId': 5, 'id': 83, 'title': 'quidem at rerum quis ex aut sit quam', 'completed': True}\n",
      "{'userId': 5, 'id': 85, 'title': 'et quia ad iste a', 'completed': True}\n",
      "{'userId': 5, 'id': 86, 'title': 'incidunt ut saepe autem', 'completed': True}\n",
      "{'userId': 5, 'id': 87, 'title': 'laudantium quae eligendi consequatur quia et vero autem', 'completed': True}\n",
      "{'userId': 5, 'id': 89, 'title': 'sequi ut omnis et', 'completed': True}\n",
      "{'userId': 5, 'id': 90, 'title': 'molestiae nisi accusantium tenetur dolorem et', 'completed': True}\n",
      "{'userId': 5, 'id': 91, 'title': 'nulla quis consequatur saepe qui id expedita', 'completed': True}\n",
      "{'userId': 5, 'id': 92, 'title': 'in omnis laboriosam', 'completed': True}\n",
      "{'userId': 5, 'id': 93, 'title': 'odio iure consequatur molestiae quibusdam necessitatibus quia sint', 'completed': True}\n",
      "{'userId': 5, 'id': 95, 'title': 'vel nihil et molestiae iusto assumenda nemo quo ut', 'completed': True}\n",
      "{'userId': 5, 'id': 98, 'title': 'debitis accusantium ut quo facilis nihil quis sapiente necessitatibus', 'completed': True}\n",
      "{'userId': 6, 'id': 105, 'title': 'totam quia dolorem et illum repellat voluptas optio', 'completed': True}\n",
      "{'userId': 6, 'id': 106, 'title': 'ad illo quis voluptatem temporibus', 'completed': True}\n",
      "{'userId': 6, 'id': 108, 'title': 'a eos eaque nihil et exercitationem incidunt delectus', 'completed': True}\n",
      "{'userId': 6, 'id': 109, 'title': 'autem temporibus harum quisquam in culpa', 'completed': True}\n",
      "{'userId': 6, 'id': 110, 'title': 'aut aut ea corporis', 'completed': True}\n",
      "{'userId': 6, 'id': 116, 'title': 'ipsa dolores vel facilis ut', 'completed': True}\n",
      "{'userId': 7, 'id': 121, 'title': 'inventore aut nihil minima laudantium hic qui omnis', 'completed': True}\n",
      "{'userId': 7, 'id': 122, 'title': 'provident aut nobis culpa', 'completed': True}\n",
      "{'userId': 7, 'id': 126, 'title': 'ut asperiores perspiciatis veniam ipsum rerum saepe', 'completed': True}\n",
      "{'userId': 7, 'id': 127, 'title': 'voluptatem libero consectetur rerum ut', 'completed': True}\n",
      "{'userId': 7, 'id': 130, 'title': 'nulla aliquid eveniet harum laborum libero alias ut unde', 'completed': True}\n",
      "{'userId': 7, 'id': 132, 'title': 'qui molestiae voluptatibus velit iure harum quisquam', 'completed': True}\n",
      "{'userId': 7, 'id': 133, 'title': 'et labore eos enim rerum consequatur sunt', 'completed': True}\n",
      "{'userId': 7, 'id': 138, 'title': 'placeat minima consequatur rem qui ut', 'completed': True}\n",
      "{'userId': 7, 'id': 140, 'title': 'aut consectetur in blanditiis deserunt quia sed laboriosam', 'completed': True}\n",
      "{'userId': 8, 'id': 141, 'title': 'explicabo consectetur debitis voluptates quas quae culpa rerum non', 'completed': True}\n",
      "{'userId': 8, 'id': 142, 'title': 'maiores accusantium architecto necessitatibus reiciendis ea aut', 'completed': True}\n",
      "{'userId': 8, 'id': 146, 'title': 'molestiae suscipit ratione nihil odio libero impedit vero totam', 'completed': True}\n",
      "{'userId': 8, 'id': 147, 'title': 'eum itaque quod reprehenderit et facilis dolor autem ut', 'completed': True}\n",
      "{'userId': 8, 'id': 151, 'title': 'accusamus adipisci dicta qui quo ea explicabo sed vero', 'completed': True}\n",
      "{'userId': 8, 'id': 154, 'title': 'rerum non ex sapiente', 'completed': True}\n",
      "{'userId': 8, 'id': 155, 'title': 'voluptatem nobis consequatur et assumenda magnam', 'completed': True}\n",
      "{'userId': 8, 'id': 156, 'title': 'nam quia quia nulla repellat assumenda quibusdam sit nobis', 'completed': True}\n",
      "{'userId': 8, 'id': 157, 'title': 'dolorem veniam quisquam deserunt repellendus', 'completed': True}\n",
      "{'userId': 8, 'id': 158, 'title': 'debitis vitae delectus et harum accusamus aut deleniti a', 'completed': True}\n",
      "{'userId': 8, 'id': 159, 'title': 'debitis adipisci quibusdam aliquam sed dolore ea praesentium nobis', 'completed': True}\n",
      "{'userId': 9, 'id': 161, 'title': 'ex hic consequuntur earum omnis alias ut occaecati culpa', 'completed': True}\n",
      "{'userId': 9, 'id': 162, 'title': 'omnis laboriosam molestias animi sunt dolore', 'completed': True}\n",
      "{'userId': 9, 'id': 169, 'title': 'ea odio perferendis officiis', 'completed': True}\n",
      "{'userId': 9, 'id': 171, 'title': 'fugiat aut voluptatibus corrupti deleniti velit iste odio', 'completed': True}\n",
      "{'userId': 9, 'id': 175, 'title': 'laudantium eius officia perferendis provident perspiciatis asperiores', 'completed': True}\n",
      "{'userId': 9, 'id': 178, 'title': 'nesciunt itaque commodi tempore', 'completed': True}\n",
      "{'userId': 9, 'id': 179, 'title': 'omnis consequuntur cupiditate impedit itaque ipsam quo', 'completed': True}\n",
      "{'userId': 9, 'id': 180, 'title': 'debitis nisi et dolorem repellat et', 'completed': True}\n",
      "{'userId': 10, 'id': 182, 'title': 'inventore saepe cumque et aut illum enim', 'completed': True}\n",
      "{'userId': 10, 'id': 183, 'title': 'omnis nulla eum aliquam distinctio', 'completed': True}\n",
      "{'userId': 10, 'id': 188, 'title': 'vel non beatae est', 'completed': True}\n",
      "{'userId': 10, 'id': 189, 'title': 'culpa eius et voluptatem et', 'completed': True}\n",
      "{'userId': 10, 'id': 190, 'title': 'accusamus sint iusto et voluptatem exercitationem', 'completed': True}\n",
      "{'userId': 10, 'id': 191, 'title': 'temporibus atque distinctio omnis eius impedit tempore molestias pariatur', 'completed': True}\n",
      "{'userId': 10, 'id': 193, 'title': 'rerum debitis voluptatem qui eveniet tempora distinctio a', 'completed': True}\n",
      "{'userId': 10, 'id': 195, 'title': 'rerum ex veniam mollitia voluptatibus pariatur', 'completed': True}\n",
      "{'userId': 10, 'id': 196, 'title': 'consequuntur aut ut fugit similique', 'completed': True}\n",
      "{'userId': 10, 'id': 197, 'title': 'dignissimos quo nobis earum saepe', 'completed': True}\n",
      "{'userId': 10, 'id': 198, 'title': 'quis eius est sint explicabo', 'completed': True}\n",
      "{'userId': 10, 'id': 199, 'title': 'numquam repellendus a magnam', 'completed': True}\n"
     ]
    }
   ],
   "source": [
    "import requests\n",
    "import json\n",
    "\n",
    "response = requests.get(\"https://jsonplaceholder.typicode.com/todos\")\n",
    "# another_response = requests.get(\"https://jsonplaceholder.typicode.com/users\")\n",
    "todos = json.loads(response.text)\n",
    "print(type(todos))\n",
    "# print(todos)\n",
    "for task in todos:\n",
    "    if task[\"completed\"] == True:\n",
    "        print(task)"
   ]
  },
  {
   "cell_type": "markdown",
   "metadata": {},
   "source": [
    "## More excercises with encode() and decode() methods"
   ]
  },
  {
   "cell_type": "code",
   "execution_count": 5,
   "metadata": {},
   "outputs": [
    {
     "name": "stdout",
     "output_type": "stream",
     "text": [
      "<class 'str'>\n",
      "abc\n",
      "<class 'bytes'>\n",
      "b'abc'\n",
      "97\n",
      "98\n",
      "99\n"
     ]
    }
   ],
   "source": [
    "s1 = \"abc\"\n",
    "b1 = s1.encode(\"utf-8\")\n",
    "print(type(s1))\n",
    "print(s1)\n",
    "print(type(b1))\n",
    "print(b1)\n",
    "print(b1[0])\n",
    "print(b1[1])\n",
    "print(b1[2])"
   ]
  },
  {
   "cell_type": "code",
   "execution_count": 9,
   "metadata": {},
   "outputs": [
    {
     "name": "stdout",
     "output_type": "stream",
     "text": [
      "<class 'str'>\n",
      "ñaA\n",
      "<class 'bytes'>\n",
      "b'\\xc3\\xb1aA'\n",
      "195\n",
      "177\n",
      "97\n",
      "ñaA\n"
     ]
    }
   ],
   "source": [
    "s1 = \"ñaA\"\n",
    "b1 = s1.encode(\"utf-8\")\n",
    "print(type(s1))\n",
    "print(s1)\n",
    "print(type(b1))\n",
    "print(b1)\n",
    "print(b1[0])\n",
    "print(b1[1])\n",
    "print(b1[2])\n",
    "s3 = b1.decode()\n",
    "print(s3)"
   ]
  },
  {
   "cell_type": "markdown",
   "metadata": {},
   "source": [
    "## Using Telnet\n",
    "\n",
    "There is a internal python library."
   ]
  },
  {
   "cell_type": "code",
   "execution_count": 25,
   "metadata": {},
   "outputs": [
    {
     "name": "stdout",
     "output_type": "stream",
     "text": [
      "\r\n",
      "R2#terminal length 0\r\n",
      "R2#show ip interface brief\r\n",
      "Interface                  IP-Address      OK? Method Status                Protocol\r\n",
      "GigabitEthernet0/0         172.16.1.2      YES manual up                    up      \r\n",
      "GigabitEthernet0/1         10.1.2.2        YES NVRAM  up                    up      \r\n",
      "GigabitEthernet0/2         unassigned      YES NVRAM  administratively down down    \r\n",
      "GigabitEthernet0/3         10.2.3.2        YES NVRAM  up                    up      \r\n",
      "Loopback0                  2.2.2.2         YES NVRAM  up                    up      \r\n",
      "R2#exit\r\n",
      "\n"
     ]
    }
   ],
   "source": [
    "import telnetlib\n",
    "import time\n",
    "\n",
    "host = \"172.16.1.2\"\n",
    "port = \"23\"\n",
    "user = \"****\"             # For testing purposes you can have your user in the script, bit it is not recommended\n",
    "password = \"****\"          # For testing purposes you can have your password in the script, bit it is not recommended\n",
    "\n",
    "tn = telnetlib.Telnet(host=host, port=port)\n",
    "\n",
    "tn.read_until(b\"Username: \")\n",
    "tn.write(user.encode() + b\"\\n\")\n",
    "tn.read_until(b\"Password: \")\n",
    "tn.write(password.encode() + b\"\\n\")\n",
    "\n",
    "tn.write(b\"terminal length 0\\n\")\n",
    "time.sleep(1)\n",
    "tn.write(b\"show ip interface brief\\n\")  # or tn.write(\"show ip interface brief\\n\".encode())\n",
    "tn.write(b\"exit\\n\")\n",
    "time.sleep(1)\n",
    "\n",
    "output = tn.read_all()\n",
    "output = output.decode()\n",
    "print(output)"
   ]
  },
  {
   "cell_type": "code",
   "execution_count": 26,
   "metadata": {},
   "outputs": [
    {
     "name": "stdout",
     "output_type": "stream",
     "text": [
      "Enter password: ········\n",
      "Connectiong to 172.16.1.1\n",
      "Exiting 172.16.1.1\n",
      "\n",
      "R1#terminal length 0\n",
      "R1#show ip interface brief\n",
      "Interface                  IP-Address      OK? Method Status                Protocol\n",
      "GigabitEthernet0/0         172.16.1.1      YES manual up                    up      \n",
      "GigabitEthernet0/1         10.1.2.1        YES NVRAM  up                    up      \n",
      "GigabitEthernet0/2         10.1.3.1        YES NVRAM  up                    up      \n",
      "GigabitEthernet0/3         unassigned      YES NVRAM  administratively down down    \n",
      "Loopback0                  1.1.1.1         YES NVRAM  up                    up      \n",
      "R1#exit\n",
      "\n",
      "Connectiong to 172.16.1.2\n",
      "Exiting 172.16.1.2\n",
      "\n",
      "R2#terminal length 0\n",
      "R2#show ip interface brief\n",
      "Interface                  IP-Address      OK? Method Status                Protocol\n",
      "GigabitEthernet0/0         172.16.1.2      YES manual up                    up      \n",
      "GigabitEthernet0/1         10.1.2.2        YES NVRAM  up                    up      \n",
      "GigabitEthernet0/2         unassigned      YES NVRAM  administratively down down    \n",
      "GigabitEthernet0/3         10.2.3.2        YES NVRAM  up                    up      \n",
      "Loopback0                  2.2.2.2         YES NVRAM  up                    up      \n",
      "R2#exit\n",
      "\n",
      "Connectiong to 172.16.1.3\n",
      "Exiting 172.16.1.3\n",
      "\n",
      "R3#terminal length 0\n",
      "R3#show ip interface brief\n",
      "Interface                  IP-Address      OK? Method Status                Protocol\n",
      "GigabitEthernet0/0         172.16.1.3      YES manual up                    up      \n",
      "GigabitEthernet0/1         unassigned      YES NVRAM  administratively down down    \n",
      "GigabitEthernet0/2         10.1.3.3        YES NVRAM  up                    up      \n",
      "GigabitEthernet0/3         10.2.3.3        YES NVRAM  up                    up      \n",
      "Loopback0                  3.3.3.3         YES NVRAM  up                    up      \n",
      "R3#exit\n",
      "\n"
     ]
    }
   ],
   "source": [
    "import telnetlib\n",
    "import time\n",
    "import getpass                             # getpass can have issues with PyCharm\n",
    "\n",
    "router1 = {\"host\": \"172.16.1.1\", \"user\": \"lolo\"}\n",
    "router2 = {\"host\": \"172.16.1.2\", \"user\": \"lolo\"}\n",
    "router3 = {\"host\": \"172.16.1.3\", \"user\": \"lolo\"}\n",
    "\n",
    "routers = [router1, router2, router3]\n",
    "\n",
    "password = getpass.getpass(\"Enter password: \")\n",
    "    \n",
    "for router in routers:\n",
    "    print(f\"Connectiong to {router['host']}\")       \n",
    "    tn = telnetlib.Telnet(host=router[\"host\"])\n",
    "    tn.read_until(b\"Username: \")\n",
    "    tn.write(router[\"user\"].encode() + b\"\\n\")\n",
    "    tn.read_until(b\"Password: \")\n",
    "    tn.write(password.encode() + b\"\\n\")\n",
    "\n",
    "    tn.write(b\"terminal length 0\\n\")\n",
    "    time.sleep(1)\n",
    "    tn.write(b\"show ip interface brief\\n\")  # or tn.write(\"show ip interface brief\\n\".encode())\n",
    "    print(f\"Exiting {router['host']}\")      \n",
    "    tn.write(b\"exit\\n\")\n",
    "    time.sleep(1)\n",
    "\n",
    "    output = tn.read_all()\n",
    "    output = output.decode()\n",
    "    print(output)"
   ]
  },
  {
   "cell_type": "markdown",
   "metadata": {},
   "source": [
    "## Using Paramiko\n",
    "\n",
    "Paramiko is a Python implementation of SSHv2.\n",
    "\n",
    "It is an external library (requires installation)."
   ]
  },
  {
   "cell_type": "code",
   "execution_count": 6,
   "metadata": {},
   "outputs": [
    {
     "name": "stdout",
     "output_type": "stream",
     "text": [
      "Connecting to ...\n",
      "Closing connection to ...\n"
     ]
    }
   ],
   "source": [
    "import paramiko\n",
    "\n",
    "ssh_client = paramiko.SSHClient()\n",
    "# print(type(ssh_client))\n",
    "\n",
    "print(\"Connecting to ...\")\n",
    "ssh_client.set_missing_host_key_policy(paramiko.AutoAddPolicy())\n",
    "ssh_client.connect(hostname=\"172.16.1.1\", port=\"22\", username=\"cisco\", password=\"cisco\",\n",
    "                  look_for_keys=False, allow_agent=False)\n",
    "\n",
    "# print(ssh_client.get_transport().is_active())\n",
    "\n",
    "# sending commands\n",
    "\n",
    "\n",
    "# Closing client\n",
    "print(\"Closing connection to ...\")\n",
    "ssh_client.close()"
   ]
  },
  {
   "cell_type": "code",
   "execution_count": 15,
   "metadata": {},
   "outputs": [
    {
     "name": "stdout",
     "output_type": "stream",
     "text": [
      "Connecting to 172.16.1.1\n",
      "<class 'bytes'>\n",
      "\n",
      "**************************************************************************\n",
      "* IOSv is strictly limited to use for evaluation, demonstration and IOS  *\n",
      "* education. IOSv is provided as-is and is not supported by Cisco's      *\n",
      "* Technical Advisory Center. Any use or disclosure, in whole or in part, *\n",
      "* of the IOSv Software or Documentation to any third party for any       *\n",
      "* purposes is expressly prohibited except as otherwise authorized by     *\n",
      "* Cisco in writing.                                                      *\n",
      "**************************************************************************\n",
      "R1#terminal length 0\n",
      "R1#show ip interface brief\n",
      "Interface                  IP-Address      OK? Method Status                Protocol\n",
      "GigabitEthernet0/0         172.16.1.1      YES NVRAM  up                    up      \n",
      "GigabitEthernet0/1         10.1.2.1        YES NVRAM  up                    up      \n",
      "GigabitEthernet0/2         10.1.3.1        YES NVRAM  up                    up      \n",
      "GigabitEthernet0/3         unassigned      YES NVRAM  administratively down down    \n",
      "Loopback0                  1.1.1.1         YES NVRAM  up                    up      \n",
      "R1#\n",
      "Closing connection to 172.16.1.1\n"
     ]
    }
   ],
   "source": [
    "router = {\n",
    "    \"hostname\": \"172.16.1.1\",\n",
    "    \"port\": 22,\n",
    "    \"username\": \"cisco\",\n",
    "    \"password\": \"cisco\"\n",
    "}\n",
    "\n",
    "import paramiko\n",
    "import time\n",
    "\n",
    "ssh_client = paramiko.SSHClient()\n",
    "# print(type(ssh_client))\n",
    "\n",
    "print(f\"Connecting to {router['hostname']}\")\n",
    "ssh_client.set_missing_host_key_policy(paramiko.AutoAddPolicy())\n",
    "\n",
    "ssh_client.connect(**router, look_for_keys=False, allow_agent=False)\n",
    "\n",
    "# sending commands\n",
    "\n",
    "shell = ssh_client.invoke_shell()\n",
    "shell.send(\"terminal length 0\\n\")\n",
    "time.sleep(1)      \n",
    "shell.send(\"show ip interface brief\\n\")\n",
    "time.sleep(1)\n",
    "      \n",
    "output = shell.recv(10000)\n",
    "print(type(output))\n",
    "output = output.decode(\"utf-8\")\n",
    "print(output)\n",
    "      \n",
    "# Closing client\n",
    "if ssh_client.get_transport().is_active():\n",
    "    print(f\"Closing connection to {router['hostname']}\")\n",
    "    ssh_client.close()"
   ]
  },
  {
   "cell_type": "code",
   "execution_count": 24,
   "metadata": {},
   "outputs": [],
   "source": [
    "# Using SCP for copying files\n",
    "\n",
    "router = {\n",
    "    \"hostname\": \"172.16.1.1\",\n",
    "    \"port\": 22,\n",
    "    \"username\": \"cisco\",\n",
    "    \"password\": \"cisco\"\n",
    "}\n",
    "\n",
    "import paramiko\n",
    "import time\n",
    "from scp import SCPClient\n",
    "\n",
    "ssh_client = paramiko.SSHClient()              # in a cisco router you need to enable\n",
    "ssh_client.load_system_host_keys()             # ip scp server enable \n",
    "ssh_client.set_missing_host_key_policy(paramiko.AutoAddPolicy())\n",
    "\n",
    "ssh_client.connect(**router, look_for_keys=False, allow_agent=False)\n",
    "\n",
    "scp = SCPClient(ssh_client.get_transport())\n",
    "\n",
    "scp.get(\"e1000_bia.txt\", \"files\")           # You can also use scp.put()\n",
    "scp.close()"
   ]
  },
  {
   "cell_type": "code",
   "execution_count": 27,
   "metadata": {},
   "outputs": [
    {
     "name": "stdout",
     "output_type": "stream",
     "text": [
      " El volumen de la unidad C no tiene etiqueta.\n",
      " El n£mero de serie del volumen es: 0CDC-AF0E\n",
      "\n",
      " Directorio de C:\\Users\\jmlom\\Documents\\GitHubRepositories\\python-notes\\files\n",
      "\n",
      "06/01/2021  19:27                79 e1000_bia.txt\n",
      "               1 archivos             79 bytes\n",
      "               0 dirs  56,229,888,000 bytes libres\n"
     ]
    }
   ],
   "source": [
    "ls files\\e1000_bia.txt"
   ]
  },
  {
   "cell_type": "markdown",
   "metadata": {},
   "source": [
    "## Using Netmiko\n",
    "\n",
    "Netmiko is a multi-vendor networking library based on Paramiko.\n",
    "\n",
    "Paramiko requires installation."
   ]
  },
  {
   "cell_type": "code",
   "execution_count": 37,
   "metadata": {},
   "outputs": [
    {
     "name": "stdout",
     "output_type": "stream",
     "text": [
      "Interface                  IP-Address      OK? Method Status                Protocol\n",
      "GigabitEthernet0/0         172.16.1.1      YES NVRAM  up                    up      \n",
      "GigabitEthernet0/1         10.1.2.1        YES NVRAM  up                    up      \n",
      "GigabitEthernet0/2         10.1.3.1        YES NVRAM  up                    up      \n",
      "GigabitEthernet0/3         unassigned      YES NVRAM  administratively down down    \n",
      "Loopback0                  1.1.1.1         YES NVRAM  up                    up      \n",
      "Clossing connection\n"
     ]
    }
   ],
   "source": [
    "from netmiko import Netmiko\n",
    "\n",
    "connection = Netmiko(host=\"172.16.1.1\", port=\"22\", username=\"cisco\", password=\"cisco\", device_type=\"cisco_ios\")\n",
    "\n",
    "output = connection.send_command(\"show ip interface brief\")\n",
    "print(output)\n",
    "\n",
    "print(\"Clossing connection\")\n",
    "connection.disconnect()"
   ]
  },
  {
   "cell_type": "code",
   "execution_count": 47,
   "metadata": {},
   "outputs": [
    {
     "name": "stdout",
     "output_type": "stream",
     "text": [
      "R1#\n",
      "Interface                  IP-Address      OK? Method Status                Protocol\n",
      "GigabitEthernet0/0         172.16.1.1      YES NVRAM  up                    up      \n",
      "GigabitEthernet0/1         10.1.2.1        YES NVRAM  up                    up      \n",
      "GigabitEthernet0/2         10.1.3.1        YES NVRAM  up                    up      \n",
      "GigabitEthernet0/3         unassigned      YES NVRAM  administratively down down    \n",
      "Loopback0                  1.1.1.1         YES NVRAM  up                    up      \n",
      "False\n",
      "True\n",
      "False\n",
      "Clossing connection\n"
     ]
    }
   ],
   "source": [
    "from netmiko import ConnectHandler\n",
    "\n",
    "cisco_device = {\n",
    "    \"device_type\": \"cisco_ios\",\n",
    "    \"host\": \"172.16.1.1\",\n",
    "    \"username\": \"cisco\",\n",
    "    \"password\": \"cisco\",\n",
    "    # \"port\": 22,        # default\n",
    "    # \"secret\": \"cisco\", # default\n",
    "    # \"verbose\": True    # default False\n",
    "}\n",
    "\n",
    "connection = ConnectHandler(**cisco_device)\n",
    "# connection.enable()    # if required in Cisco to enter enable or priviledge mode\n",
    "prompt = connection.find_prompt()\n",
    "print(prompt)\n",
    "\n",
    "output = connection.send_command(\"show ip interface brief\")\n",
    "print(output)\n",
    "\n",
    "print(connection.check_config_mode())\n",
    "if not connection.check_config_mode():\n",
    "    connection.config_mode()\n",
    "    print(connection.check_config_mode())\n",
    "    connection.send_command(\"username cisco2 password cisco2 priviledge 15\")\n",
    "    connection.exit_config_mode()\n",
    "    print(connection.check_config_mode())\n",
    "    \n",
    "\n",
    "print(\"Clossing connection\")\n",
    "connection.disconnect()"
   ]
  },
  {
   "cell_type": "markdown",
   "metadata": {},
   "source": [
    "### Sending several commands"
   ]
  },
  {
   "cell_type": "code",
   "execution_count": 51,
   "metadata": {},
   "outputs": [
    {
     "name": "stdout",
     "output_type": "stream",
     "text": [
      "configure terminal\n",
      "Enter configuration commands, one per line.  End with CNTL/Z.\n",
      "R1(config)#interface loopback 1\n",
      "R1(config-if)#ip address 1.1.1.2 255.255.255.255\n",
      "R1(config-if)#exit\n",
      "R1(config)#username ansible password ansible\n",
      "R1(config)#end\n",
      "R1#\n",
      "R1#\n",
      "Building configuration...\n",
      "\n",
      "  [OK]\n",
      "Clossing connection\n"
     ]
    }
   ],
   "source": [
    "from netmiko import ConnectHandler\n",
    "\n",
    "cisco_device = {\n",
    "    \"device_type\": \"cisco_ios\",\n",
    "    \"host\": \"172.16.1.1\",\n",
    "    \"username\": \"cisco\",\n",
    "    \"password\": \"cisco\",\n",
    "    # \"port\": 22,        # default\n",
    "    # \"secret\": \"cisco\", # default\n",
    "    # \"verbose\": True    # default False\n",
    "}\n",
    "\n",
    "connection = ConnectHandler(**cisco_device)\n",
    "# connection.enable()    # if required in Cisco to enter enable or priviledge mode\n",
    "\n",
    "commands = [\"interface loopback 1\", \"ip address 1.1.1.2 255.255.255.255\", \"exit\", \"username ansible password ansible\"]\n",
    "output = connection.send_config_set(commands)\n",
    "print(output)\n",
    "\n",
    "# Another option\n",
    "# cmd = \"ip ssh version 2; access-list 1 permit any;ip domain name cisco.com\"\n",
    "# output = connection.send_config_set(commd.split(\";\"))\n",
    "\n",
    "print(connection.find_prompt())\n",
    "\n",
    "connection.send_command(\"write memory\")\n",
    "\n",
    "print(\"Clossing connection\")\n",
    "connection.disconnect()"
   ]
  },
  {
   "cell_type": "markdown",
   "metadata": {},
   "source": [
    "### Running commands from a file"
   ]
  },
  {
   "cell_type": "code",
   "execution_count": 52,
   "metadata": {},
   "outputs": [
    {
     "name": "stdout",
     "output_type": "stream",
     "text": [
      "Sending commands from file\n",
      "configure terminal\n",
      "Enter configuration commands, one per line.  End with CNTL/Z.\n",
      "R1(config)#router ospf 1\n",
      "R1(config-router)#network 10.0.0.0 0.255.255.255 area 0\n",
      "R1(config-router)#end\n",
      "R1#\n",
      "Clossing connection\n"
     ]
    }
   ],
   "source": [
    "from netmiko import ConnectHandler\n",
    "\n",
    "cisco_device = {\n",
    "    \"device_type\": \"cisco_ios\",\n",
    "    \"host\": \"172.16.1.1\",\n",
    "    \"username\": \"cisco\",\n",
    "    \"password\": \"cisco\",\n",
    "    # \"port\": 22,        # default\n",
    "    # \"secret\": \"cisco\", # default\n",
    "    # \"verbose\": True    # default False\n",
    "}\n",
    "\n",
    "connection = ConnectHandler(**cisco_device)\n",
    "# connection.enable()    # if required in Cisco to enter enable or priviledge mode\n",
    "\n",
    "print(\"Sending commands from file\")\n",
    "output = connection.send_config_from_file(\"files/working/ospf.txt\")\n",
    "print(output)\n",
    "connection.send_command(\"write memory\")\n",
    "\n",
    "print(\"Clossing connection\")\n",
    "connection.disconnect()"
   ]
  },
  {
   "cell_type": "markdown",
   "metadata": {},
   "source": [
    "### Configuring several routers with configuration file"
   ]
  },
  {
   "cell_type": "code",
   "execution_count": 58,
   "metadata": {},
   "outputs": [
    {
     "name": "stdout",
     "output_type": "stream",
     "text": [
      "Sending commands from file to 172.16.1.1\n",
      "configure terminal\n",
      "Enter configuration commands, one per line.  End with CNTL/Z.\n",
      "R1(config)#router ospf 1\n",
      "R1(config-router)#network 10.0.0.0 0.255.255.255 area 0\n",
      "R1(config-router)#end\n",
      "R1#\n",
      "Closing connection to 172.16.1.1\n",
      "########################################\n",
      "Sending commands from file to 172.16.1.2\n",
      "configure terminal\n",
      "Enter configuration commands, one per line.  End with CNTL/Z.\n",
      "R2(config)#router ospf 1\n",
      "R2(config-router)#network 10.0.0.0 0.255.255.255 area 0\n",
      "R2(config-router)#end\n",
      "R2#\n",
      "Closing connection to 172.16.1.2\n",
      "########################################\n",
      "Sending commands from file to 172.16.1.3\n",
      "configure terminal\n",
      "Enter configuration commands, one per line.  End with CNTL/Z.\n",
      "R3(config)#router ospf 1\n",
      "R3(config-router)#network 10.0.0.0 0.255.255.255 area 0\n",
      "R3(config-router)#end\n",
      "R3#\n",
      "Closing connection to 172.16.1.3\n",
      "########################################\n"
     ]
    }
   ],
   "source": [
    "from netmiko import ConnectHandler\n",
    "\n",
    "with open(\"files/working/routers.txt\") as file:\n",
    "    routers = file.read().splitlines()\n",
    "\n",
    "device_list = list()\n",
    "\n",
    "for ip in routers:\n",
    "    cisco_device = {\n",
    "        \"device_type\": \"cisco_ios\",\n",
    "        \"host\": ip,\n",
    "        \"username\": \"cisco\",\n",
    "        \"password\": \"cisco\",\n",
    "        }\n",
    "    device_list.append(cisco_device)\n",
    "\n",
    "for device in device_list:\n",
    "    connection = ConnectHandler(**device)\n",
    "    print(f\"Sending commands from file to {device['host']}\")\n",
    "    output = connection.send_config_from_file(\"files/working/ospf.txt\")\n",
    "    print(output)\n",
    "    connection.send_command(\"write memory\")\n",
    "    print(f\"Closing connection to {device['host']}\")\n",
    "    connection.disconnect()\n",
    "    print(\"#\"*40)"
   ]
  },
  {
   "cell_type": "markdown",
   "metadata": {},
   "source": [
    "### Configure Backup file"
   ]
  },
  {
   "cell_type": "code",
   "execution_count": 64,
   "metadata": {},
   "outputs": [
    {
     "name": "stdout",
     "output_type": "stream",
     "text": [
      "Backup of R1 completed.\n",
      "Closing connection to 172.16.1.1\n",
      "########################################\n",
      "Backup of R2 completed.\n",
      "Closing connection to 172.16.1.2\n",
      "########################################\n",
      "Backup of R3 completed.\n",
      "Closing connection to 172.16.1.3\n",
      "########################################\n"
     ]
    }
   ],
   "source": [
    "from netmiko import ConnectHandler\n",
    "\n",
    "with open(\"files/working/routers.txt\") as file:\n",
    "    routers = file.read().splitlines()\n",
    "\n",
    "device_list = list()\n",
    "\n",
    "for ip in routers:\n",
    "    cisco_device = {\n",
    "        \"device_type\": \"cisco_ios\",\n",
    "        \"host\": ip,\n",
    "        \"username\": \"cisco\",\n",
    "        \"password\": \"cisco\",\n",
    "        }\n",
    "    device_list.append(cisco_device)\n",
    "\n",
    "for device in device_list:\n",
    "    connection = ConnectHandler(**device)\n",
    "    # print(f\"Sending commands from file to {device['host']}\")\n",
    "    output = connection.send_command(\"show runn\")\n",
    "    # print(output)\n",
    "    prompt = connection.find_prompt()\n",
    "    hostname = prompt[0:-1]\n",
    "    with open(f\"files/backups/{hostname}-backup.txt\", \"w\") as file:\n",
    "        file.write(output)\n",
    "        print(f\"Backup of {hostname} completed.\")\n",
    "    print(f\"Closing connection to {device['host']}\")\n",
    "    connection.disconnect()\n",
    "    print(\"#\"*40)"
   ]
  },
  {
   "cell_type": "code",
   "execution_count": null,
   "metadata": {},
   "outputs": [],
   "source": []
  }
 ],
 "metadata": {
  "kernelspec": {
   "display_name": "Python 3",
   "language": "python",
   "name": "python3"
  },
  "language_info": {
   "codemirror_mode": {
    "name": "ipython",
    "version": 3
   },
   "file_extension": ".py",
   "mimetype": "text/x-python",
   "name": "python",
   "nbconvert_exporter": "python",
   "pygments_lexer": "ipython3",
   "version": "3.7.4"
  }
 },
 "nbformat": 4,
 "nbformat_minor": 2
}

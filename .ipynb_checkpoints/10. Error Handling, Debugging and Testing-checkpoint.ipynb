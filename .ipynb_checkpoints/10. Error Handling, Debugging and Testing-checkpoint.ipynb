{
 "cells": [
  {
   "cell_type": "markdown",
   "metadata": {},
   "source": [
    "# Error Handling, Debugging and Testing"
   ]
  },
  {
   "cell_type": "markdown",
   "metadata": {},
   "source": [
    "## Sections\n",
    "- [Error handling](#Error-handling)\n",
    "- [Debugging](#Debugging)\n",
    "- [Testing](#Testing)"
   ]
  },
  {
   "cell_type": "markdown",
   "metadata": {},
   "source": [
    "## Error handling"
   ]
  },
  {
   "cell_type": "markdown",
   "metadata": {},
   "source": [
    "Usually errors give a hint about what happened. Typical errors are:\n",
    "- NameError\n",
    "- TypeError\n",
    "- SyntaxError\n",
    "- IndexError\n",
    "- KeyError:"
   ]
  },
  {
   "cell_type": "code",
   "execution_count": 36,
   "metadata": {},
   "outputs": [
    {
     "ename": "TypeError",
     "evalue": "unsupported operand type(s) for +: 'int' and 'str'",
     "output_type": "error",
     "traceback": [
      "\u001b[1;31m---------------------------------------------------------------------------\u001b[0m",
      "\u001b[1;31mTypeError\u001b[0m                                 Traceback (most recent call last)",
      "\u001b[1;32m<ipython-input-36-ca9a4a080236>\u001b[0m in \u001b[0;36m<module>\u001b[1;34m\u001b[0m\n\u001b[0;32m      1\u001b[0m \u001b[1;31m# for example with this error\u001b[0m\u001b[1;33m\u001b[0m\u001b[1;33m\u001b[0m\u001b[1;33m\u001b[0m\u001b[0m\n\u001b[1;32m----> 2\u001b[1;33m \u001b[0mprint\u001b[0m\u001b[1;33m(\u001b[0m\u001b[1;36m1\u001b[0m\u001b[1;33m+\u001b[0m\u001b[1;34m\"a\"\u001b[0m\u001b[1;33m)\u001b[0m\u001b[1;33m\u001b[0m\u001b[1;33m\u001b[0m\u001b[0m\n\u001b[0m",
      "\u001b[1;31mTypeError\u001b[0m: unsupported operand type(s) for +: 'int' and 'str'"
     ]
    }
   ],
   "source": [
    "# for example with this error\n",
    "print(1+\"a\")"
   ]
  },
  {
   "cell_type": "code",
   "execution_count": 37,
   "metadata": {},
   "outputs": [
    {
     "name": "stdout",
     "output_type": "stream",
     "text": [
      "something went wrong\n"
     ]
    }
   ],
   "source": [
    "# the try and except keywords, avoid a program to crash or exit \n",
    "try:\n",
    "    print(1+\"a\")\n",
    "except:\n",
    "    print(\"something went wrong\")"
   ]
  },
  {
   "cell_type": "code",
   "execution_count": 40,
   "metadata": {},
   "outputs": [
    {
     "name": "stdout",
     "output_type": "stream",
     "text": [
      "What is your age? keti\n"
     ]
    },
    {
     "ename": "ValueError",
     "evalue": "invalid literal for int() with base 10: 'keti'",
     "output_type": "error",
     "traceback": [
      "\u001b[1;31m---------------------------------------------------------------------------\u001b[0m",
      "\u001b[1;31mValueError\u001b[0m                                Traceback (most recent call last)",
      "\u001b[1;32m<ipython-input-40-1ccd6323f589>\u001b[0m in \u001b[0;36m<module>\u001b[1;34m\u001b[0m\n\u001b[1;32m----> 1\u001b[1;33m \u001b[0mage\u001b[0m \u001b[1;33m=\u001b[0m \u001b[0mint\u001b[0m\u001b[1;33m(\u001b[0m\u001b[0minput\u001b[0m\u001b[1;33m(\u001b[0m\u001b[1;34m\"What is your age? \"\u001b[0m\u001b[1;33m)\u001b[0m\u001b[1;33m)\u001b[0m\u001b[1;33m\u001b[0m\u001b[1;33m\u001b[0m\u001b[0m\n\u001b[0m\u001b[0;32m      2\u001b[0m \u001b[0mprint\u001b[0m\u001b[1;33m(\u001b[0m\u001b[0mage\u001b[0m\u001b[1;33m)\u001b[0m\u001b[1;33m\u001b[0m\u001b[1;33m\u001b[0m\u001b[0m\n",
      "\u001b[1;31mValueError\u001b[0m: invalid literal for int() with base 10: 'keti'"
     ]
    }
   ],
   "source": [
    "# A very typical error in object conversiom\n",
    "age = int(input(\"What is your age? \"))\n",
    "print(age)"
   ]
  },
  {
   "cell_type": "code",
   "execution_count": 43,
   "metadata": {},
   "outputs": [
    {
     "name": "stdout",
     "output_type": "stream",
     "text": [
      "What is your age? keti\n",
      "Please enter a number\n",
      "What is your age? 0\n",
      "0 is not a valid age, please enter a number greater than 0\n",
      "What is your age? 1\n",
      "1\n",
      "Thank you\n"
     ]
    }
   ],
   "source": [
    "# Now with try and except\n",
    "while True:\n",
    "    try:\n",
    "        age = int(input(\"What is your age? \"))\n",
    "        1/age                            # validates is not a zero\n",
    "        print(age)\n",
    "    except ValueError:\n",
    "        print(\"Please enter a number\")\n",
    "    except ZeroDivisionError:\n",
    "        print(\"0 is not a valid age, please enter a number greater than 0\")\n",
    "    except:\n",
    "        print(\"The value entered not valid\")        \n",
    "    else:                                 # else is executed is except is not executed\n",
    "        print(\"Thank you\")\n",
    "        break"
   ]
  },
  {
   "cell_type": "code",
   "execution_count": 56,
   "metadata": {},
   "outputs": [
    {
     "name": "stdout",
     "output_type": "stream",
     "text": [
      "Please, enter numbers! \n",
      "Error message: \n",
      "unsupported operand type(s) for /: 'int' and 'str'\n",
      "\n",
      "Please, enter numbers! \n",
      "Error message: \n",
      "division by zero\n"
     ]
    }
   ],
   "source": [
    "# Another example\n",
    "def sum(num1, num2):\n",
    "    try:\n",
    "        num1/num2\n",
    "        return num1 + num2\n",
    "    except (TypeError, ZeroDivisionError) as err:\n",
    "        return f\"Please, enter numbers! \\nError message: \\n{err}\"\n",
    "    \n",
    "print(sum(1,\"a\"))\n",
    "print(\"\")\n",
    "print(sum(1,0))"
   ]
  },
  {
   "cell_type": "markdown",
   "metadata": {},
   "source": [
    "## Finally"
   ]
  },
  {
   "cell_type": "code",
   "execution_count": 3,
   "metadata": {},
   "outputs": [
    {
     "name": "stdout",
     "output_type": "stream",
     "text": [
      "What is your age? hola\n",
      "Please enter a number\n",
      "ok, finally we are done!\n",
      "What is your age? 0\n",
      "0 is not a valid age, please enter a number greater than 0\n",
      "ok, finally we are done!\n",
      "What is your age? 3\n",
      "Thank you\n",
      "ok, finally we are done!\n"
     ]
    }
   ],
   "source": [
    "while True:\n",
    "    try:\n",
    "        age = int(input(\"What is your age? \"))\n",
    "        1/age                            # validates is not a zero\n",
    "    except ValueError:\n",
    "        print(\"Please enter a number\")\n",
    "    except ZeroDivisionError:\n",
    "        print(\"0 is not a valid age, please enter a number greater than 0\")\n",
    "    except:\n",
    "        print(\"The value entered not valid\")\n",
    "    else:                                 # else is executed is except is not executed\n",
    "        print(\"Thank you\")\n",
    "        break\n",
    "    finally:                              # Finally runs at the end after everything has run\n",
    "        print(\"ok, finally we are done!\")"
   ]
  },
  {
   "cell_type": "markdown",
   "metadata": {},
   "source": [
    "### Raising errors"
   ]
  },
  {
   "cell_type": "code",
   "execution_count": null,
   "metadata": {},
   "outputs": [],
   "source": []
  },
  {
   "cell_type": "code",
   "execution_count": null,
   "metadata": {},
   "outputs": [],
   "source": []
  },
  {
   "cell_type": "markdown",
   "metadata": {},
   "source": [
    "## Debugging"
   ]
  },
  {
   "cell_type": "markdown",
   "metadata": {},
   "source": [
    "Linting is a useful funtion to improve your code. It identifies errors even before running the code. it is integrated in several IDEs. Some useful utilities are:\n",
    "- pylint\n",
    "- pyflakes\n",
    "\n",
    "Stype checking utilities are also common to use.\n",
    "- PEP 8 utilities\n",
    "\n",
    "using print is very useful for checking and troubleshooting the code.\n",
    "Reading and intepretinge rros are very useful. Some are very common.\n",
    "\n",
    "### PDB\n",
    "\n",
    "Specifically for debugging, we have pdb funtion. This is a Python debugger that we have to import in order to use it. It has several tools, for example:\n",
    "- list\n",
    "- a\n",
    "- step\n",
    "- continue\n",
    "- clear\n",
    "- help\n",
    "\n",
    "We can use help inside to read the explanation of each tool, for example:\n",
    "- help list"
   ]
  },
  {
   "cell_type": "code",
   "execution_count": 5,
   "metadata": {},
   "outputs": [
    {
     "name": "stdout",
     "output_type": "stream",
     "text": [
      "> <ipython-input-5-2f6cdea0f110>(5)add()\n",
      "-> return num1 + num2\n",
      "(Pdb) a\n",
      "num1 = 2\n",
      "num2 = 3\n",
      "(Pdb) step\n",
      "--Return--\n",
      "> <ipython-input-5-2f6cdea0f110>(5)add()->5\n",
      "-> return num1 + num2\n",
      "(Pdb) continue\n",
      "5\n"
     ]
    }
   ],
   "source": [
    "import pdb\n",
    "\n",
    "def add(num1, num2):\n",
    "    pdb.set_trace()                    # A soon as it find set_trace, stops de execution of the code\n",
    "    return num1 + num2\n",
    "\n",
    "print(add(2,3))"
   ]
  },
  {
   "cell_type": "code",
   "execution_count": 8,
   "metadata": {},
   "outputs": [
    {
     "name": "stdout",
     "output_type": "stream",
     "text": [
      "> <ipython-input-5-2f6cdea0f110>(5)add()\n",
      "-> return num1 + num2\n",
      "(Pdb) a\n",
      "num1 = 2\n",
      "num2 = 3\n",
      "(Pdb) num1 = 5\n",
      "(Pdb) continue\n",
      "8\n"
     ]
    }
   ],
   "source": [
    "\"\" We can even change the values of the data (variables)\n",
    "print(add(2,3))"
   ]
  },
  {
   "cell_type": "markdown",
   "metadata": {},
   "source": [
    "## Testing"
   ]
  },
  {
   "cell_type": "markdown",
   "metadata": {},
   "source": [
    "Testing is a proactive procedure to verify that the code works, ussually before the program is send to the public or customer.\n",
    "\n",
    "Usually you write an additional file (test.py) that you write to test your code."
   ]
  },
  {
   "cell_type": "code",
   "execution_count": 18,
   "metadata": {},
   "outputs": [],
   "source": [
    "# Example of main.py\n",
    "def do_stuff(num):\n",
    "  try:\n",
    "    if num: \n",
    "      return int(num) + 5\n",
    "    else:\n",
    "      return 'Please enter a number.'\n",
    "  \n",
    "  except ValueError as err:\n",
    "    return err"
   ]
  },
  {
   "cell_type": "code",
   "execution_count": 29,
   "metadata": {},
   "outputs": [],
   "source": [
    "# Example of test.py\n",
    "import unittest\n",
    "import main\n",
    "\n",
    "class TestMain(unittest.TestCase):\n",
    "    def test_do_stuff_1(self):\n",
    "        test_param = 10\n",
    "        result = main.do_stuff(test_param)\n",
    "        self.assertEqual(result, 15)\n",
    "\n",
    "    def test_do_stuff_2(self):\n",
    "        test_param = \"fdgd\"\n",
    "        result = main.do_stuff(test_param)\n",
    "        self.assertIsInstance(result, ValueError)\n",
    "    \n",
    "    def test_do_stuuf_3(self):\n",
    "        test_param = None\n",
    "        result = main.do_stuff(test_param)\n",
    "        self.assertEqual(result, \"Please enter a number.\")        \n",
    "        \n",
    "    def test_do_stuuf_4(self):\n",
    "        test_param = \"\"\n",
    "        result = main.do_stuff(test_param)\n",
    "        self.assertEqual(result, \"Please enter a number.\")        \n",
    "\n",
    "if __name__ == \"__main__\":\n",
    "    unittest.main()"
   ]
  },
  {
   "cell_type": "code",
   "execution_count": null,
   "metadata": {},
   "outputs": [],
   "source": []
  }
 ],
 "metadata": {
  "kernelspec": {
   "display_name": "Python 3",
   "language": "python",
   "name": "python3"
  },
  "language_info": {
   "codemirror_mode": {
    "name": "ipython",
    "version": 3
   },
   "file_extension": ".py",
   "mimetype": "text/x-python",
   "name": "python",
   "nbconvert_exporter": "python",
   "pygments_lexer": "ipython3",
   "version": "3.7.4"
  }
 },
 "nbformat": 4,
 "nbformat_minor": 2
}

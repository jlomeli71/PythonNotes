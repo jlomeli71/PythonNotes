{
 "cells": [
  {
   "cell_type": "markdown",
   "metadata": {},
   "source": [
    "# Advanced Python Topics"
   ]
  },
  {
   "cell_type": "markdown",
   "metadata": {},
   "source": [
    "## Sections\n",
    "- [Decorators](#Decorators)\n",
    "- [Generators](#Generators)"
   ]
  },
  {
   "cell_type": "markdown",
   "metadata": {},
   "source": [
    "## Decorators"
   ]
  },
  {
   "cell_type": "markdown",
   "metadata": {},
   "source": [
    "Decorators have the `@` sign. Decorators add functionalities to our functions.\n",
    "There are devorators already in several Python frameworks"
   ]
  },
  {
   "cell_type": "code",
   "execution_count": 4,
   "metadata": {},
   "outputs": [
    {
     "name": "stdout",
     "output_type": "stream",
     "text": [
      "Helloooooow\n"
     ]
    }
   ],
   "source": [
    "def hello():\n",
    "    return \"Helloooooow\"\n",
    "\n",
    "greet = hello()\n",
    "\n",
    "print(greet)"
   ]
  },
  {
   "cell_type": "code",
   "execution_count": 5,
   "metadata": {},
   "outputs": [
    {
     "name": "stdout",
     "output_type": "stream",
     "text": [
      "Still here\n"
     ]
    }
   ],
   "source": [
    "# Functions can be treated as another variable, and functions can be passed as arguments to another function, for example:\n",
    "def hello(func):\n",
    "    return func()\n",
    "\n",
    "def greet():\n",
    "    return \"Still here\"\n",
    "\n",
    "print(hello(greet))"
   ]
  },
  {
   "cell_type": "code",
   "execution_count": 6,
   "metadata": {},
   "outputs": [
    {
     "ename": "NameError",
     "evalue": "name 'decorator' is not defined",
     "output_type": "error",
     "traceback": [
      "\u001b[1;31m---------------------------------------------------------------------------\u001b[0m",
      "\u001b[1;31mNameError\u001b[0m                                 Traceback (most recent call last)",
      "\u001b[1;32m<ipython-input-6-5e0ac44d1353>\u001b[0m in \u001b[0;36m<module>\u001b[1;34m\u001b[0m\n\u001b[1;32m----> 1\u001b[1;33m \u001b[1;33m@\u001b[0m\u001b[0mdecorator\u001b[0m                    \u001b[1;31m# whit this, we add funtios to our hello function\u001b[0m\u001b[1;33m\u001b[0m\u001b[1;33m\u001b[0m\u001b[0m\n\u001b[0m\u001b[0;32m      2\u001b[0m \u001b[1;32mdef\u001b[0m \u001b[0mhello\u001b[0m\u001b[1;33m(\u001b[0m\u001b[1;33m)\u001b[0m\u001b[1;33m:\u001b[0m\u001b[1;33m\u001b[0m\u001b[1;33m\u001b[0m\u001b[0m\n\u001b[0;32m      3\u001b[0m     \u001b[1;32mpass\u001b[0m\u001b[1;33m\u001b[0m\u001b[1;33m\u001b[0m\u001b[0m\n",
      "\u001b[1;31mNameError\u001b[0m: name 'decorator' is not defined"
     ]
    }
   ],
   "source": [
    "@decorator                    # whit this, we add funtios to our hello function\n",
    "def hello():\n",
    "    pass"
   ]
  },
  {
   "cell_type": "code",
   "execution_count": 9,
   "metadata": {},
   "outputs": [
    {
     "name": "stdout",
     "output_type": "stream",
     "text": [
      "5\n"
     ]
    }
   ],
   "source": [
    "# Higher order function (HOF). can be a funtion that accepts other function or returns a function.\n",
    "def greet(func):\n",
    "    return func()\n",
    "\n",
    "# or\n",
    "def greet2():\n",
    "    def func():\n",
    "        return 5\n",
    "    return func()\n",
    "print(greet2())"
   ]
  },
  {
   "cell_type": "code",
   "execution_count": 22,
   "metadata": {},
   "outputs": [
    {
     "name": "stdout",
     "output_type": "stream",
     "text": [
      "************\n",
      "Hellooooowww\n",
      "************\n",
      "************\n",
      "Bye bye baby\n",
      "************\n"
     ]
    }
   ],
   "source": [
    "# Our first decorator ( a decorator is a HOF)\n",
    "def my_decorator(func):\n",
    "    def wrap_func():\n",
    "        print(\"************\")\n",
    "        func()\n",
    "        print(\"************\")\n",
    "    return wrap_func\n",
    "\n",
    "@my_decorator\n",
    "def hello():\n",
    "    print(\"Hellooooowww\")\n",
    "\n",
    "@my_decorator\n",
    "def bye():\n",
    "    print(\"Bye bye baby\")\n",
    "          \n",
    "          \n",
    "hello()\n",
    "bye()"
   ]
  },
  {
   "cell_type": "code",
   "execution_count": 23,
   "metadata": {},
   "outputs": [
    {
     "name": "stdout",
     "output_type": "stream",
     "text": [
      "************\n",
      "Hello world!\n",
      "************\n"
     ]
    }
   ],
   "source": [
    "# Now with an argument\n",
    "# Our first decorator ( a decorator is a HOF)\n",
    "def my_decorator(func):\n",
    "    def wrap_func(word):\n",
    "        print(\"************\")\n",
    "        func(word)\n",
    "        print(\"************\")\n",
    "    return wrap_func\n",
    "\n",
    "@my_decorator\n",
    "def hello(word):\n",
    "    print(word)\n",
    "          \n",
    "hello(\"Hello world!\")\n"
   ]
  },
  {
   "cell_type": "code",
   "execution_count": 28,
   "metadata": {},
   "outputs": [
    {
     "name": "stdout",
     "output_type": "stream",
     "text": [
      "***************\n",
      "Hello world! :P\n",
      "***************\n"
     ]
    }
   ],
   "source": [
    "# Now adding the *args and *kwargs arguments\n",
    "def my_decorator(func):\n",
    "    def wrap_func(*args, **kwargs):\n",
    "        print(\"***************\")\n",
    "        func(*args, **kwargs)\n",
    "        print(\"***************\")\n",
    "    return wrap_func\n",
    "\n",
    "@my_decorator\n",
    "def hello(word, emoji=\":P\"):\n",
    "    print(word, emoji)\n",
    "          \n",
    "hello(\"Hello world!\")"
   ]
  },
  {
   "cell_type": "code",
   "execution_count": 37,
   "metadata": {},
   "outputs": [
    {
     "name": "stdout",
     "output_type": "stream",
     "text": [
      "This funtion took 13.827982425689697 s.\n"
     ]
    }
   ],
   "source": [
    "# Another example, we will buoild our own python decorator\n",
    "from time import time\n",
    "def performance(func):\n",
    "    def wrapper(*args, **kwargs):\n",
    "        t1 = time()\n",
    "        result = func(*args, **kwargs)\n",
    "        t2 = time()\n",
    "        print(f\"This funtion took {t2-t1} s.\")\n",
    "        return result\n",
    "    return wrapper\n",
    "    \n",
    "@performance\n",
    "def long_time():\n",
    "    for i in range(100000000):\n",
    "        i*5\n",
    "\n",
    "long_time()"
   ]
  },
  {
   "cell_type": "markdown",
   "metadata": {},
   "source": [
    "## Generators"
   ]
  },
  {
   "cell_type": "markdown",
   "metadata": {},
   "source": [
    "Allows to generate a sequence of values. It is an iterable (contains the dunder `__iter__`). \n",
    "\n",
    "Not all iterables are generators, like list.\n",
    "\n",
    "Examples of generators that we have already seen:\n",
    "- range\n",
    "\n",
    "For generators we use the keyword `yield`."
   ]
  },
  {
   "cell_type": "code",
   "execution_count": 43,
   "metadata": {},
   "outputs": [
    {
     "name": "stdout",
     "output_type": "stream",
     "text": [
      "[0, 2, 4, 6, 8]\n"
     ]
    }
   ],
   "source": [
    "# A list consumes memory to store all values\n",
    "\n",
    "def make_list(num):\n",
    "    result = []\n",
    "    for i in range(num):\n",
    "        result.append(i*2)\n",
    "    return result\n",
    "\n",
    "my_list = make_list(5)\n",
    "print(my_list)"
   ]
  },
  {
   "cell_type": "code",
   "execution_count": 55,
   "metadata": {},
   "outputs": [
    {
     "name": "stdout",
     "output_type": "stream",
     "text": [
      "0\n",
      "2\n",
      "4\n",
      "6\n",
      "8\n"
     ]
    }
   ],
   "source": [
    "# A generator only consumes the data of the value generated when required.\n",
    "# A generator uses the `yield` keyword instead of the `return` keyword.\n",
    "# This `yield` pauses teh function\n",
    "\n",
    "def generator_func(num):\n",
    "    for i in range(num):\n",
    "        yield i*2\n",
    "        \n",
    "for item in generator_func(5):\n",
    "    print(item) "
   ]
  },
  {
   "cell_type": "code",
   "execution_count": 56,
   "metadata": {},
   "outputs": [
    {
     "name": "stdout",
     "output_type": "stream",
     "text": [
      "<generator object generator_func at 0x000001A11860CC48>\n"
     ]
    }
   ],
   "source": [
    "g = generator_func(5)\n",
    "print(g)"
   ]
  },
  {
   "cell_type": "code",
   "execution_count": 57,
   "metadata": {},
   "outputs": [
    {
     "name": "stdout",
     "output_type": "stream",
     "text": [
      "0\n",
      "2\n"
     ]
    }
   ],
   "source": [
    "print(next(g))\n",
    "print(next(g))"
   ]
  },
  {
   "cell_type": "code",
   "execution_count": 58,
   "metadata": {},
   "outputs": [
    {
     "name": "stdout",
     "output_type": "stream",
     "text": [
      "4\n",
      "6\n",
      "8\n"
     ]
    }
   ],
   "source": [
    "for i in g:\n",
    "    print(i)"
   ]
  },
  {
   "cell_type": "code",
   "execution_count": 61,
   "metadata": {},
   "outputs": [
    {
     "name": "stdout",
     "output_type": "stream",
     "text": [
      "With only range: \n",
      "This funtion took 13.555252313613892 s.\n",
      "With list option: \n",
      "This funtion took 17.68582797050476 s.\n"
     ]
    }
   ],
   "source": [
    "# lets check the perfomance, remeber our decorator performance:\n",
    "from time import time\n",
    "def performance(func):\n",
    "    def wrapper(*args, **kwargs):\n",
    "        t1 = time()\n",
    "        result = func(*args, **kwargs)\n",
    "        t2 = time()\n",
    "        print(f\"This funtion took {t2-t1} s.\")\n",
    "        return result\n",
    "    return wrapper\n",
    "    \n",
    "@performance\n",
    "def long_time():\n",
    "    print(\"With only range: \")\n",
    "    for i in range(100000000):\n",
    "        i*5\n",
    "\n",
    "    \n",
    "@performance\n",
    "def long_time2():\n",
    "    print(\"With list option: \")\n",
    "    for i in list(range(100000000)):\n",
    "        i*5\n",
    "\n",
    "        \n",
    "long_time()\n",
    "long_time2()\n",
    "\n",
    "# It takes a few seconds, be patient"
   ]
  },
  {
   "cell_type": "code",
   "execution_count": 65,
   "metadata": {},
   "outputs": [
    {
     "name": "stdout",
     "output_type": "stream",
     "text": [
      "<list_iterator object at 0x000001A11864CDC8>\n",
      "1\n",
      "<list_iterator object at 0x000001A11864CDC8>\n",
      "2\n",
      "<list_iterator object at 0x000001A11864CDC8>\n",
      "3\n",
      "<list_iterator object at 0x000001A11864CDC8>\n"
     ]
    }
   ],
   "source": [
    "# Another example\n",
    "def special_for(iterable):\n",
    "    iterator = iter(iterable)\n",
    "    while True:\n",
    "        try:\n",
    "            print(iterator)\n",
    "            print(next(iterator))\n",
    "        except StopIteration:\n",
    "            break\n",
    "\n",
    "special_for([1,2,3])"
   ]
  },
  {
   "cell_type": "code",
   "execution_count": 68,
   "metadata": {},
   "outputs": [
    {
     "name": "stdout",
     "output_type": "stream",
     "text": [
      "0\n",
      "1\n",
      "2\n",
      "3\n",
      "4\n",
      "5\n",
      "6\n",
      "7\n",
      "8\n",
      "9\n"
     ]
    }
   ],
   "source": [
    "# Crating our own range\n",
    "class MyGen():\n",
    "    current = 0\n",
    "    def __init__(self, first, last):\n",
    "        self.first = first\n",
    "        self.last = last\n",
    "    \n",
    "    def __iter__(self):\n",
    "        return self\n",
    "    \n",
    "    def __next__(self):\n",
    "        if MyGen.current  < self.last:\n",
    "            num = MyGen.current\n",
    "            MyGen.current += 1\n",
    "            return num\n",
    "        raise StopIteration\n",
    "\n",
    "gen = MyGen(0,10)\n",
    "for i in gen:\n",
    "    print(i)"
   ]
  },
  {
   "cell_type": "code",
   "execution_count": 70,
   "metadata": {},
   "outputs": [
    {
     "name": "stdout",
     "output_type": "stream",
     "text": [
      "0\n",
      "1\n",
      "1\n",
      "2\n",
      "3\n",
      "5\n",
      "8\n",
      "13\n",
      "21\n",
      "34\n"
     ]
    }
   ],
   "source": [
    "# Another excercise with Fibonacci numbers\n",
    "def fib(num):\n",
    "    a = 0\n",
    "    b = 1\n",
    "    for i in range(num):\n",
    "        yield a\n",
    "        temp = a\n",
    "        a = b\n",
    "        b = temp + b\n",
    "        \n",
    "for x in fib(10):\n",
    "    print(x)"
   ]
  },
  {
   "cell_type": "code",
   "execution_count": 72,
   "metadata": {},
   "outputs": [
    {
     "name": "stdout",
     "output_type": "stream",
     "text": [
      "[0, 1, 1, 2, 3, 5, 8, 13, 21, 34]\n"
     ]
    }
   ],
   "source": [
    "# The same but with a list\n",
    "def fib2(num):\n",
    "    a = 0\n",
    "    b = 1\n",
    "    result = []\n",
    "    for i in range(num):\n",
    "        result.append(a)\n",
    "        temp = a\n",
    "        a = b\n",
    "        b = temp + b\n",
    "    return result\n",
    "\n",
    "print(fib2(10))"
   ]
  },
  {
   "cell_type": "code",
   "execution_count": null,
   "metadata": {},
   "outputs": [],
   "source": []
  }
 ],
 "metadata": {
  "kernelspec": {
   "display_name": "Python 3",
   "language": "python",
   "name": "python3"
  },
  "language_info": {
   "codemirror_mode": {
    "name": "ipython",
    "version": 3
   },
   "file_extension": ".py",
   "mimetype": "text/x-python",
   "name": "python",
   "nbconvert_exporter": "python",
   "pygments_lexer": "ipython3",
   "version": "3.7.4"
  }
 },
 "nbformat": 4,
 "nbformat_minor": 2
}

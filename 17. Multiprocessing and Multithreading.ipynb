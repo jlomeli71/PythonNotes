{
 "cells": [
  {
   "cell_type": "markdown",
   "metadata": {},
   "source": [
    "# Multiprocessing and Multithreading"
   ]
  },
  {
   "cell_type": "markdown",
   "metadata": {},
   "source": [
    "## Sections\n",
    "\n",
    "- [Multithreading](#Multithreading)\n",
    "- [Multiprocessing](#Multiprocessing)\n",
    "- [Pros and Cons](#Pros-and-Cons)\n",
    "- [Multiprocessing Example](#Multiprocessing-Example)\n",
    "- [Threading Example](#Threading-Example)\n",
    "- [Sharing Data with Processes Using Value](#Sharing-Data-with-Processes-Using-Value)\n",
    "- [Sharing Data with Processes Using Array](#Sharing-Data-with-Processes-Using-Array)\n",
    "- [Implementing Multiprocess Locks](#Implementing-Multiprocess-Locks)\n"
   ]
  },
  {
   "cell_type": "markdown",
   "metadata": {},
   "source": [
    "Python is slow comparing to other programming languages.\n",
    "\n",
    "In a Python script execution:\n",
    "- When you type python script.py in your shell you instruct your processor to create and to schedule a single process which is the smallest unit of processing\n",
    "- The allocated process will start to execute the script line by line.\n",
    "- Once the script hit the EOF, the process will be terminated and its resources will be returned to the free pool to be used by other processes.\n",
    "\n",
    "We can overcome the Python speed problem using multiprocessing or multithreading.\n",
    "\n",
    "For example, with multithreding, we can have inside a process multiple threads.\n",
    "\n",
    "But the problem with assigning a lot of threads to one process without special handling is what’s called Race Condition.\n",
    "\n",
    "CPython uses GIL(Global Interpreter Lock) to protect memory amont multiple threads."
   ]
  },
  {
   "cell_type": "markdown",
   "metadata": {},
   "source": [
    "## Multithreading\n",
    "\n",
    "Threading in python is used to run multiple threads (tasks, function calls) at the same time inside the same process.\n",
    "\n",
    "Thereding is not suitable for CPU intensive application\n",
    "\n",
    "Python threads are best used in cases where the execution of a task involves some waiting, for example working with web servers, networking devices, SQL databases.\n",
    "\n",
    "Python uses the threading module to start multiple threads."
   ]
  },
  {
   "cell_type": "markdown",
   "metadata": {},
   "source": [
    "## Multiprocessing\n",
    "\n",
    "Multiprocessing achieves true parallelism in Python.\n",
    "\n",
    "Low risk of data-corruption when using multiprocessing.\n",
    "\n",
    "Each spawned process will have their own allocated memory.\n",
    "\n",
    "Each process has it’s owned GIL so there’s no resource conflict or race condition here.\n",
    "\n",
    "Python uses the multiprocessing module to achieve parallel programming.\n",
    "\n",
    "Multiptocessing is used in CPU intensive applications."
   ]
  },
  {
   "cell_type": "markdown",
   "metadata": {},
   "source": [
    "## Pros and Cons\n",
    "\n",
    "__Multiprocessing Pros__\n",
    "\n",
    "- Separate memory space.\n",
    "- Takes advantage of multiple CPUs & cores.\n",
    "- Avoids GIL limitations of CPython.\n",
    "- Child processes are interruptible/killable.\n",
    "- A must with CPython for CPU-bound processing.\n",
    "\n",
    "__Multiprocessing Cons__\n",
    "\n",
    "- Inter Process Communication (IPC) a little more complicated with more overhead.\n",
    "- Larger memory consumption.\n",
    "\n",
    "__Multithreading Pros__\n",
    "\n",
    "- Lightweight , low memory consumption.\n",
    "- Shared memory, makes access to state from another context easier.\n",
    "- Allows you to easily make responsive UIs.\n",
    "- Great option for I/O - bound applications.\n",
    "\n",
    "__Multithreading Cons__\n",
    "\n",
    "- CPython, subject to the GIL.\n",
    "- Threads are not interruptible/killable.\n",
    "- If not following a command queue/message model (using the Queue module), then manual use of synchronization becomes a necessity.\n",
    "- Code is usually harder to understand and to get right due to the potential of race conditions increases dramatically."
   ]
  },
  {
   "cell_type": "markdown",
   "metadata": {},
   "source": [
    "### Multiprocessing Example"
   ]
  },
  {
   "cell_type": "code",
   "execution_count": 8,
   "metadata": {},
   "outputs": [
    {
     "name": "stdout",
     "output_type": "stream",
     "text": [
      "Other instructions of the main module...\n",
      "More instructions of the main module...\n",
      "End of Script\n"
     ]
    }
   ],
   "source": [
    "# Importing the module multiptocessing\n",
    "\n",
    "import multiprocessing as mp\n",
    "import time\n",
    " \n",
    "# Creating the target function. Each process will execute this function in parallel\n",
    "def name_and_time(name):\n",
    "    print(f\"Hello {name}, current time is {time.time()}\")\n",
    "    print(\"Sleeping for 2 seconds ...\")\n",
    "    time.sleep(2)\n",
    "    print(\"Walking up ... finishing function.\")\n",
    "    \n",
    "# This will be run only if the script is run directly (not imported as a module in another script)\n",
    "\n",
    "if __name__ == '__main__':\n",
    "    process_list = list()     # list that stores the processes\n",
    " \n",
    "    # Creating 5 processes\n",
    "    for i in range(5):\n",
    "        ## Creating each process. 1st argument is the target function\n",
    "        ## 2nd argument is a tuple (target function's arguments)\n",
    "        process = mp.Process(target=name_and_time, args=(\"Popeye\",))\n",
    "        process_list.append(process)    # Appending each process to the list\n",
    " \n",
    "    # Iterating over the list and start each process\n",
    "    for p in process_list:\n",
    "        p.start()\n",
    " \n",
    "    # Join the processes back to the main process OR\n",
    "    # The main process will wait for forked-processes to finish\n",
    "    for p in process_list:\n",
    "        p.join()\n",
    " \n",
    "    print(\"Other instructions of the main module...\")\n",
    "    print(\"More instructions of the main module...\")\n",
    "    print(\"End of Script\")"
   ]
  },
  {
   "cell_type": "markdown",
   "metadata": {},
   "source": [
    "### Threading Example"
   ]
  },
  {
   "cell_type": "code",
   "execution_count": 13,
   "metadata": {},
   "outputs": [
    {
     "name": "stdout",
     "output_type": "stream",
     "text": [
      "Hello Popeye, current time is 1606880190.5148027\n",
      "Sleeping for 5 seconds ...\n",
      "Hello Popeye, current time is 1606880190.517795\n",
      "Sleeping for 5 seconds ...\n",
      "Hello Popeye, current time is 1606880190.5207868\n",
      "Sleeping for 5 seconds ...\n",
      "\n",
      "Walking up ... finishing function.\n",
      "Walking up ... finishing function.\n",
      "\n",
      "Walking up ... finishing function.\n",
      "\n",
      "Other instructions of the main module...\n",
      "More instructions of the main module...\n",
      "End of Script\n"
     ]
    }
   ],
   "source": [
    "# Importing the module\n",
    "import threading\n",
    "import time\n",
    " \n",
    "# Creating the target function. Each thread will execute this function in parallel\n",
    "def name_and_time(name):\n",
    "    print(f\"Hello {name}, current time is {time.time()}\")\n",
    "    print(\"Sleeping for 5 seconds ...\")\n",
    "    time.sleep(5)\n",
    "    print(\"\\nWalking up ... finishing function.\")\n",
    "\n",
    "# This will be run only if the script is run directly \n",
    "if __name__ == '__main__':\n",
    "    thread_list = list()     # list that stores the threads\n",
    " \n",
    "    # Creating 3 threads\n",
    "    for i in range(3):\n",
    "        ## Creating each thread. 1st argument si the target function\n",
    "        ## 2nd argument is a tuple (target function's arguments)\n",
    "        thread = threading.Thread(target=name_and_time, args=(\"Popeye\",))\n",
    "        thread_list.append(thread)  # Appending each thread to the list\n",
    " \n",
    "    ## Iterating over the list and start each thread\n",
    "    for t in thread_list:\n",
    "        t.start()\n",
    " \n",
    " \n",
    "    ## Join the threads back to the main thread OR\n",
    "    ## The main thread will wait for forked-threads to finish\n",
    "    ## This is optional\n",
    "    for t in thread_list:\n",
    "        t.join()\n",
    " \n",
    "    print(\"Other instructions of the main module...\")\n",
    "    print(\"More instructions of the main module...\")\n",
    "    print(\"End of Script\")"
   ]
  },
  {
   "cell_type": "markdown",
   "metadata": {},
   "source": [
    "### Sharing Data with Processes Using Value"
   ]
  },
  {
   "cell_type": "code",
   "execution_count": 14,
   "metadata": {},
   "outputs": [
    {
     "name": "stdout",
     "output_type": "stream",
     "text": [
      "counter of type multiprocessing.Value is 1\n",
      "my_counter of type integer is 1\n"
     ]
    }
   ],
   "source": [
    "import multiprocessing as mp\n",
    " \n",
    "# Target function that increments a counter (multiprocessing.Value)\n",
    "def increment(counter):\n",
    "    counter.value += 1\n",
    " \n",
    "# Target function that increments a counter (integer)\n",
    "def my_increment(my_counter):\n",
    "    my_counter  += 1\n",
    "  \n",
    "if __name__ == '__main__':\n",
    "    my_counter = 1      # type integer\n",
    "    counter = mp.Value('i', 1)   # type multiprocessing.Value\n",
    " \n",
    "    # Creating, starting and joining 5 processes. They increment the counter. This is of type multiprocessing.Value\n",
    "    for i in range(5):\n",
    "        process = mp.Process(target=increment, args=(counter,))\n",
    "        process.start()\n",
    "        process.join()\n",
    " \n",
    "    print(f'counter of type multiprocessing.Value is {counter.value}')\n",
    " \n",
    " \n",
    "    # Creating, starting and joining 5 processes. They increment my_counter. This is of type integer\n",
    "    for i in range(5):\n",
    "        process = mp.Process(target=my_increment, args=(my_counter,))\n",
    "        process.start()\n",
    "        process.join()\n",
    " \n",
    "    print(f'my_counter of type integer is {my_counter}')"
   ]
  },
  {
   "cell_type": "markdown",
   "metadata": {},
   "source": [
    "### Sharing Data with Processes Using Array"
   ]
  },
  {
   "cell_type": "code",
   "execution_count": 15,
   "metadata": {},
   "outputs": [
    {
     "name": "stdout",
     "output_type": "stream",
     "text": [
      "squares_list outsite process []\n",
      "result Array outside process [0, 0, 0]\n"
     ]
    }
   ],
   "source": [
    "## Sharing data between processes using multiprocessing.Array\n",
    " \n",
    "import multiprocessing as mp\n",
    " \n",
    "# Target function1\n",
    "# The 2nd parameter is a list that will be modified inside the forked process\n",
    "def squares(numbers, squares_list):\n",
    "    for n in numbers:\n",
    "        squares_list.append(n**2)\n",
    "    print(f'square_list inside process {squares_list}')\n",
    " \n",
    "# Target function\n",
    "# The 2nd parameter is an Array used for sharing data between processes\n",
    "def cubes(numbers, result):\n",
    "    i = 0\n",
    "    for num in numbers:\n",
    "        result[i] = num ** 3\n",
    "        i += 1\n",
    "    print(f'result Array inside process/function: {result[::]}')\n",
    " \n",
    " \n",
    "# This will be run only if the script is run directly (not imported as a module in another script)\n",
    "# This is necessary!\n",
    "if __name__ == '__main__':\n",
    " \n",
    "    # Calculating the square of these numbers in a new process\n",
    "    # Adding the result (the squares) in a list inside a process\n",
    "    numbers = [1,2,3]\n",
    "    squares_list = list()\n",
    " \n",
    "    # Creating, Starting and Joining the process\n",
    "    p = mp.Process(target=squares, args=(numbers, squares_list))\n",
    "    p.start()\n",
    "    p.join()\n",
    " \n",
    "    # Printing the squares_list\n",
    "    # !! It hasn't been modified inside the process. The main process and the forked process didn't work on the same data\n",
    "    print(f'squares_list outsite process {squares_list}')\n",
    " \n",
    "    # Creating an Array to share data beetween main process and the forked process\n",
    "    result = mp.Array('i', len(numbers))\n",
    " \n",
    "    # Creating, Starting and Joining the process\n",
    "    p1 = mp.Process(target=cubes, args=(numbers, result))\n",
    "    p1.start()\n",
    "    p1.join()\n",
    " \n",
    "    # Printing the Array. It has been modified inside the forked-process. The array was shared between main and forked process\n",
    "    print(f'result Array outside process {result[::]}')"
   ]
  },
  {
   "cell_type": "markdown",
   "metadata": {},
   "source": [
    "### Implementing Multiprocess Locks"
   ]
  },
  {
   "cell_type": "code",
   "execution_count": 16,
   "metadata": {},
   "outputs": [
    {
     "name": "stdout",
     "output_type": "stream",
     "text": [
      "Balance BEFORE running processes: 500\n",
      "Balance AFTER running processes: 500\n"
     ]
    }
   ],
   "source": [
    "import multiprocessing as mp\n",
    "import time\n",
    " \n",
    "# Target function. It increments a balance by 0.01  100 times\n",
    "def deposit(balance, lock):\n",
    "    for i in range(100):\n",
    "        time.sleep(0.01)\n",
    "        lock.acquire()\n",
    "        balance.value += 1\n",
    "        lock.release()\n",
    " \n",
    "# Target function. It decrements a balance by 0.01  100 times\n",
    "def withdraw(balance, lock):\n",
    "    for i in range(100):\n",
    "        time.sleep(0.01)\n",
    "        lock.acquire()\n",
    "        balance.value -= 1\n",
    "        lock.release()\n",
    " \n",
    "if __name__ == '__main__':\n",
    "    balance = mp.Value('i', 500)    ## starting balance\n",
    "    print(f'Balance BEFORE running processes: {balance.value}')\n",
    " \n",
    "    lock = mp.Lock()    # lock Object\n",
    " \n",
    "    # Creating, starting and joining 2 processes. They increment and decrement the shared value\n",
    "    p1 = mp.Process(target=deposit, args=(balance, lock))\n",
    "    p2 = mp.Process(target=withdraw, args=(balance, lock))\n",
    " \n",
    "    p1.start()\n",
    "    p2.start()\n",
    " \n",
    "    p1.join()\n",
    "    p2.join()\n",
    " \n",
    "    # The final value of balance\n",
    "    print(f'Balance AFTER running processes: {balance.value}')"
   ]
  },
  {
   "cell_type": "markdown",
   "metadata": {},
   "source": [
    "## Concurrent Applications using Asyn IO"
   ]
  },
  {
   "cell_type": "code",
   "execution_count": null,
   "metadata": {},
   "outputs": [],
   "source": []
  }
 ],
 "metadata": {
  "kernelspec": {
   "display_name": "Python 3",
   "language": "python",
   "name": "python3"
  },
  "language_info": {
   "codemirror_mode": {
    "name": "ipython",
    "version": 3
   },
   "file_extension": ".py",
   "mimetype": "text/x-python",
   "name": "python",
   "nbconvert_exporter": "python",
   "pygments_lexer": "ipython3",
   "version": "3.7.4"
  }
 },
 "nbformat": 4,
 "nbformat_minor": 2
}

{
 "cells": [
  {
   "cell_type": "markdown",
   "metadata": {},
   "source": [
    "# Conditionals and Loops"
   ]
  },
  {
   "cell_type": "markdown",
   "metadata": {},
   "source": [
    "## Sections\n",
    "\n",
    "- [Flow and Conditionals](#Flow-and-Conditionals)\n",
    "- [For loops](#For-Loops)\n",
    "- [While Loops](#While-Loops)"
   ]
  },
  {
   "cell_type": "markdown",
   "metadata": {},
   "source": [
    "## Flow and Conditionals"
   ]
  },
  {
   "cell_type": "markdown",
   "metadata": {},
   "source": [
    "Booleans are very important on all this section. \n",
    "In this section we will see how to use the following statements:\n",
    "- if\n",
    "- if, else\n",
    "- if, elif, else\n",
    "\n",
    "The format is:\n",
    "\n",
    "```python\n",
    "if expresion:\n",
    "    executes this\n",
    "elif expresion:\n",
    "    executes this\n",
    "else:\n",
    "    executes this\n",
    "```\n",
    "The expresions can contain boolean, logical, memberships operators.\n",
    "We have seen boolean (and, or, not) and logical (==, !=, <, >, <=, and >=), but what about memebership operators."
   ]
  },
  {
   "cell_type": "markdown",
   "metadata": {},
   "source": [
    "### Membership operators\n",
    "As the name implies, they mean is in:\n",
    "- in\n",
    "- not in"
   ]
  },
  {
   "cell_type": "code",
   "execution_count": 25,
   "metadata": {},
   "outputs": [
    {
     "name": "stdout",
     "output_type": "stream",
     "text": [
      "True\n",
      "True\n"
     ]
    }
   ],
   "source": [
    "print(3 in [1, 2, 3])\n",
    "print(5 not in [1, 2, 3])"
   ]
  },
  {
   "cell_type": "markdown",
   "metadata": {},
   "source": [
    "### Note about \"=\" vs \"==\" vs \"is\""
   ]
  },
  {
   "cell_type": "markdown",
   "metadata": {},
   "source": [
    "Probably you already know that \"=\" is an assigment operator, it gives a value to a variable.\n",
    "And the \"==\" is an equal operator, it help us evaluate if what is in right is equal to what is in the left (focus on the value)\n",
    "And \"is\" also help us evalute if it is exactly the same, but at memory level. "
   ]
  },
  {
   "cell_type": "code",
   "execution_count": 28,
   "metadata": {},
   "outputs": [
    {
     "name": "stdout",
     "output_type": "stream",
     "text": [
      "True\n",
      "False\n"
     ]
    }
   ],
   "source": [
    "x = \"1\", \"2\", \"3\"\n",
    "y= \"1\", \"2\", \"3\"\n",
    "print(x==y)\n",
    "print(x is y)"
   ]
  },
  {
   "cell_type": "code",
   "execution_count": 29,
   "metadata": {},
   "outputs": [
    {
     "name": "stdout",
     "output_type": "stream",
     "text": [
      "2158307173384\n",
      "2158307235944\n"
     ]
    }
   ],
   "source": [
    "# Why?, because thouse are different lists, even the contain the same data.\n",
    "# They use different memory locations\n",
    "print(id(x))\n",
    "print(id(y))"
   ]
  },
  {
   "cell_type": "code",
   "execution_count": 30,
   "metadata": {},
   "outputs": [
    {
     "name": "stdout",
     "output_type": "stream",
     "text": [
      "True\n",
      "True\n"
     ]
    }
   ],
   "source": [
    "# And now, let´s do this\n",
    "x = \"1\", \"2\", \"3\"\n",
    "y = x\n",
    "print(x==y)\n",
    "print(x is y)"
   ]
  },
  {
   "cell_type": "code",
   "execution_count": 31,
   "metadata": {},
   "outputs": [
    {
     "name": "stdout",
     "output_type": "stream",
     "text": [
      "2158307154344\n",
      "2158307154344\n"
     ]
    }
   ],
   "source": [
    "# Why?, because thouse they are the same list.\n",
    "# They use the same different memory locations\n",
    "print(id(x))\n",
    "print(id(y))"
   ]
  },
  {
   "cell_type": "code",
   "execution_count": 35,
   "metadata": {},
   "outputs": [
    {
     "name": "stdout",
     "output_type": "stream",
     "text": [
      "True\n",
      "True\n",
      "False\n",
      "True\n",
      "False\n",
      "False\n",
      "False\n"
     ]
    }
   ],
   "source": [
    "# other examples for the equal operator (value)\n",
    "print(True == 1)\n",
    "print(10 == 10.0)\n",
    "print([1,2,3] == [1,2,3])\n",
    "print(\"\" == 1)\n",
    "print([] == 1)\n",
    "print([1,2,3] == [3,2,1])"
   ]
  },
  {
   "cell_type": "markdown",
   "metadata": {},
   "source": [
    "### if statement"
   ]
  },
  {
   "cell_type": "code",
   "execution_count": 19,
   "metadata": {},
   "outputs": [
    {
     "name": "stdout",
     "output_type": "stream",
     "text": [
      "You are an adult.\n"
     ]
    }
   ],
   "source": [
    "age = 45\n",
    "if age >= 18:                                # Condition to evalue, if True\n",
    "    print(\"You are an adult.\")               # Executes these lines"
   ]
  },
  {
   "cell_type": "markdown",
   "metadata": {},
   "source": [
    "### if, else statement"
   ]
  },
  {
   "cell_type": "code",
   "execution_count": 20,
   "metadata": {},
   "outputs": [
    {
     "name": "stdout",
     "output_type": "stream",
     "text": [
      "You are an adult.\n"
     ]
    }
   ],
   "source": [
    "age = 45\n",
    "if age >= 18:                                # Condition to evalue, if True\n",
    "    print(\"You are an adult.\")               # Executes these lines\n",
    "\n",
    "else:                                        # if the above conditions\n",
    "    print(\"You are a kid\")"
   ]
  },
  {
   "cell_type": "markdown",
   "metadata": {},
   "source": [
    "### if, elif, else statement"
   ]
  },
  {
   "cell_type": "code",
   "execution_count": 21,
   "metadata": {},
   "outputs": [
    {
     "name": "stdout",
     "output_type": "stream",
     "text": [
      "You are an adult.\n"
     ]
    }
   ],
   "source": [
    "age = 45\n",
    "if age >= 18:                                # Condition to evalue, if True\n",
    "    print(\"You are an adult.\")               # Executes these lines\n",
    "\n",
    "elif 14 < age < 18:\n",
    "    print(\"You are a teenager\")              # Executes these lines\n",
    "    \n",
    "else:                                        # if the above conditions\n",
    "    print(\"You are a kid\")"
   ]
  },
  {
   "cell_type": "markdown",
   "metadata": {},
   "source": [
    "### Ternary Operator\n",
    "Saves lines in if, else statements, the format is:\n",
    "\n",
    "``` python\n",
    "    executes_if_true if condition else executes_if_else\n",
    "```"
   ]
  },
  {
   "cell_type": "code",
   "execution_count": 23,
   "metadata": {},
   "outputs": [
    {
     "name": "stdout",
     "output_type": "stream",
     "text": [
      "5\n"
     ]
    }
   ],
   "source": [
    "print(5) if (3>2) else print(2)"
   ]
  },
  {
   "cell_type": "markdown",
   "metadata": {},
   "source": [
    "## For Loops"
   ]
  },
  {
   "cell_type": "markdown",
   "metadata": {},
   "source": [
    "Loops using for, following the format:\n",
    "``` python\n",
    "for temp_var in iterable:\n",
    "    execute\n",
    "    execute\n",
    "```"
   ]
  },
  {
   "cell_type": "code",
   "execution_count": 39,
   "metadata": {},
   "outputs": [
    {
     "name": "stdout",
     "output_type": "stream",
     "text": [
      "h\n",
      "e\n",
      "y\n"
     ]
    }
   ],
   "source": [
    "# Iterable could be a string \n",
    "for char in \"hey\":\n",
    "    print(char)"
   ]
  },
  {
   "cell_type": "code",
   "execution_count": 38,
   "metadata": {},
   "outputs": [
    {
     "name": "stdout",
     "output_type": "stream",
     "text": [
      "a\n",
      "b\n",
      "c\n"
     ]
    }
   ],
   "source": [
    "# Iterable could be a list \n",
    "for char in [\"a\", \"b\", \"c\"]:\n",
    "    print(char)"
   ]
  },
  {
   "cell_type": "code",
   "execution_count": 40,
   "metadata": {},
   "outputs": [
    {
     "name": "stdout",
     "output_type": "stream",
     "text": [
      "1\n",
      "2\n",
      "3\n"
     ]
    }
   ],
   "source": [
    "# Iterable could be a set \n",
    "for char in (1, 2, 3):\n",
    "    print(char)"
   ]
  },
  {
   "cell_type": "code",
   "execution_count": 41,
   "metadata": {},
   "outputs": [
    {
     "name": "stdout",
     "output_type": "stream",
     "text": [
      "a 1\n",
      "a 2\n",
      "a 3\n",
      "b 1\n",
      "b 2\n",
      "b 3\n",
      "c 1\n",
      "c 2\n",
      "c 3\n"
     ]
    }
   ],
   "source": [
    "# loops can be chainned\n",
    "for char in (\"a\", \"b\", \"c\"):\n",
    "    for num in (1, 2, 3):\n",
    "        print(char, num)"
   ]
  },
  {
   "cell_type": "code",
   "execution_count": 53,
   "metadata": {},
   "outputs": [
    {
     "name": "stdout",
     "output_type": "stream",
     "text": [
      "name\n",
      "age\n",
      "height\n",
      "********************\n",
      "By default uses keys\n",
      "name\n",
      "age\n",
      "height\n",
      "********************\n",
      "Using .items() method\n",
      "('name', 'Jose')\n",
      "('age', 48)\n",
      "('height', 1.85)\n",
      "********************\n",
      "Using .items() we can unpack\n",
      "name Jose\n",
      "age 48\n",
      "height 1.85\n",
      "********************\n",
      "Using .values() method\n",
      "Jose\n",
      "48\n",
      "1.85\n",
      "********************\n",
      "Using .keys() method\n",
      "name\n",
      "age\n",
      "height\n"
     ]
    }
   ],
   "source": [
    "user = {\"name\": \"Jose\", \n",
    "        \"age\": 48, \n",
    "        \"height\": 1.85}\n",
    "\n",
    "for item in user:\n",
    "    print(item)\n",
    "\n",
    "print(\"*\" * 20)\n",
    "print(\"By default uses keys\")\n",
    "for item in user:\n",
    "    print(item)                # by default uses keys\n",
    "\n",
    "print(\"*\" * 20)\n",
    "print(\"Using .items() method\")\n",
    "for item in user.items():\n",
    "    print(item)\n",
    "\n",
    "print(\"*\" * 20)\n",
    "print(\"Using .items() we can unpack\")\n",
    "for k, v in user.items():\n",
    "    print(k, v)\n",
    "    \n",
    "print(\"*\" * 20)\n",
    "print(\"Using .values() method\")\n",
    "for item in user.values():\n",
    "    print(item)\n",
    "\n",
    "print(\"*\" * 20)\n",
    "print(\"Using .keys() method\")\n",
    "for item in user.keys():\n",
    "    print(item)\n"
   ]
  },
  {
   "cell_type": "markdown",
   "metadata": {},
   "source": [
    "### Iterables"
   ]
  },
  {
   "cell_type": "markdown",
   "metadata": {},
   "source": [
    "Iterables we have already seen:\n",
    "- string\n",
    "- list\n",
    "- tuple\n",
    "- dictionary\n",
    "- set\n",
    "\n",
    "Iterable means it can be iterated one by one in the collection.\n",
    "The following functios help us create iterables:\n",
    "- range\n",
    "- enumerate"
   ]
  },
  {
   "cell_type": "code",
   "execution_count": 57,
   "metadata": {},
   "outputs": [
    {
     "name": "stdout",
     "output_type": "stream",
     "text": [
      "<class 'range'>\n",
      "range(0, 5)\n",
      "[0, 1, 2, 3, 4]\n"
     ]
    }
   ],
   "source": [
    "# range allows to create an iterable object\n",
    "print(type(range(5)))\n",
    "print(range(5))\n",
    "print(list(range(5)))"
   ]
  },
  {
   "cell_type": "code",
   "execution_count": 58,
   "metadata": {},
   "outputs": [
    {
     "name": "stdout",
     "output_type": "stream",
     "text": [
      "Hello\n",
      "Hello\n",
      "Hello\n"
     ]
    }
   ],
   "source": [
    "# Range is very common in for loops when we want to repeat an action over a block of code\n",
    "for times in range(3):\n",
    "    print(\"Hello\")"
   ]
  },
  {
   "cell_type": "code",
   "execution_count": 65,
   "metadata": {},
   "outputs": [
    {
     "name": "stdout",
     "output_type": "stream",
     "text": [
      "0\n",
      "2\n",
      "4\n",
      "Now in reverse order.\n",
      "4\n",
      "2\n",
      "0\n"
     ]
    }
   ],
   "source": [
    "# The format for range is range(init, end, step)\n",
    "for num in range(0,5,2):\n",
    "    print(num)\n",
    "print(\"Now in reverse order.\")\n",
    "for num in range(4,-1,-2):\n",
    "    print(num)"
   ]
  },
  {
   "cell_type": "code",
   "execution_count": 66,
   "metadata": {},
   "outputs": [
    {
     "name": "stdout",
     "output_type": "stream",
     "text": [
      "(0, 'h')\n",
      "(1, 'e')\n",
      "(2, 'y')\n"
     ]
    }
   ],
   "source": [
    "# Enumerate hep us to get an index, in some cases is useful\n",
    "for char in enumerate(\"hey\"):\n",
    "    print(char)"
   ]
  },
  {
   "cell_type": "code",
   "execution_count": 67,
   "metadata": {},
   "outputs": [
    {
     "name": "stdout",
     "output_type": "stream",
     "text": [
      "0 h\n",
      "1 e\n",
      "2 y\n"
     ]
    }
   ],
   "source": [
    "# We can unpack\n",
    "for index, char in enumerate(\"hey\"):\n",
    "    print(index, char)"
   ]
  },
  {
   "cell_type": "markdown",
   "metadata": {},
   "source": [
    "## While Loops"
   ]
  },
  {
   "cell_type": "markdown",
   "metadata": {},
   "source": [
    "Loops using while, follows the format:\n",
    "``` python\n",
    "while condition:\n",
    "    execute\n",
    "    execute\n",
    "```"
   ]
  },
  {
   "cell_type": "code",
   "execution_count": 69,
   "metadata": {},
   "outputs": [
    {
     "name": "stdout",
     "output_type": "stream",
     "text": [
      "0\n",
      "1\n",
      "2\n",
      "3\n"
     ]
    }
   ],
   "source": [
    "var = 0\n",
    "while var < 4:\n",
    "    print(var)\n",
    "    var += 1"
   ]
  },
  {
   "cell_type": "markdown",
   "metadata": {},
   "source": [
    "### Using break. continue and pass statements"
   ]
  },
  {
   "cell_type": "markdown",
   "metadata": {},
   "source": [
    "Break, and continue changes the flow of a program\n",
    "\n",
    "Pass is used as a placeholder for future lines of code"
   ]
  },
  {
   "cell_type": "code",
   "execution_count": 1,
   "metadata": {},
   "outputs": [
    {
     "name": "stdout",
     "output_type": "stream",
     "text": [
      "May I continue (Yes or No): Yes\n",
      "May I continue (Yes or No): 123\n",
      "May I continue (Yes or No): hola\n",
      "You typed something else\n",
      "May I continue (Yes or No): No\n"
     ]
    }
   ],
   "source": [
    "while True:\n",
    "    my_input = input(\"May I continue (Yes or No): \")\n",
    "    if my_input == \"Yes\":\n",
    "        continue\n",
    "    elif my_input == \"No\":\n",
    "        break\n",
    "    elif my_input == \"123\":\n",
    "        pass\n",
    "    else:\n",
    "        print(\"You typed something else\")"
   ]
  },
  {
   "cell_type": "markdown",
   "metadata": {},
   "source": [
    "### Using while, else statement "
   ]
  },
  {
   "cell_type": "code",
   "execution_count": 3,
   "metadata": {},
   "outputs": [
    {
     "name": "stdout",
     "output_type": "stream",
     "text": [
      "0\n",
      "1\n",
      "2\n",
      "3\n",
      "Finished\n"
     ]
    }
   ],
   "source": [
    "# Check this code, else is executed after finishing the loop\n",
    "var = 0\n",
    "while var < 4:\n",
    "    print(var)\n",
    "    var += 1\n",
    "else:\n",
    "    print(\"Finished\")"
   ]
  },
  {
   "cell_type": "code",
   "execution_count": 6,
   "metadata": {},
   "outputs": [
    {
     "name": "stdout",
     "output_type": "stream",
     "text": [
      "0\n"
     ]
    }
   ],
   "source": [
    "# in this case the else was not executed, because the loop was break\n",
    "var = 0\n",
    "while var < 4:\n",
    "    print(var)\n",
    "    break\n",
    "    var += 1\n",
    "else:\n",
    "    print(\"Finished\")"
   ]
  },
  {
   "cell_type": "code",
   "execution_count": 9,
   "metadata": {},
   "outputs": [
    {
     "name": "stdout",
     "output_type": "stream",
     "text": [
      "0 a\n",
      "1 z\n",
      "2 g\n"
     ]
    }
   ],
   "source": [
    "# len() funtion is very common in loops\n",
    "i = 0\n",
    "my_list = [\"a\", \"z\", \"g\"]\n",
    "while i < len(my_list):\n",
    "    print(i, my_list[i])\n",
    "    i += 1"
   ]
  }
 ],
 "metadata": {
  "kernelspec": {
   "display_name": "Python 3",
   "language": "python",
   "name": "python3"
  },
  "language_info": {
   "codemirror_mode": {
    "name": "ipython",
    "version": 3
   },
   "file_extension": ".py",
   "mimetype": "text/x-python",
   "name": "python",
   "nbconvert_exporter": "python",
   "pygments_lexer": "ipython3",
   "version": "3.7.4"
  }
 },
 "nbformat": 4,
 "nbformat_minor": 2
}

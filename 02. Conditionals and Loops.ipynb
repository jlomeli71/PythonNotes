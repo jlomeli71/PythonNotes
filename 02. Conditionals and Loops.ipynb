{
 "cells": [
  {
   "cell_type": "markdown",
   "metadata": {},
   "source": [
    "# Conditionals and Loops"
   ]
  },
  {
   "cell_type": "markdown",
   "metadata": {},
   "source": [
    "## Sections\n",
    "\n",
    "- [Conditionals](#Conditionals)\n",
    "- [For loops](#For-Loops)\n",
    "- [While Loops](#While-Loops)"
   ]
  },
  {
   "cell_type": "markdown",
   "metadata": {},
   "source": [
    "## Conditionals"
   ]
  },
  {
   "cell_type": "markdown",
   "metadata": {},
   "source": [
    "Conditionals are used for flow control. We will see how to use the following statements:\n",
    "- `if`\n",
    "- `if`, `else`\n",
    "- `if`, `elif`, `else`\n",
    "\n",
    "The format is:\n",
    "\n",
    "```python\n",
    "if expresion:\n",
    "    executes this\n",
    "elif expresion:\n",
    "    executes this\n",
    "else:\n",
    "    executes this\n",
    "```\n",
    "The expresions can contain boolean, logical, memberships operators.\n",
    "The code following the expression has to be idented (ussually 4 spaces are used in Python).\n",
    "The eare several operatiors that can be uses within the xpressions:\n",
    "- Boolean (and, or, not) \n",
    "- Logical (==, !=, <, >, <=, and >=)\n",
    "- Membership operators (in, not in)"
   ]
  },
  {
   "cell_type": "markdown",
   "metadata": {},
   "source": [
    "### if statement"
   ]
  },
  {
   "cell_type": "code",
   "execution_count": 19,
   "metadata": {},
   "outputs": [
    {
     "name": "stdout",
     "output_type": "stream",
     "text": [
      "You are an adult.\n"
     ]
    }
   ],
   "source": [
    "age = 45\n",
    "if age >= 18:                                # Condition to evalue, if True\n",
    "    print(\"You are an adult.\")               # Executes these lines"
   ]
  },
  {
   "cell_type": "markdown",
   "metadata": {},
   "source": [
    "### if, else statement"
   ]
  },
  {
   "cell_type": "code",
   "execution_count": 20,
   "metadata": {},
   "outputs": [
    {
     "name": "stdout",
     "output_type": "stream",
     "text": [
      "You are an adult.\n"
     ]
    }
   ],
   "source": [
    "age = 45\n",
    "if age >= 18:                                # Condition to evalue, if True\n",
    "    print(\"You are an adult.\")               # Executes these lines\n",
    "\n",
    "else:                                        # if the above conditions\n",
    "    print(\"You are a kid\")"
   ]
  },
  {
   "cell_type": "markdown",
   "metadata": {},
   "source": [
    "### if, elif, else statement"
   ]
  },
  {
   "cell_type": "code",
   "execution_count": 21,
   "metadata": {},
   "outputs": [
    {
     "name": "stdout",
     "output_type": "stream",
     "text": [
      "You are an adult.\n"
     ]
    }
   ],
   "source": [
    "age = 45\n",
    "if age >= 18:                                # Condition to evalue, if True\n",
    "    print(\"You are an adult.\")               # Executes these lines\n",
    "\n",
    "elif 14 < age < 18:\n",
    "    print(\"You are a teenager\")              # Executes these lines\n",
    "    \n",
    "else:                                        # if the above conditions\n",
    "    print(\"You are a kid\")"
   ]
  },
  {
   "cell_type": "markdown",
   "metadata": {},
   "source": [
    "### Ternary Operator\n",
    "Saves lines in if, else statements, the format is:\n",
    "\n",
    "``` python\n",
    "    executes_if_true if condition else executes_if_else\n",
    "```"
   ]
  },
  {
   "cell_type": "code",
   "execution_count": 23,
   "metadata": {},
   "outputs": [
    {
     "name": "stdout",
     "output_type": "stream",
     "text": [
      "5\n"
     ]
    }
   ],
   "source": [
    "print(5) if (3>2) else print(2)"
   ]
  },
  {
   "cell_type": "markdown",
   "metadata": {},
   "source": [
    "## For Loops"
   ]
  },
  {
   "cell_type": "markdown",
   "metadata": {},
   "source": [
    "Loops allos to execute repetitive tasks. It requires an iterable object.\n",
    "An iterable object is an object that has a collection of items. Iteartion is taking one element of the collection by by one. String, Lists, Dictionaries are examples of iterable objects.\n",
    "``` python\n",
    "for temp_var in iterable:\n",
    "    execute\n",
    "    execute\n",
    "```\n",
    "The temp_var takes the value of the taken element from the iterable object. "
   ]
  },
  {
   "cell_type": "code",
   "execution_count": 39,
   "metadata": {},
   "outputs": [
    {
     "name": "stdout",
     "output_type": "stream",
     "text": [
      "h\n",
      "e\n",
      "y\n"
     ]
    }
   ],
   "source": [
    "# Iterable could be a string \n",
    "for char in \"hey\":\n",
    "    print(char)"
   ]
  },
  {
   "cell_type": "code",
   "execution_count": 14,
   "metadata": {},
   "outputs": [
    {
     "name": "stdout",
     "output_type": "stream",
     "text": [
      "w-o-r-l-d-"
     ]
    }
   ],
   "source": [
    "# Iterable could be a string \n",
    "for char in \"world\":\n",
    "    print(char, end=\"-\")"
   ]
  },
  {
   "cell_type": "code",
   "execution_count": 38,
   "metadata": {},
   "outputs": [
    {
     "name": "stdout",
     "output_type": "stream",
     "text": [
      "a\n",
      "b\n",
      "c\n"
     ]
    }
   ],
   "source": [
    "# Iterable could be a list \n",
    "for char in [\"a\", \"b\", \"c\"]:\n",
    "    print(char)"
   ]
  },
  {
   "cell_type": "code",
   "execution_count": 40,
   "metadata": {},
   "outputs": [
    {
     "name": "stdout",
     "output_type": "stream",
     "text": [
      "1\n",
      "2\n",
      "3\n"
     ]
    }
   ],
   "source": [
    "# Iterable could be a set \n",
    "for char in (1, 2, 3):\n",
    "    print(char)"
   ]
  },
  {
   "cell_type": "code",
   "execution_count": 41,
   "metadata": {},
   "outputs": [
    {
     "name": "stdout",
     "output_type": "stream",
     "text": [
      "a 1\n",
      "a 2\n",
      "a 3\n",
      "b 1\n",
      "b 2\n",
      "b 3\n",
      "c 1\n",
      "c 2\n",
      "c 3\n"
     ]
    }
   ],
   "source": [
    "# loops can be chainned\n",
    "for char in (\"a\", \"b\", \"c\"):\n",
    "    for num in (1, 2, 3):\n",
    "        print(char, num)"
   ]
  },
  {
   "cell_type": "code",
   "execution_count": 53,
   "metadata": {},
   "outputs": [
    {
     "name": "stdout",
     "output_type": "stream",
     "text": [
      "name\n",
      "age\n",
      "height\n",
      "********************\n",
      "By default uses keys\n",
      "name\n",
      "age\n",
      "height\n",
      "********************\n",
      "Using .items() method\n",
      "('name', 'Jose')\n",
      "('age', 48)\n",
      "('height', 1.85)\n",
      "********************\n",
      "Using .items() we can unpack\n",
      "name Jose\n",
      "age 48\n",
      "height 1.85\n",
      "********************\n",
      "Using .values() method\n",
      "Jose\n",
      "48\n",
      "1.85\n",
      "********************\n",
      "Using .keys() method\n",
      "name\n",
      "age\n",
      "height\n"
     ]
    }
   ],
   "source": [
    "user = {\"name\": \"Jose\", \n",
    "        \"age\": 48, \n",
    "        \"height\": 1.85}\n",
    "\n",
    "for item in user:\n",
    "    print(item)\n",
    "\n",
    "print(\"*\" * 20)\n",
    "print(\"By default uses keys\")\n",
    "for item in user:\n",
    "    print(item)                # by default uses keys\n",
    "\n",
    "print(\"*\" * 20)\n",
    "print(\"Using .items() method\")\n",
    "for item in user.items():\n",
    "    print(item)\n",
    "\n",
    "print(\"*\" * 20)\n",
    "print(\"Using .items() we can unpack\")\n",
    "for k, v in user.items():\n",
    "    print(k, v)\n",
    "    \n",
    "print(\"*\" * 20)\n",
    "print(\"Using .values() method\")\n",
    "for item in user.values():\n",
    "    print(item)\n",
    "\n",
    "print(\"*\" * 20)\n",
    "print(\"Using .keys() method\")\n",
    "for item in user.keys():\n",
    "    print(item)\n"
   ]
  },
  {
   "cell_type": "markdown",
   "metadata": {},
   "source": [
    "### Iterables"
   ]
  },
  {
   "cell_type": "markdown",
   "metadata": {},
   "source": [
    "Iterables we have already seen:\n",
    "- string\n",
    "- list\n",
    "- tuple\n",
    "- dictionary\n",
    "- set\n",
    "\n",
    "Iterable means it can be iterated one by one in the collection.\n",
    "The following functios help us create iterables:\n",
    "- range\n",
    "- enumerate"
   ]
  },
  {
   "cell_type": "markdown",
   "metadata": {},
   "source": [
    "### Range\n",
    "\n",
    "Ranges are used commonly in loops. The format is:\n",
    "\n",
    "- `range(start, stop, step)`\n",
    "\n",
    "By default:\n",
    "- start = 0\n",
    "- step = 1\n",
    "- start is included\n",
    "- stop is excluded"
   ]
  },
  {
   "cell_type": "code",
   "execution_count": 57,
   "metadata": {},
   "outputs": [
    {
     "name": "stdout",
     "output_type": "stream",
     "text": [
      "<class 'range'>\n",
      "range(0, 5)\n",
      "[0, 1, 2, 3, 4]\n"
     ]
    }
   ],
   "source": [
    "# range allows to create an iterable object\n",
    "print(type(range(5)))\n",
    "print(range(5))\n",
    "print(list(range(5)))"
   ]
  },
  {
   "cell_type": "code",
   "execution_count": 58,
   "metadata": {},
   "outputs": [
    {
     "name": "stdout",
     "output_type": "stream",
     "text": [
      "Hello\n",
      "Hello\n",
      "Hello\n"
     ]
    }
   ],
   "source": [
    "# Range is very common in for loops when we want to repeat an action over a block of code\n",
    "for times in range(3):\n",
    "    print(\"Hello\")"
   ]
  },
  {
   "cell_type": "code",
   "execution_count": 65,
   "metadata": {},
   "outputs": [
    {
     "name": "stdout",
     "output_type": "stream",
     "text": [
      "0\n",
      "2\n",
      "4\n",
      "Now in reverse order.\n",
      "4\n",
      "2\n",
      "0\n"
     ]
    }
   ],
   "source": [
    "# The format for range is range(init, end, step)\n",
    "for num in range(0,5,2):\n",
    "    print(num)\n",
    "print(\"Now in reverse order.\")\n",
    "for num in range(4,-1,-2):\n",
    "    print(num)"
   ]
  },
  {
   "cell_type": "code",
   "execution_count": 19,
   "metadata": {},
   "outputs": [
    {
     "data": {
      "text/plain": [
       "[1, 3, 5, 7, 9]"
      ]
     },
     "execution_count": 19,
     "metadata": {},
     "output_type": "execute_result"
    }
   ],
   "source": [
    "# We can create a list from a range\n",
    "my_list = list(range(1,10,2))\n",
    "my_list"
   ]
  },
  {
   "cell_type": "markdown",
   "metadata": {},
   "source": [
    "### Enumerate"
   ]
  },
  {
   "cell_type": "code",
   "execution_count": 66,
   "metadata": {},
   "outputs": [
    {
     "name": "stdout",
     "output_type": "stream",
     "text": [
      "(0, 'h')\n",
      "(1, 'e')\n",
      "(2, 'y')\n"
     ]
    }
   ],
   "source": [
    "# Enumerate hep us to get an index, in some cases is useful\n",
    "for char in enumerate(\"hey\"):\n",
    "    print(char)"
   ]
  },
  {
   "cell_type": "code",
   "execution_count": 67,
   "metadata": {},
   "outputs": [
    {
     "name": "stdout",
     "output_type": "stream",
     "text": [
      "0 h\n",
      "1 e\n",
      "2 y\n"
     ]
    }
   ],
   "source": [
    "# We can unpack\n",
    "for index, char in enumerate(\"hey\"):\n",
    "    print(index, char)"
   ]
  },
  {
   "cell_type": "markdown",
   "metadata": {},
   "source": [
    "## While Loops"
   ]
  },
  {
   "cell_type": "markdown",
   "metadata": {},
   "source": [
    "A whiole loop will continue to execute the code while the evaluated condition is True.\n",
    "Loops using while, follows the format:\n",
    "``` python\n",
    "while condition:\n",
    "    execute\n",
    "    execute\n",
    "```"
   ]
  },
  {
   "cell_type": "code",
   "execution_count": 69,
   "metadata": {},
   "outputs": [
    {
     "name": "stdout",
     "output_type": "stream",
     "text": [
      "0\n",
      "1\n",
      "2\n",
      "3\n"
     ]
    }
   ],
   "source": [
    "var = 0\n",
    "while var < 4:\n",
    "    print(var)\n",
    "    var += 1"
   ]
  },
  {
   "cell_type": "markdown",
   "metadata": {},
   "source": [
    "### Break, Continue and Pass statements"
   ]
  },
  {
   "cell_type": "markdown",
   "metadata": {},
   "source": [
    "These statements can be used with For and While loops. They indicate:\n",
    "\n",
    "- Break, breaks the loop\n",
    "- Continue, jumps to the begining of the loop\n",
    "- Pass, is used justa as a placeholder, ussually indicates code will be added"
   ]
  },
  {
   "cell_type": "code",
   "execution_count": 1,
   "metadata": {},
   "outputs": [
    {
     "name": "stdout",
     "output_type": "stream",
     "text": [
      "May I continue (Yes or No): Yes\n",
      "May I continue (Yes or No): 123\n",
      "May I continue (Yes or No): hola\n",
      "You typed something else\n",
      "May I continue (Yes or No): No\n"
     ]
    }
   ],
   "source": [
    "while True:\n",
    "    my_input = input(\"May I continue (Yes or No): \")\n",
    "    if my_input == \"Yes\":\n",
    "        continue\n",
    "    elif my_input == \"No\":\n",
    "        break\n",
    "    elif my_input == \"123\":\n",
    "        pass\n",
    "    else:\n",
    "        print(\"You typed something else\")"
   ]
  },
  {
   "cell_type": "markdown",
   "metadata": {},
   "source": [
    "### Else statement "
   ]
  },
  {
   "cell_type": "code",
   "execution_count": 3,
   "metadata": {},
   "outputs": [
    {
     "name": "stdout",
     "output_type": "stream",
     "text": [
      "0\n",
      "1\n",
      "2\n",
      "3\n",
      "Finished\n"
     ]
    }
   ],
   "source": [
    "# Check this code, else is executed after finishing the loop\n",
    "var = 0\n",
    "while var < 4:\n",
    "    print(var)\n",
    "    var += 1\n",
    "else:\n",
    "    print(\"Finished\")"
   ]
  },
  {
   "cell_type": "code",
   "execution_count": 20,
   "metadata": {},
   "outputs": [
    {
     "name": "stdout",
     "output_type": "stream",
     "text": [
      "1\n"
     ]
    }
   ],
   "source": [
    "# in this case the else was not executed, because the loop was break\n",
    "var = 1\n",
    "while var < 4:\n",
    "    print(var)\n",
    "    break\n",
    "    var += 1\n",
    "else:\n",
    "    print(\"Finished\")"
   ]
  },
  {
   "cell_type": "code",
   "execution_count": 9,
   "metadata": {},
   "outputs": [
    {
     "name": "stdout",
     "output_type": "stream",
     "text": [
      "0 a\n",
      "1 z\n",
      "2 g\n"
     ]
    }
   ],
   "source": [
    "# len() funtion is very common in loops\n",
    "i = 0\n",
    "my_list = [\"a\", \"z\", \"g\"]\n",
    "while i < len(my_list):\n",
    "    print(i, my_list[i])\n",
    "    i += 1"
   ]
  }
 ],
 "metadata": {
  "kernelspec": {
   "display_name": "Python 3",
   "language": "python",
   "name": "python3"
  },
  "language_info": {
   "codemirror_mode": {
    "name": "ipython",
    "version": 3
   },
   "file_extension": ".py",
   "mimetype": "text/x-python",
   "name": "python",
   "nbconvert_exporter": "python",
   "pygments_lexer": "ipython3",
   "version": "3.7.4"
  }
 },
 "nbformat": 4,
 "nbformat_minor": 2
}

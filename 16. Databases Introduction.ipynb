{
 "cells": [
  {
   "cell_type": "markdown",
   "metadata": {},
   "source": [
    "# Databases Introduction"
   ]
  },
  {
   "cell_type": "markdown",
   "metadata": {},
   "source": [
    "## Introduction\n",
    "\n",
    "Most databases are classied in two types, Relational and non-relational.\n",
    "\n",
    "Relational databases are commonly used for structure data, and as examples we have MySQL, Maria DB, Oracle SQL, PostgreSQL. All these databses have in common a language, it is called SQL (Structured Query Language) that most parts are standard.\n",
    "\n",
    "Python can interact with all this databses, but also includes a library that emulates a database, that is called sqlite. This small light databases is ideal for learning and for small projects, also SQLlike can be found in small devices like cellphones, TVs, IoT devices.\n",
    "\n",
    "- Self-contained in your Python code, the database is a simple file.\n",
    "- SQLLite is a zero-Configuration database\n",
    "- High performance in low memory environments\n",
    "\n",
    "\n",
    "Non-relational databases store ussually non structured data, they can store objects, documents, etc. One popular\n",
    "example is MongoDb."
   ]
  },
  {
   "cell_type": "markdown",
   "metadata": {},
   "source": [
    "### Creating a table"
   ]
  },
  {
   "cell_type": "code",
   "execution_count": 6,
   "metadata": {},
   "outputs": [],
   "source": [
    "# Importing the module\n",
    "import sqlite3\n",
    " \n",
    "# Opening the connection to the database (if it exists) or create the db if it doesn't exist\n",
    "connection = sqlite3.connect(\"databases\\\\my_database.db\")\n",
    " \n",
    "# Creating a cursor object\n",
    "cursor = connection.cursor()\n",
    " \n",
    "# This sql creates a table with 5 fields (columns)\n",
    "sql = \"\"\"\n",
    "        CREATE TABLE IF NOT EXISTS employees (\n",
    "         id INTEGER,\n",
    "         name VARCHAR(64),\n",
    "         department VARCHAR(32),\n",
    "         phone VARCHAR(16),\n",
    "         email VARCHAR(32)\n",
    "        );\n",
    "        \"\"\"\n",
    " \n",
    "## Execute the sql against the database (db)\n",
    "cursor.execute(sql)\n",
    " \n",
    "## Committing the changes\n",
    "connection.commit()\n",
    " \n",
    "## Closing the connection to the database\n",
    "connection.close()"
   ]
  },
  {
   "cell_type": "markdown",
   "metadata": {},
   "source": [
    "```sql\n",
    "$ ./sqlite3.exe my_database.db\n",
    "SQLite version 3.33.0 2020-08-14 13:23:32\n",
    "Enter \".help\" for usage hints.\n",
    "sqlite> .tables\n",
    "employees\n",
    "sqlite> .exit\n",
    "```"
   ]
  },
  {
   "cell_type": "markdown",
   "metadata": {},
   "source": [
    "### Inserting Data"
   ]
  },
  {
   "cell_type": "code",
   "execution_count": 7,
   "metadata": {},
   "outputs": [],
   "source": [
    "## Importing the module\n",
    "import sqlite3\n",
    " \n",
    "## Opening the connection to the database (if it exists) or create the db if it doesn't exist\n",
    "connection = sqlite3.connect(\"databases\\\\my_database.db\")\n",
    " \n",
    "## Creating a cursor object\n",
    "cursor = connection.cursor()\n",
    " \n",
    "## These Sql statements insert 3 records in employees table\n",
    "sql = \"\"\"\n",
    "INSERT INTO employees (id, name, department, phone, email) VALUES (1, \"John\", \"Support\", \"+1234789\", \"john@gmail.com\");\n",
    "INSERT INTO employees VALUES (2, \"Anne\", \"Engineering\", \"+1555789\", \"anne@gmail.com\");\n",
    "INSERT INTO employees VALUES (3, \"Antony\", \"Sales\", \"00478911\", \"antony@gmail.com\");\n",
    "\"\"\"\n",
    "\n",
    "## Call executescript() when executing more sql statements and execute() when executing a single sql statement\n",
    "cursor.executescript(sql)\n",
    " \n",
    "## Committing the changes\n",
    "connection.commit()\n",
    " \n",
    "## Closing the connection to the database\n",
    "connection.close()"
   ]
  },
  {
   "cell_type": "markdown",
   "metadata": {},
   "source": [
    "```sql\n",
    "$ ./sqlite3.exe my_database.db\n",
    "SQLite version 3.33.0 2020-08-14 13:23:32\n",
    "Enter \".help\" for usage hints.\n",
    "sqlite> select * from employees;\n",
    "1|John|Support|+1234789|john@gmail.com\n",
    "2|Anne|Engineering|+1555789|anne@gmail.com\n",
    "3|Antony|Sales|00478911|antony@gmail.com\n",
    "```"
   ]
  },
  {
   "cell_type": "markdown",
   "metadata": {},
   "source": [
    "### Selecting Data"
   ]
  },
  {
   "cell_type": "code",
   "execution_count": 16,
   "metadata": {},
   "outputs": [
    {
     "name": "stdout",
     "output_type": "stream",
     "text": [
      "\n",
      " ** PRINTING ALL **\n",
      "(1, 'John', 'Support', '+1234789', 'john@gmail.com')\n",
      "(2, 'Anne', 'Engineering', '+1555789', 'anne@gmail.com')\n",
      "(3, 'Antony', 'Sales', '00478911', 'antony@gmail.com')\n",
      "\n",
      " ** PRINTING ONLY NAME AND PHONE **\n",
      "('John', '+1234789')\n",
      "('Anne', '+1555789')\n",
      "('Antony', '00478911')\n",
      "\n",
      " ** PRINTING NAMES THAT START WITH A**\n",
      "(3, 'Antony', 'Sales', '00478911', 'antony@gmail.com')\n",
      "(2, 'Anne', 'Engineering', '+1555789', 'anne@gmail.com')\n"
     ]
    }
   ],
   "source": [
    "# Importing the module\n",
    "import sqlite3\n",
    " \n",
    "# Opening the connection to the database (if it exists) or create the db if it doesn't exist\n",
    "connection = sqlite3.connect(\"databases\\\\my_database.db\")\n",
    " \n",
    "# Creating a cursor object with the cursor method of the connection object\n",
    "cursor = connection.cursor()\n",
    " \n",
    "# Creating the sql statement\n",
    "sql = \"select * from employees\"\n",
    " \n",
    "# Execute the sql against the database (db)\n",
    "cursor.execute(sql)\n",
    " \n",
    "# Iterating over the result and printing each record of the table\n",
    "print(\"\\n ** PRINTING ALL **\")\n",
    "for row in cursor.fetchall():\n",
    "    print(row)\n",
    "    \n",
    "# Creating the sql statement\n",
    "sql = \"select name, phone from employees\"\n",
    " \n",
    "# Execute the sql against the database (db)\n",
    "cursor.execute(sql)\n",
    " \n",
    "# Iterating over the result and printing each record of the table\n",
    "print(\"\\n ** PRINTING ONLY NAME AND PHONE **\")\n",
    "for row in cursor.fetchall():\n",
    "    print(row)\n",
    "\n",
    "# Creating the sql statement\n",
    "sql = 'select * from employees where name like \"A%\" order by id desc'\n",
    " \n",
    "# Execute the sql against the database (db)\n",
    "cursor.execute(sql)\n",
    " \n",
    "# Iterating over the result and printing each record of the table\n",
    "print(\"\\n ** PRINTING NAMES THAT START WITH A**\")\n",
    "for row in cursor.fetchall():\n",
    "    print(row)  \n",
    "    \n",
    "# Committing the changes (if any)\n",
    "connection.commit()\n",
    " \n",
    "# Closing the connection to the database\n",
    "connection.close()"
   ]
  },
  {
   "cell_type": "markdown",
   "metadata": {},
   "source": [
    "### Parametarized SQL Statements"
   ]
  },
  {
   "cell_type": "code",
   "execution_count": 18,
   "metadata": {},
   "outputs": [
    {
     "name": "stdout",
     "output_type": "stream",
     "text": [
      "Enter ID:3\n",
      "(3, 'Antony', 'Sales', '00478911', 'antony@gmail.com')\n"
     ]
    }
   ],
   "source": [
    "## Importing the module\n",
    "import sqlite3\n",
    " \n",
    "## Opening the connection to the database (if it exists) or create the db if it doesn't exist\n",
    "connection = sqlite3.connect(\"databases\\\\my_database.db\")\n",
    " \n",
    "## Creating a cursor object\n",
    "cursor = connection.cursor()\n",
    " \n",
    "## User enters an ID:\n",
    "id = input(\"Enter ID:\")\n",
    " \n",
    "## Select the record with the ID entered by the user\n",
    "## ? is placeholder, will be replaced with id entered by the user\n",
    "sql = \"select * from employees where id = ?;\"\n",
    " \n",
    "## Execute the sql against the database (db)\n",
    "## The second argument is a tuple. Each element of the tuple will replace a ? in the sql statement.\n",
    "cursor.execute(sql, (id,))\n",
    " \n",
    "## Iterating over the result and printing each record of the table\n",
    "for row in cursor.fetchall():\n",
    "    print(row)\n",
    " \n",
    "## Committing the changes\n",
    "connection.commit()\n",
    " \n",
    "## Closing the connection to the database\n",
    "connection.close()"
   ]
  },
  {
   "cell_type": "code",
   "execution_count": 21,
   "metadata": {},
   "outputs": [
    {
     "name": "stdout",
     "output_type": "stream",
     "text": [
      "\n",
      " ** PRINTING ALL **\n",
      "(1, 'John', 'Support', '+1234789', 'john@gmail.com')\n",
      "(2, 'Anne', 'Engineering', '+1555789', 'anne@gmail.com')\n",
      "(3, 'Antony', 'Sales', '00478911', 'antony@gmail.com')\n",
      "(10, 'Leonardo', 'Marketing', '+40122111', 'leo@gmail.com')\n",
      "(10, 'Leonardo', 'Marketing', '+40122111', 'leo@gmail.com')\n",
      "(10, 'Leonardo', 'Marketing', '+40122111', 'leo@gmail.com')\n"
     ]
    }
   ],
   "source": [
    "## Importing the module\n",
    "import sqlite3\n",
    " \n",
    "## Opening the connection to the database (if it exists) or create the db if it doesn't exist\n",
    "connection = sqlite3.connect(\"databases\\\\my_database.db\")\n",
    " \n",
    "## Creating a cursor object\n",
    "cursor = connection.cursor()\n",
    "\n",
    "## Creating a new record as a tuple\n",
    "record = (10, \"Leonardo\", \"Marketing\", \"+40122111\", \"leo@gmail.com\")\n",
    " \n",
    "## Creating the sql statement. Each ? will be replaces with an item of the tuple\n",
    "sql = 'insert into employees values (?,?,?,?,?);'\n",
    " \n",
    "## The second argument is a tuple. Each element of the tuple will replace a ? in the sql statement.\n",
    "cursor.execute(sql, record)\n",
    "\n",
    "# Creating the sql statement\n",
    "sql = \"select * from employees\"\n",
    " \n",
    "# Execute the sql against the database (db)\n",
    "cursor.execute(sql)\n",
    " \n",
    "# Iterating over the result and printing each record of the table\n",
    "print(\"\\n ** PRINTING ALL **\")\n",
    "for row in cursor.fetchall():\n",
    "    print(row)\n",
    " \n",
    "## Committing the changes\n",
    "connection.commit()\n",
    " \n",
    "## Closing the connection to the database\n",
    "connection.close()"
   ]
  },
  {
   "cell_type": "markdown",
   "metadata": {},
   "source": [
    "### Updating SQL Database"
   ]
  },
  {
   "cell_type": "code",
   "execution_count": 25,
   "metadata": {},
   "outputs": [
    {
     "name": "stdout",
     "output_type": "stream",
     "text": [
      "(1, 'John', 'Support', '+1234789', 'john@gmail.com')\n",
      "(2, 'Anne', 'Engineering', '111111', 'anne@gmail.com')\n",
      "(3, 'Antony', 'Sales', '00478911', 'antony@gmail.com')\n",
      "(10, 'Leonardo', 'Marketing', '+40122111', 'leo@gmail.com')\n",
      "(10, 'Leonardo', 'Marketing', '+40122111', 'leo@gmail.com')\n",
      "(10, 'Leonardo', 'Marketing', '+40122111', 'leo@gmail.com')\n"
     ]
    }
   ],
   "source": [
    "## Importing the module\n",
    "import sqlite3\n",
    " \n",
    "## Opening the connection to the database (if it exists) or create the db if it doesn't exist\n",
    "connection = sqlite3.connect(\"databases\\\\my_database.db\")\n",
    " \n",
    "## Creating a cursor object\n",
    "cursor = connection.cursor()\n",
    " \n",
    "## Updating the record with the ID entered by the user. This is parameterized query.\n",
    "sql = 'UPDATE employees SET phone=\"111111\" where id=2;'\n",
    "cursor.execute(sql)\n",
    "\n",
    "# Creating the sql statement\n",
    "sql = \"select * from employees\"\n",
    " \n",
    "# Execute the sql against the database (db)\n",
    "cursor.execute(sql)\n",
    " \n",
    "# Iterating over the result and printing each record of the table\n",
    "for row in cursor.fetchall():\n",
    "    print(row)\n",
    "\n",
    "## Committing the changes\n",
    "connection.commit()\n",
    " \n",
    "## Closing the connection to the database\n",
    "connection.close()"
   ]
  },
  {
   "cell_type": "code",
   "execution_count": 26,
   "metadata": {},
   "outputs": [
    {
     "name": "stdout",
     "output_type": "stream",
     "text": [
      "(1, 'John', 'Sales', '+1234789', 'john@gmail.com')\n",
      "(2, 'Anne', 'Sales', '111111', 'anne@gmail.com')\n",
      "(3, 'Antony', 'Sales', '00478911', 'antony@gmail.com')\n",
      "(10, 'Leonardo', 'Sales', '+40122111', 'leo@gmail.com')\n",
      "(10, 'Leonardo', 'Sales', '+40122111', 'leo@gmail.com')\n",
      "(10, 'Leonardo', 'Sales', '+40122111', 'leo@gmail.com')\n"
     ]
    }
   ],
   "source": [
    "## Importing the module\n",
    "import sqlite3\n",
    " \n",
    "## Opening the connection to the database (if it exists) or create the db if it doesn't exist\n",
    "connection = sqlite3.connect(\"databases\\\\my_database.db\")\n",
    " \n",
    "## Creating a cursor object\n",
    "cursor = connection.cursor()\n",
    " \n",
    "## Updating the record with the ID entered by the user. This is parameterized query.\n",
    "sql = 'UPDATE employees SET department=\"Sales\";'\n",
    "cursor.execute(sql)\n",
    "\n",
    "# Creating the sql statement\n",
    "sql = \"select * from employees\"\n",
    " \n",
    "# Execute the sql against the database (db)\n",
    "cursor.execute(sql)\n",
    " \n",
    "# Iterating over the result and printing each record of the table\n",
    "for row in cursor.fetchall():\n",
    "    print(row)\n",
    "\n",
    "## Committing the changes\n",
    "connection.commit()\n",
    " \n",
    "## Closing the connection to the database\n",
    "connection.close()"
   ]
  },
  {
   "cell_type": "code",
   "execution_count": 27,
   "metadata": {},
   "outputs": [
    {
     "name": "stdout",
     "output_type": "stream",
     "text": [
      "Enter Id:3\n",
      "(1, 'John', 'Sales', '+1234789', 'john@gmail.com')\n",
      "(2, 'Anne', 'Sales', '111111', 'anne@gmail.com')\n",
      "(3, 'Antony', 'IT', '00478911', 'antony@gmail.com')\n",
      "(10, 'Leonardo', 'Sales', '+40122111', 'leo@gmail.com')\n",
      "(10, 'Leonardo', 'Sales', '+40122111', 'leo@gmail.com')\n",
      "(10, 'Leonardo', 'Sales', '+40122111', 'leo@gmail.com')\n"
     ]
    }
   ],
   "source": [
    "## Importing the module\n",
    "import sqlite3\n",
    " \n",
    "## Opening the connection to the database (if it exists) or create the db if it doesn't exist\n",
    "connection = sqlite3.connect(\"databases\\\\my_database.db\")\n",
    " \n",
    "## Creating a cursor object\n",
    "cursor = connection.cursor()\n",
    " \n",
    "## User enters an ID:\n",
    "id = input('Enter Id:')\n",
    " \n",
    "## Updating the record with the ID entered by the user. This is parameterized query.\n",
    "sql = 'UPDATE employees SET department=\"IT\" where id=?;'\n",
    "cursor.execute(sql, (id,))\n",
    "\n",
    "# Creating the sql statement\n",
    "sql = \"select * from employees\"\n",
    " \n",
    "# Execute the sql against the database (db)\n",
    "cursor.execute(sql)\n",
    " \n",
    "# Iterating over the result and printing each record of the table\n",
    "for row in cursor.fetchall():\n",
    "    print(row)\n",
    " \n",
    "## Committing the changes\n",
    "connection.commit()\n",
    " \n",
    "## Closing the connection to the database\n",
    "connection.close()"
   ]
  },
  {
   "cell_type": "markdown",
   "metadata": {},
   "source": [
    "### Deleting Data"
   ]
  },
  {
   "cell_type": "code",
   "execution_count": 28,
   "metadata": {},
   "outputs": [
    {
     "name": "stdout",
     "output_type": "stream",
     "text": [
      "Enter ID: 10\n",
      "(1, 'John', 'Sales', '+1234789', 'john@gmail.com')\n",
      "(2, 'Anne', 'Sales', '111111', 'anne@gmail.com')\n",
      "(3, 'Antony', 'IT', '00478911', 'antony@gmail.com')\n"
     ]
    }
   ],
   "source": [
    "## Importing the module\n",
    "import sqlite3\n",
    " \n",
    "## Opening the connection to the database (if it exists) or create the db if it doesn't exist\n",
    "connection = sqlite3.connect(\"databases\\\\my_database.db\")\n",
    " \n",
    "## Creating a cursor object\n",
    "cursor = connection.cursor()\n",
    " \n",
    "## User enters a department:\n",
    "id = input(\"Enter ID: \")\n",
    " \n",
    "## Deleting all records with the department entered by the user. This is parameterized query.\n",
    "sql = 'DELETE FROM employees where id = ?;'\n",
    "cursor.execute(sql,  (id,))\n",
    "\n",
    "# Creating the sql statement\n",
    "sql = \"select * from employees\"\n",
    " \n",
    "# Execute the sql against the database (db)\n",
    "cursor.execute(sql)\n",
    " \n",
    "# Iterating over the result and printing each record of the table\n",
    "for row in cursor.fetchall():\n",
    "    print(row)\n",
    "    \n",
    "## Committing the changes\n",
    "connection.commit()\n",
    " \n",
    "## Closing the connection to the database\n",
    "connection.close()"
   ]
  },
  {
   "cell_type": "code",
   "execution_count": null,
   "metadata": {},
   "outputs": [],
   "source": []
  }
 ],
 "metadata": {
  "kernelspec": {
   "display_name": "Python 3",
   "language": "python",
   "name": "python3"
  },
  "language_info": {
   "codemirror_mode": {
    "name": "ipython",
    "version": 3
   },
   "file_extension": ".py",
   "mimetype": "text/x-python",
   "name": "python",
   "nbconvert_exporter": "python",
   "pygments_lexer": "ipython3",
   "version": "3.7.4"
  }
 },
 "nbformat": 4,
 "nbformat_minor": 2
}

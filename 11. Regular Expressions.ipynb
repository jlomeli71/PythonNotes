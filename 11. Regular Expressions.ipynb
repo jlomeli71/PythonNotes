{
 "cells": [
  {
   "cell_type": "markdown",
   "metadata": {},
   "source": [
    "## Regular Expresions"
   ]
  },
  {
   "cell_type": "markdown",
   "metadata": {},
   "source": [
    "## Sections"
   ]
  },
  {
   "cell_type": "code",
   "execution_count": null,
   "metadata": {},
   "outputs": [],
   "source": []
  },
  {
   "cell_type": "markdown",
   "metadata": {},
   "source": [
    "## RegEx Functions"
   ]
  },
  {
   "cell_type": "markdown",
   "metadata": {},
   "source": [
    "- findall()\n",
    "- search()\n",
    "- split()\n",
    "- sub()"
   ]
  },
  {
   "cell_type": "code",
   "execution_count": 1,
   "metadata": {},
   "outputs": [],
   "source": [
    "import re"
   ]
  },
  {
   "cell_type": "code",
   "execution_count": 3,
   "metadata": {},
   "outputs": [
    {
     "name": "stdout",
     "output_type": "stream",
     "text": [
      "['A', 'ASCII', 'DEBUG', 'DOTALL', 'I', 'IGNORECASE', 'L', 'LOCALE', 'M', 'MULTILINE', 'Match', 'Pattern', 'RegexFlag', 'S', 'Scanner', 'T', 'TEMPLATE', 'U', 'UNICODE', 'VERBOSE', 'X', '_MAXCACHE', '__all__', '__builtins__', '__cached__', '__doc__', '__file__', '__loader__', '__name__', '__package__', '__spec__', '__version__', '_cache', '_compile', '_compile_repl', '_expand', '_locale', '_pickle', '_special_chars_map', '_subx', 'compile', 'copyreg', 'enum', 'error', 'escape', 'findall', 'finditer', 'fullmatch', 'functools', 'match', 'purge', 'search', 'split', 'sre_compile', 'sre_parse', 'sub', 'subn', 'template']\n"
     ]
    }
   ],
   "source": [
    "print(dir(re))"
   ]
  },
  {
   "cell_type": "code",
   "execution_count": 38,
   "metadata": {},
   "outputs": [],
   "source": [
    "my_string = \"this search is inside of this text please!\""
   ]
  },
  {
   "cell_type": "code",
   "execution_count": 39,
   "metadata": {},
   "outputs": [
    {
     "name": "stdout",
     "output_type": "stream",
     "text": [
      "True\n"
     ]
    }
   ],
   "source": [
    "print(\"this\" in my_string)"
   ]
  },
  {
   "cell_type": "code",
   "execution_count": 40,
   "metadata": {},
   "outputs": [],
   "source": [
    "my_match = re.search(\"this\", my_string)"
   ]
  },
  {
   "cell_type": "code",
   "execution_count": 41,
   "metadata": {},
   "outputs": [
    {
     "name": "stdout",
     "output_type": "stream",
     "text": [
      "<re.Match object; span=(0, 4), match='this'>\n",
      "(0, 4)\n",
      "0\n",
      "4\n",
      "this\n"
     ]
    }
   ],
   "source": [
    "print(my_match)\n",
    "print(my_match.span())\n",
    "print(my_match.start())\n",
    "print(my_match.end())\n",
    "print(my_match.group())"
   ]
  },
  {
   "cell_type": "code",
   "execution_count": null,
   "metadata": {},
   "outputs": [],
   "source": []
  },
  {
   "cell_type": "code",
   "execution_count": 42,
   "metadata": {},
   "outputs": [
    {
     "ename": "AttributeError",
     "evalue": "'NoneType' object has no attribute 'group'",
     "output_type": "error",
     "traceback": [
      "\u001b[1;31m---------------------------------------------------------------------------\u001b[0m",
      "\u001b[1;31mAttributeError\u001b[0m                            Traceback (most recent call last)",
      "\u001b[1;32m<ipython-input-42-03fb695c2bff>\u001b[0m in \u001b[0;36m<module>\u001b[1;34m\u001b[0m\n\u001b[0;32m      1\u001b[0m \u001b[0mmy_no_match\u001b[0m \u001b[1;33m=\u001b[0m \u001b[0mre\u001b[0m\u001b[1;33m.\u001b[0m\u001b[0msearch\u001b[0m\u001b[1;33m(\u001b[0m\u001b[1;34m\"thIs\"\u001b[0m\u001b[1;33m,\u001b[0m \u001b[0mmy_string\u001b[0m\u001b[1;33m)\u001b[0m\u001b[1;33m\u001b[0m\u001b[1;33m\u001b[0m\u001b[0m\n\u001b[1;32m----> 2\u001b[1;33m \u001b[0mprint\u001b[0m\u001b[1;33m(\u001b[0m\u001b[0mmy_no_match\u001b[0m\u001b[1;33m.\u001b[0m\u001b[0mgroup\u001b[0m\u001b[1;33m(\u001b[0m\u001b[1;33m)\u001b[0m\u001b[1;33m)\u001b[0m\u001b[1;33m\u001b[0m\u001b[1;33m\u001b[0m\u001b[0m\n\u001b[0m",
      "\u001b[1;31mAttributeError\u001b[0m: 'NoneType' object has no attribute 'group'"
     ]
    }
   ],
   "source": [
    "my_no_match = re.search(\"thIs\", my_string)\n",
    "print(my_no_match.group())"
   ]
  },
  {
   "cell_type": "code",
   "execution_count": null,
   "metadata": {},
   "outputs": [],
   "source": []
  },
  {
   "cell_type": "code",
   "execution_count": 43,
   "metadata": {},
   "outputs": [
    {
     "name": "stdout",
     "output_type": "stream",
     "text": [
      "<re.Match object; span=(0, 4), match='this'>\n",
      "['this', 'this']\n",
      "None\n",
      "<re.Match object; span=(0, 4), match='this'>\n"
     ]
    }
   ],
   "source": [
    "pattern = re.compile(\"this\")\n",
    "pattern_a = pattern.search(my_string)\n",
    "pattern_b = pattern.findall(my_string)\n",
    "pattern_c = pattern.fullmatch(my_string)\n",
    "pattern_d = pattern.match(my_string)\n",
    "print(pattern_a)\n",
    "print(pattern_b)\n",
    "print(pattern_c)\n",
    "print(pattern_d)"
   ]
  },
  {
   "cell_type": "code",
   "execution_count": null,
   "metadata": {},
   "outputs": [],
   "source": []
  },
  {
   "cell_type": "markdown",
   "metadata": {},
   "source": [
    "Character | Description | Example\n",
    "----------|-------------|----------\n",
    "`[]` | A set of characters | `[a-m]`\t\n",
    "`\\` | Escape characters)\t| `\\d`\t\n",
    "`.` | Any character (except newline) | `he..o`\t\n",
    "`^` | Starts with | `^hello`\t\n",
    "`$` | Ends with | `world$`\t\n",
    "`*` | Zero or more occurrences | `aix*`\t\n",
    "`+` | One or more occurrences | `aix+`\t\n",
    "`{}` | Exactly the specified number of occurrences | `al{2}`\t\n",
    "`\\|` | Either or | `falls\\|stays`\t\n",
    "`()` | Capture and group | `()()`"
   ]
  },
  {
   "cell_type": "markdown",
   "metadata": {},
   "source": [
    "https://regex101.com\n",
    "\n",
    "https://regexone.com"
   ]
  },
  {
   "cell_type": "code",
   "execution_count": 47,
   "metadata": {},
   "outputs": [
    {
     "name": "stdout",
     "output_type": "stream",
     "text": [
      "<re.Match object; span=(3, 6), match='rch'>\n",
      "rch\n",
      "r\n",
      "h\n",
      "[('r', 'h')]\n",
      "None\n",
      "None\n"
     ]
    }
   ],
   "source": [
    "pattern = re.compile(r\"([a-zA-Z]).([h])\")\n",
    "my_string =\"search this inside of this text please!\"\n",
    "pattern_a = pattern.search(my_string)\n",
    "pattern_b = pattern.findall(my_string)\n",
    "pattern_c = pattern.fullmatch(my_string)\n",
    "pattern_d = pattern.match(my_string)\n",
    "print(pattern_a)\n",
    "print(pattern_a.group(0))\n",
    "print(pattern_a.group(1))\n",
    "print(pattern_a.group(2))\n",
    "print(pattern_b)\n",
    "print(pattern_c)\n",
    "print(pattern_d)"
   ]
  },
  {
   "cell_type": "code",
   "execution_count": 52,
   "metadata": {},
   "outputs": [
    {
     "name": "stdout",
     "output_type": "stream",
     "text": [
      "<re.Match object; span=(0, 18), match='ponpin@ponpito.com'>\n",
      "ponpin@ponpito.com\n",
      "ponpin@ponpito.com\n"
     ]
    }
   ],
   "source": [
    "pattern = re.compile(r\"(^[a-zA-Z0-9_.+-]+@[a-zA-Z0-9-]+\\.[a-zA-Z0-9-.]+$)\")\n",
    "my_email = \"ponpin@ponpito.com\"\n",
    "my_check = pattern.search(my_email)\n",
    "print(my_check)\n",
    "print(my_check.group(0))\n",
    "print(my_check.group(1))"
   ]
  },
  {
   "cell_type": "code",
   "execution_count": 60,
   "metadata": {},
   "outputs": [
    {
     "name": "stdout",
     "output_type": "stream",
     "text": [
      "Enter string to test: adsf45f6\n",
      "Password compliant\n"
     ]
    }
   ],
   "source": [
    "# Using a regex in Python, how can I verify that a user's password is:\n",
    "# At least 8 characters\n",
    "# Must be restricted to, though does not specifically require any of:\n",
    "# uppercase letters: A-Z\n",
    "# lowercase letters: a-z\n",
    "# numbers: 0-9\n",
    "# any of the special characters: @#$%^&+=\n",
    "# ends with a number\n",
    "    \n",
    "import re\n",
    "password = input(\"Enter string to test: \")\n",
    "if re.fullmatch(r'[A-Za-z0-9@#$%^&+=]{7,}\\d', password):\n",
    "    print(\"Password compliant\")\n",
    "else:\n",
    "    print(\"Password not compliant\")"
   ]
  },
  {
   "cell_type": "code",
   "execution_count": null,
   "metadata": {},
   "outputs": [],
   "source": []
  }
 ],
 "metadata": {
  "kernelspec": {
   "display_name": "Python 3",
   "language": "python",
   "name": "python3"
  },
  "language_info": {
   "codemirror_mode": {
    "name": "ipython",
    "version": 3
   },
   "file_extension": ".py",
   "mimetype": "text/x-python",
   "name": "python",
   "nbconvert_exporter": "python",
   "pygments_lexer": "ipython3",
   "version": "3.7.4"
  }
 },
 "nbformat": 4,
 "nbformat_minor": 2
}

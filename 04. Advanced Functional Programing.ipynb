{
 "cells": [
  {
   "cell_type": "markdown",
   "metadata": {},
   "source": [
    "# Advanced Funtional Programing"
   ]
  },
  {
   "cell_type": "markdown",
   "metadata": {},
   "source": [
    "## Sections"
   ]
  },
  {
   "cell_type": "markdown",
   "metadata": {},
   "source": [
    "- [The map function](#The-map-function)\n",
    "- [The filter function](#The-filter-function)\n",
    "- [The zip function](#The-zip-function)\n",
    "- [The reduce function](#The-reduce-function)\n",
    "- [Lambda expressions](#Lambda-expressions)\n",
    "- [List comprehensions](#List-comprehensions)"
   ]
  },
  {
   "cell_type": "markdown",
   "metadata": {},
   "source": [
    "## The map function"
   ]
  },
  {
   "cell_type": "markdown",
   "metadata": {},
   "source": [
    "The map funtion takes a function, an applies the funtion to each element on an iterable (list, or other) and creates a new iterable object with the results."
   ]
  },
  {
   "cell_type": "code",
   "execution_count": 35,
   "metadata": {},
   "outputs": [],
   "source": [
    "# We have a pure function than simply multiplies by 2\n",
    "def multiply_by2(item):\n",
    "    return item*2"
   ]
  },
  {
   "cell_type": "code",
   "execution_count": 36,
   "metadata": {},
   "outputs": [
    {
     "name": "stdout",
     "output_type": "stream",
     "text": [
      "<map object at 0x000001E66FD9D5C8>\n"
     ]
    }
   ],
   "source": [
    "# Format of map(function, iterable)\n",
    "my_list = [1,2,3]\n",
    "print(map(multiply_by2, my_list))"
   ]
  },
  {
   "cell_type": "code",
   "execution_count": 37,
   "metadata": {},
   "outputs": [
    {
     "name": "stdout",
     "output_type": "stream",
     "text": [
      "[1, 2, 3]\n",
      "[2, 4, 6]\n"
     ]
    }
   ],
   "source": [
    "print(my_list)\n",
    "print(list(map(multiply_by2, my_list)))"
   ]
  },
  {
   "cell_type": "markdown",
   "metadata": {},
   "source": [
    "## The filter funtion"
   ]
  },
  {
   "cell_type": "markdown",
   "metadata": {},
   "source": [
    "With filter, we applie a filter and show only the results."
   ]
  },
  {
   "cell_type": "code",
   "execution_count": 32,
   "metadata": {},
   "outputs": [],
   "source": [
    "def only_odd(item):\n",
    "    if item%2 != 0:\n",
    "        return item"
   ]
  },
  {
   "cell_type": "code",
   "execution_count": 33,
   "metadata": {},
   "outputs": [
    {
     "name": "stdout",
     "output_type": "stream",
     "text": [
      "<filter object at 0x000001E66FD98408>\n"
     ]
    }
   ],
   "source": [
    "my_list = [1,2,3,4,5]\n",
    "print(filter(only_odd, my_list))"
   ]
  },
  {
   "cell_type": "code",
   "execution_count": 34,
   "metadata": {},
   "outputs": [
    {
     "name": "stdout",
     "output_type": "stream",
     "text": [
      "[1, 2, 3, 4, 5]\n",
      "[1, 3, 5]\n"
     ]
    }
   ],
   "source": [
    "print(my_list)\n",
    "print(list(filter(only_odd, my_list)))"
   ]
  },
  {
   "cell_type": "markdown",
   "metadata": {},
   "source": [
    "## The zip function"
   ]
  },
  {
   "cell_type": "markdown",
   "metadata": {},
   "source": [
    "Uses two iterables an conbines them together."
   ]
  },
  {
   "cell_type": "code",
   "execution_count": 52,
   "metadata": {},
   "outputs": [],
   "source": [
    "my_1list = [1,2,3,4]\n",
    "my_2list = (\"a\",\"b\",\"c\")\n",
    "my_3list = (True, False, None)"
   ]
  },
  {
   "cell_type": "code",
   "execution_count": 53,
   "metadata": {},
   "outputs": [
    {
     "name": "stdout",
     "output_type": "stream",
     "text": [
      "[1, 2, 3, 4]\n",
      "('a', 'b', 'c')\n",
      "(True, False, None)\n",
      "<zip object at 0x000001E66FD88408>\n",
      "[(1, 'a', True), (2, 'b', False), (3, 'c', None)]\n"
     ]
    }
   ],
   "source": [
    "print(my_1list)\n",
    "print(my_2list)\n",
    "print(my_3list)\n",
    "print(zip(my_1list, my_2list, my_3list))\n",
    "print(list(zip(my_1list, my_2list, my_3list)))"
   ]
  },
  {
   "cell_type": "markdown",
   "metadata": {},
   "source": [
    "## The reduce function"
   ]
  },
  {
   "cell_type": "markdown",
   "metadata": {},
   "source": [
    "We have to import it from a python module library.\n",
    "- reduce(function, sequence)"
   ]
  },
  {
   "cell_type": "code",
   "execution_count": 57,
   "metadata": {},
   "outputs": [
    {
     "name": "stdout",
     "output_type": "stream",
     "text": [
      "0 1\n",
      "1 2\n",
      "3 3\n",
      "6\n"
     ]
    }
   ],
   "source": [
    "from functools import reduce\n",
    "\n",
    "my_list = [1,2,3]\n",
    "def accumulator(acc, item):\n",
    "    print(acc, item)\n",
    "    return acc + item\n",
    "    \n",
    "print(reduce(accumulator, my_list, 0))\n",
    "\n",
    "# In this example, the variable acc starts at 0, and will store the value returned by the function"
   ]
  },
  {
   "cell_type": "markdown",
   "metadata": {},
   "source": [
    "## Lambda expressions"
   ]
  },
  {
   "cell_type": "markdown",
   "metadata": {},
   "source": [
    "Lambda expresions are one time functions, they are also called anonymous functions. They have only a single line of code. The bodu of the lambda is limited to a single expression.\n",
    "\n",
    "they are very useful conbined with map, filter, zip and reduce functions.\n",
    "\n",
    "The format is:\n",
    "`lambda parameters: action(parameters)`"
   ]
  },
  {
   "cell_type": "code",
   "execution_count": 1,
   "metadata": {},
   "outputs": [
    {
     "data": {
      "text/plain": [
       "function"
      ]
     },
     "execution_count": 1,
     "metadata": {},
     "output_type": "execute_result"
    }
   ],
   "source": [
    "type(lambda x: x**2)"
   ]
  },
  {
   "cell_type": "code",
   "execution_count": 2,
   "metadata": {},
   "outputs": [
    {
     "name": "stdout",
     "output_type": "stream",
     "text": [
      "4\n"
     ]
    }
   ],
   "source": [
    "def square(x):\n",
    "    return x**2\n",
    "print(square(2))"
   ]
  },
  {
   "cell_type": "code",
   "execution_count": 3,
   "metadata": {},
   "outputs": [
    {
     "name": "stdout",
     "output_type": "stream",
     "text": [
      "4\n"
     ]
    }
   ],
   "source": [
    "sqr = lambda x : x**2\n",
    "print(sqr(2))"
   ]
  },
  {
   "cell_type": "code",
   "execution_count": 4,
   "metadata": {},
   "outputs": [
    {
     "name": "stdout",
     "output_type": "stream",
     "text": [
      "4\n",
      "8\n",
      "aaa\n",
      "['a', 'b', 'c']\n",
      "p-y-t-h-o-n\n"
     ]
    }
   ],
   "source": [
    "# Lambdas are functions and can therefore be passed to any other function as an argument (or returned from another function)\n",
    "def my_func(x, fn):\n",
    "    return fn(x)\n",
    " \n",
    "result = my_func(2, lambda x: x**2)\n",
    "print(result)       # => 4\n",
    " \n",
    "result = my_func(2, lambda x: x**3)\n",
    "print(result)       # => 8\n",
    " \n",
    "result = my_func('a', lambda x: x * 3)\n",
    "print(result)       # => 'aaa'\n",
    " \n",
    "result = my_func('a:b:c', lambda x: x.split(':'))\n",
    "print(result)       # => ['a', 'b', 'c'] -> this is a list\n",
    " \n",
    "result = my_func(('p', 'y', 't', 'h', 'o', 'n'), lambda x: '-'.join(x))\n",
    "print(result)       # => p-y-t-h-o-n > this is a string"
   ]
  },
  {
   "cell_type": "code",
   "execution_count": 58,
   "metadata": {},
   "outputs": [
    {
     "name": "stdout",
     "output_type": "stream",
     "text": [
      "[2, 4, 6]\n"
     ]
    }
   ],
   "source": [
    "# For example, in the map function:\n",
    "\n",
    "# We have a prure function\n",
    "def multiply_by2(item):\n",
    "    return item*2\n",
    "\n",
    "my_list = [1,2,3]\n",
    "\n",
    "print(list(map(multiply_by2, my_list)))"
   ]
  },
  {
   "cell_type": "code",
   "execution_count": 60,
   "metadata": {},
   "outputs": [
    {
     "name": "stdout",
     "output_type": "stream",
     "text": [
      "[2, 4, 6]\n"
     ]
    }
   ],
   "source": [
    "# The multiply_by2 funtion can be replaced by a lanbda expresion:\n",
    "print(list(map(lambda item: item*2, my_list)))"
   ]
  },
  {
   "cell_type": "code",
   "execution_count": 61,
   "metadata": {},
   "outputs": [
    {
     "name": "stdout",
     "output_type": "stream",
     "text": [
      "[1, 3, 5]\n"
     ]
    }
   ],
   "source": [
    "# Now with the filter example:\n",
    "\n",
    "def only_odd(item):\n",
    "    if item%2 != 0:\n",
    "        return item\n",
    "    \n",
    "my_list = [1,2,3,4,5]\n",
    "\n",
    "print(list(filter(only_odd, my_list)))"
   ]
  },
  {
   "cell_type": "code",
   "execution_count": 62,
   "metadata": {},
   "outputs": [
    {
     "name": "stdout",
     "output_type": "stream",
     "text": [
      "[1, 3, 5]\n"
     ]
    }
   ],
   "source": [
    "print(list(filter(lambda item: item%2 != 0, my_list)))"
   ]
  },
  {
   "cell_type": "code",
   "execution_count": 66,
   "metadata": {},
   "outputs": [
    {
     "name": "stdout",
     "output_type": "stream",
     "text": [
      "6\n"
     ]
    }
   ],
   "source": [
    "# Now with the reduce example:\n",
    "from functools import reduce\n",
    "\n",
    "my_list = [1,2,3]\n",
    "def accumulator(acc, item):\n",
    "    # print(acc, item)\n",
    "    return acc + item\n",
    "    \n",
    "print(reduce(accumulator, my_list, 0))"
   ]
  },
  {
   "cell_type": "code",
   "execution_count": 68,
   "metadata": {},
   "outputs": [
    {
     "name": "stdout",
     "output_type": "stream",
     "text": [
      "6\n"
     ]
    }
   ],
   "source": [
    "print(reduce(lambda acc, item: acc + item, my_list, 0))"
   ]
  },
  {
   "cell_type": "markdown",
   "metadata": {},
   "source": [
    "Other exercises with Lamda expresions"
   ]
  },
  {
   "cell_type": "code",
   "execution_count": 69,
   "metadata": {},
   "outputs": [
    {
     "name": "stdout",
     "output_type": "stream",
     "text": [
      "[25, 16, 9]\n"
     ]
    }
   ],
   "source": [
    "# Square\n",
    "my_list = [5,4,3]\n",
    "\n",
    "new_list = list(map(lambda num: num**2, my_list))\n",
    "print(new_list)"
   ]
  },
  {
   "cell_type": "code",
   "execution_count": 71,
   "metadata": {},
   "outputs": [
    {
     "name": "stdout",
     "output_type": "stream",
     "text": [
      "[(10, -1), (0, 2), (4, 3), (3, 4), (8, 8), (9, 9)]\n"
     ]
    }
   ],
   "source": [
    "# List sorting with the second number\n",
    "a = [(0,2), (4,3), (9,9), (10,-1), (8,8), (3,4)]\n",
    "a.sort(key=lambda x: x[1])\n",
    "print(a)\n"
   ]
  },
  {
   "cell_type": "markdown",
   "metadata": {},
   "source": [
    "## List comprehensions"
   ]
  },
  {
   "cell_type": "markdown",
   "metadata": {},
   "source": [
    "List comprehensions can work with lists, sets and dictionaries.\n",
    "the format for a simple list comprenhesion is:\n",
    "- `my_list = [param for param in iterable]`"
   ]
  },
  {
   "cell_type": "code",
   "execution_count": 72,
   "metadata": {},
   "outputs": [
    {
     "name": "stdout",
     "output_type": "stream",
     "text": [
      "['h', 'e', 'l', 'l', 'o']\n"
     ]
    }
   ],
   "source": [
    "# Instead of doing something like this\n",
    "my_list = []\n",
    "for char in \"hello\":\n",
    "    my_list.append(char)\n",
    "print(my_list)"
   ]
  },
  {
   "cell_type": "code",
   "execution_count": 74,
   "metadata": {},
   "outputs": [
    {
     "name": "stdout",
     "output_type": "stream",
     "text": [
      "['h', 'e', 'l', 'l', 'o']\n"
     ]
    }
   ],
   "source": [
    "my_list = [char for char in \"hello\"]\n",
    "print(my_list)"
   ]
  },
  {
   "cell_type": "code",
   "execution_count": 77,
   "metadata": {},
   "outputs": [
    {
     "name": "stdout",
     "output_type": "stream",
     "text": [
      "[0, 1, 2, 3, 4, 5, 6, 7, 8, 9]\n",
      "[0, 2, 4, 6, 8, 10, 12, 14, 16, 18]\n"
     ]
    }
   ],
   "source": [
    "# Another example\n",
    "my_list = [num for num in range(0,10)]\n",
    "print(my_list)\n",
    "\n",
    "# An now using an expression\n",
    "my_list = [num*2 for num in range(0,10)]\n",
    "print(my_list)"
   ]
  },
  {
   "cell_type": "code",
   "execution_count": 78,
   "metadata": {},
   "outputs": [
    {
     "name": "stdout",
     "output_type": "stream",
     "text": [
      "[0, 2, 4, 6, 8]\n"
     ]
    }
   ],
   "source": [
    "# Another example with if (adds to the list if the result of if is True)\n",
    "my_list = [num for num in range(0,10) if num%2==0]\n",
    "print(my_list)"
   ]
  },
  {
   "cell_type": "code",
   "execution_count": 79,
   "metadata": {},
   "outputs": [
    {
     "name": "stdout",
     "output_type": "stream",
     "text": [
      "[0, 2, 4, 6, 8]\n"
     ]
    }
   ],
   "source": [
    "# Another example with if and \n",
    "my_list = [num for num in range(0,10) if num%2==0]\n",
    "print(my_list)"
   ]
  },
  {
   "cell_type": "markdown",
   "metadata": {},
   "source": [
    "## Set comprehensions"
   ]
  },
  {
   "cell_type": "code",
   "execution_count": 82,
   "metadata": {},
   "outputs": [
    {
     "name": "stdout",
     "output_type": "stream",
     "text": [
      "{'h', 'o', 'e', 'l', 'w'}\n"
     ]
    }
   ],
   "source": [
    "# very similar to lists, remember, a set does not contain repeted elements\n",
    "my_set = {char for char in \"hellooow\"}\n",
    "print(my_set)"
   ]
  },
  {
   "cell_type": "markdown",
   "metadata": {},
   "source": [
    "## Dictionary comprehensions"
   ]
  },
  {
   "cell_type": "code",
   "execution_count": 84,
   "metadata": {},
   "outputs": [
    {
     "name": "stdout",
     "output_type": "stream",
     "text": [
      "{'a': 1, 'b': 4, 'c': 9}\n"
     ]
    }
   ],
   "source": [
    "# for example, if we want to create my_dict = {key:value**2}\n",
    "sample_dict = {\"a\":1, \"b\":2, \"c\":3}\n",
    "my_dict = {key:value**2 for key,value in sample_dict.items()}\n",
    "print(my_dict)"
   ]
  },
  {
   "cell_type": "code",
   "execution_count": null,
   "metadata": {},
   "outputs": [],
   "source": []
  }
 ],
 "metadata": {
  "kernelspec": {
   "display_name": "Python 3",
   "language": "python",
   "name": "python3"
  },
  "language_info": {
   "codemirror_mode": {
    "name": "ipython",
    "version": 3
   },
   "file_extension": ".py",
   "mimetype": "text/x-python",
   "name": "python",
   "nbconvert_exporter": "python",
   "pygments_lexer": "ipython3",
   "version": "3.7.4"
  }
 },
 "nbformat": 4,
 "nbformat_minor": 2
}

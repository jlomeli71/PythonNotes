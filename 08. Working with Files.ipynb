{
 "cells": [
  {
   "cell_type": "markdown",
   "metadata": {},
   "source": [
    "# Working with Files"
   ]
  },
  {
   "cell_type": "markdown",
   "metadata": {},
   "source": [
    "## Sections"
   ]
  },
  {
   "cell_type": "markdown",
   "metadata": {},
   "source": [
    "Paths in Windows use `\\`\n",
    "Paths in MAC and Linux use `/`\n",
    "\n",
    "one option to build paths is the\n",
    "\n",
    "- from pathlib import Path"
   ]
  },
  {
   "cell_type": "markdown",
   "metadata": {},
   "source": [
    "## Opening and reading files"
   ]
  },
  {
   "cell_type": "code",
   "execution_count": 2,
   "metadata": {},
   "outputs": [
    {
     "name": "stdout",
     "output_type": "stream",
     "text": [
      " El volumen de la unidad C no tiene etiqueta.\n",
      " El n£mero de serie del volumen es: 0CDC-AF0E\n",
      "\n",
      " Directorio de C:\\Users\\jmlom\\Documents\\GitHubRepositories\\python_practice\\files\n",
      "\n",
      "09/11/2020  09:20    <DIR>          .\n",
      "09/11/2020  09:20    <DIR>          ..\n",
      "09/11/2020  10:14    <DIR>          modules\n",
      "09/11/2020  09:35    <DIR>          testing\n",
      "               0 archivos              0 bytes\n",
      "               4 dirs  61,352,796,160 bytes libres\n"
     ]
    }
   ],
   "source": [
    "%ls files"
   ]
  },
  {
   "cell_type": "code",
   "execution_count": 5,
   "metadata": {},
   "outputs": [],
   "source": [
    "%mkdir files\\working"
   ]
  },
  {
   "cell_type": "code",
   "execution_count": 6,
   "metadata": {},
   "outputs": [
    {
     "name": "stdout",
     "output_type": "stream",
     "text": [
      " El volumen de la unidad C no tiene etiqueta.\n",
      " El n£mero de serie del volumen es: 0CDC-AF0E\n",
      "\n",
      " Directorio de C:\\Users\\jmlom\\Documents\\GitHubRepositories\\python_practice\\files\n",
      "\n",
      "10/11/2020  09:21    <DIR>          .\n",
      "10/11/2020  09:21    <DIR>          ..\n",
      "09/11/2020  10:14    <DIR>          modules\n",
      "09/11/2020  09:35    <DIR>          testing\n",
      "10/11/2020  09:21    <DIR>          working\n",
      "               0 archivos              0 bytes\n",
      "               5 dirs  61,313,085,440 bytes libres\n"
     ]
    }
   ],
   "source": [
    "%ls files"
   ]
  },
  {
   "cell_type": "code",
   "execution_count": 9,
   "metadata": {},
   "outputs": [],
   "source": [
    "%echo \"hello word\" > files\\working\\text.txt"
   ]
  },
  {
   "cell_type": "code",
   "execution_count": 15,
   "metadata": {},
   "outputs": [
    {
     "name": "stdout",
     "output_type": "stream",
     "text": [
      "<_io.TextIOWrapper name='files\\\\working\\\\text.txt' mode='r' encoding='cp1252'>\n",
      "\"hello word\" \n",
      "\n",
      "--------------\n",
      "\n",
      "--------------\n"
     ]
    }
   ],
   "source": [
    "my_file = open(\"files\\\\working\\\\text.txt\")\n",
    "print(my_file)\n",
    "print(my_file.read())\n",
    "print(\"--------------\")\n",
    "print(my_file.read())\n",
    "print(\"--------------\")\n",
    "my_file.close()"
   ]
  },
  {
   "cell_type": "code",
   "execution_count": 16,
   "metadata": {},
   "outputs": [
    {
     "name": "stdout",
     "output_type": "stream",
     "text": [
      "<_io.TextIOWrapper name='files\\\\working\\\\text.txt' mode='r' encoding='cp1252'>\n",
      "\"hello word\" \n",
      "\n",
      "--------------\n",
      "\"hello word\" \n",
      "\n",
      "--------------\n"
     ]
    }
   ],
   "source": [
    "my_file = open(\"files\\\\working\\\\text.txt\")\n",
    "print(my_file)\n",
    "print(my_file.read())\n",
    "print(\"--------------\")\n",
    "my_file.seek(0)\n",
    "print(my_file.read())\n",
    "print(\"--------------\")\n",
    "my_file.close()"
   ]
  },
  {
   "cell_type": "code",
   "execution_count": 19,
   "metadata": {},
   "outputs": [
    {
     "name": "stdout",
     "output_type": "stream",
     "text": [
      "<_io.TextIOWrapper name='files\\\\working\\\\multi.txt' mode='r' encoding='cp1252'>\n",
      "hello word\n",
      "hello sun\n",
      "hello noon\n",
      " \n",
      "\n"
     ]
    }
   ],
   "source": [
    "my_file = open(\"files\\\\working\\\\multi.txt\")\n",
    "print(my_file)\n",
    "print(my_file.read())\n",
    "my_file.close()"
   ]
  },
  {
   "cell_type": "code",
   "execution_count": null,
   "metadata": {},
   "outputs": [],
   "source": [
    "# We can tell the number of charcters\n",
    "# Also ask for the position with the method .tell\n",
    "# And we can move the cursor with the .seek method to a spcecific position"
   ]
  },
  {
   "cell_type": "code",
   "execution_count": null,
   "metadata": {},
   "outputs": [],
   "source": [
    "# aNOTHER OPTions is tu use \n",
    "with open(\"configuration.txt\") as file:\n",
    "    content = file.read().splitlines()\n",
    "\n",
    "print(content)"
   ]
  },
  {
   "cell_type": "code",
   "execution_count": null,
   "metadata": {},
   "outputs": [],
   "source": [
    "# or using file as iterable object\n",
    "with open(\"configuration.txt\") as file:\n",
    "    for line in file:\n",
    "        print(line, end=\"\")"
   ]
  },
  {
   "cell_type": "code",
   "execution_count": 20,
   "metadata": {},
   "outputs": [
    {
     "name": "stdout",
     "output_type": "stream",
     "text": [
      "<_io.TextIOWrapper name='files\\\\working\\\\multi.txt' mode='r' encoding='cp1252'>\n",
      "hello word\n",
      "\n"
     ]
    }
   ],
   "source": [
    "my_file = open(\"files\\\\working\\\\multi.txt\")\n",
    "print(my_file)\n",
    "print(my_file.readline())\n",
    "my_file.close()"
   ]
  },
  {
   "cell_type": "code",
   "execution_count": 23,
   "metadata": {},
   "outputs": [
    {
     "name": "stdout",
     "output_type": "stream",
     "text": [
      "<_io.TextIOWrapper name='files\\\\working\\\\multi.txt' mode='r' encoding='cp1252'>\n",
      "hello word\n",
      "\n",
      "hello sun\n",
      "\n",
      "hello noon\n",
      "\n"
     ]
    }
   ],
   "source": [
    "my_file = open(\"files\\\\working\\\\multi.txt\")\n",
    "print(my_file)\n",
    "print(my_file.readline())\n",
    "print(my_file.readline())\n",
    "print(my_file.readline())\n",
    "my_file.close()"
   ]
  },
  {
   "cell_type": "code",
   "execution_count": 4,
   "metadata": {},
   "outputs": [
    {
     "name": "stdout",
     "output_type": "stream",
     "text": [
      "<_io.TextIOWrapper name='files\\\\working\\\\multi.txt' mode='r' encoding='cp1252'>\n",
      "['hello word\\n', 'hello sun\\n', 'hello noon\\n', ' \\n']\n"
     ]
    }
   ],
   "source": [
    "my_file = open(\"files\\\\working\\\\multi.txt\")\n",
    "print(my_file)\n",
    "print(my_file.readlines())\n",
    "my_file.close()"
   ]
  },
  {
   "cell_type": "code",
   "execution_count": null,
   "metadata": {},
   "outputs": [],
   "source": []
  },
  {
   "cell_type": "markdown",
   "metadata": {},
   "source": [
    "## Opening with \"with open\""
   ]
  },
  {
   "cell_type": "code",
   "execution_count": 9,
   "metadata": {},
   "outputs": [
    {
     "name": "stdout",
     "output_type": "stream",
     "text": [
      "['hello word\\n', 'hello sun\\n', 'hello noon\\n', ' \\n']\n"
     ]
    }
   ],
   "source": [
    "with open(\"files\\\\working\\\\multi.txt\", mode=\"r\") as my_file:\n",
    "    print(my_file.readlines())"
   ]
  },
  {
   "cell_type": "code",
   "execution_count": 15,
   "metadata": {},
   "outputs": [
    {
     "name": "stdout",
     "output_type": "stream",
     "text": [
      "11\n"
     ]
    }
   ],
   "source": [
    "# We have to remember that whe we open a file the cursos restes\n",
    "with open(\"files\\\\working\\\\multi.txt\", mode=\"a\") as my_file:\n",
    "    text = my_file.write(\"hey hey hey\")\n",
    "    print(text)"
   ]
  },
  {
   "cell_type": "code",
   "execution_count": 16,
   "metadata": {},
   "outputs": [
    {
     "name": "stdout",
     "output_type": "stream",
     "text": [
      "12\n"
     ]
    }
   ],
   "source": [
    "# We have to remember that whe we open a file the cursos restes\n",
    "with open(\"files\\\\working\\\\happy.txt\", mode=\"w\") as my_file:\n",
    "    text = my_file.write(\"I am happy!!\")\n",
    "    print(text)"
   ]
  },
  {
   "cell_type": "code",
   "execution_count": 17,
   "metadata": {},
   "outputs": [
    {
     "data": {
      "text/plain": [
       "'C:\\\\Users\\\\jmlom\\\\Documents\\\\GitHubRepositories\\\\python_practice'"
      ]
     },
     "execution_count": 17,
     "metadata": {},
     "output_type": "execute_result"
    }
   ],
   "source": [
    "%pwd"
   ]
  },
  {
   "cell_type": "code",
   "execution_count": 25,
   "metadata": {},
   "outputs": [
    {
     "name": "stdout",
     "output_type": "stream",
     "text": [
      "File not found\n"
     ]
    },
    {
     "ename": "FileNotFoundError",
     "evalue": "[Errno 2] No such file or directory: 'basura.txt'",
     "output_type": "error",
     "traceback": [
      "\u001b[1;31m---------------------------------------------------------------------------\u001b[0m",
      "\u001b[1;31mFileNotFoundError\u001b[0m                         Traceback (most recent call last)",
      "\u001b[1;32m<ipython-input-25-22fd1e4ca82d>\u001b[0m in \u001b[0;36m<module>\u001b[1;34m\u001b[0m\n\u001b[0;32m      5\u001b[0m \u001b[1;32mexcept\u001b[0m \u001b[0mFileNotFoundError\u001b[0m \u001b[1;32mas\u001b[0m \u001b[0merr\u001b[0m\u001b[1;33m:\u001b[0m\u001b[1;33m\u001b[0m\u001b[1;33m\u001b[0m\u001b[0m\n\u001b[0;32m      6\u001b[0m         \u001b[0mprint\u001b[0m\u001b[1;33m(\u001b[0m\u001b[1;34m\"File not found\"\u001b[0m\u001b[1;33m)\u001b[0m\u001b[1;33m\u001b[0m\u001b[1;33m\u001b[0m\u001b[0m\n\u001b[1;32m----> 7\u001b[1;33m         \u001b[1;32mraise\u001b[0m \u001b[0merr\u001b[0m\u001b[1;33m\u001b[0m\u001b[1;33m\u001b[0m\u001b[0m\n\u001b[0m",
      "\u001b[1;32m<ipython-input-25-22fd1e4ca82d>\u001b[0m in \u001b[0;36m<module>\u001b[1;34m\u001b[0m\n\u001b[0;32m      1\u001b[0m \u001b[1;31m# Using try, except\u001b[0m\u001b[1;33m\u001b[0m\u001b[1;33m\u001b[0m\u001b[1;33m\u001b[0m\u001b[0m\n\u001b[0;32m      2\u001b[0m \u001b[1;32mtry\u001b[0m\u001b[1;33m:\u001b[0m\u001b[1;33m\u001b[0m\u001b[1;33m\u001b[0m\u001b[0m\n\u001b[1;32m----> 3\u001b[1;33m     \u001b[1;32mwith\u001b[0m \u001b[0mopen\u001b[0m\u001b[1;33m(\u001b[0m\u001b[1;34m\"basura.txt\"\u001b[0m\u001b[1;33m,\u001b[0m \u001b[0mmode\u001b[0m\u001b[1;33m=\u001b[0m\u001b[1;34m\"r\"\u001b[0m\u001b[1;33m)\u001b[0m \u001b[1;32mas\u001b[0m \u001b[0mmy_file\u001b[0m\u001b[1;33m:\u001b[0m\u001b[1;33m\u001b[0m\u001b[1;33m\u001b[0m\u001b[0m\n\u001b[0m\u001b[0;32m      4\u001b[0m         \u001b[0mprint\u001b[0m\u001b[1;33m(\u001b[0m\u001b[0mmy_file\u001b[0m\u001b[1;33m.\u001b[0m\u001b[0mread\u001b[0m\u001b[1;33m(\u001b[0m\u001b[1;33m)\u001b[0m\u001b[1;33m)\u001b[0m\u001b[1;33m\u001b[0m\u001b[1;33m\u001b[0m\u001b[0m\n\u001b[0;32m      5\u001b[0m \u001b[1;32mexcept\u001b[0m \u001b[0mFileNotFoundError\u001b[0m \u001b[1;32mas\u001b[0m \u001b[0merr\u001b[0m\u001b[1;33m:\u001b[0m\u001b[1;33m\u001b[0m\u001b[1;33m\u001b[0m\u001b[0m\n",
      "\u001b[1;31mFileNotFoundError\u001b[0m: [Errno 2] No such file or directory: 'basura.txt'"
     ]
    }
   ],
   "source": [
    "# Using try, except\n",
    "try:\n",
    "    with open(\"basura.txt\", mode=\"r\") as my_file:\n",
    "        print(my_file.read())\n",
    "except FileNotFoundError as err:\n",
    "        print(\"File not found\")\n",
    "        raise err"
   ]
  },
  {
   "cell_type": "markdown",
   "metadata": {},
   "source": [
    "## CSV files\n",
    "\n",
    "CSV means Comma separated values.\n",
    "It is a common format for data exchange.\n",
    "\n",
    "Not always the comma is used, it could be used another character.\n",
    "\n",
    "Python has a built-in modulo for opening CSV files."
   ]
  },
  {
   "cell_type": "code",
   "execution_count": 3,
   "metadata": {},
   "outputs": [
    {
     "name": "stdout",
     "output_type": "stream",
     "text": [
      "\"Month\", \"2018\", \"2019\", \"2020\"\n",
      "\"JAN\",  340,  360,  417\n",
      "\"FEB\",  318,  342,  391\n",
      "\"MAR\",  362,  406,  419\n",
      "\"APR\",  348,  396,  461\n",
      "\"MAY\",  363,  420,  472\n",
      "\"JUN\",  435,  472,  535\n",
      "\"JUL\",  491,  548,  622\n",
      "\"AUG\",  505,  559,  606\n",
      "\"SEP\",  404,  463,  508\n",
      "\"OCT\",  359,  407,  461\n",
      "\"NOV\",  310,  362,  390\n",
      "\"DEC\",  337,  405,  432\n"
     ]
    }
   ],
   "source": [
    "with open(\"files\\\\working\\\\data.csv\") as file:\n",
    "    print(file.read())"
   ]
  },
  {
   "cell_type": "code",
   "execution_count": 6,
   "metadata": {},
   "outputs": [
    {
     "name": "stdout",
     "output_type": "stream",
     "text": [
      "['Month', ' \"2018\"', ' \"2019\"', ' \"2020\"']\n",
      "['JAN', '  340', '  360', '  417']\n",
      "['FEB', '  318', '  342', '  391']\n",
      "['MAR', '  362', '  406', '  419']\n",
      "['APR', '  348', '  396', '  461']\n",
      "['MAY', '  363', '  420', '  472']\n",
      "['JUN', '  435', '  472', '  535']\n",
      "['JUL', '  491', '  548', '  622']\n",
      "['AUG', '  505', '  559', '  606']\n",
      "['SEP', '  404', '  463', '  508']\n",
      "['OCT', '  359', '  407', '  461']\n",
      "['NOV', '  310', '  362', '  390']\n",
      "['DEC', '  337', '  405', '  432']\n"
     ]
    }
   ],
   "source": [
    "# Reading CSV\n",
    "import csv\n",
    "with open(\"files\\\\working\\\\data.csv\") as file:\n",
    "    reader = csv.reader(file)\n",
    "    for row in reader:\n",
    "        print(row)"
   ]
  },
  {
   "cell_type": "code",
   "execution_count": 7,
   "metadata": {},
   "outputs": [
    {
     "name": "stdout",
     "output_type": "stream",
     "text": [
      " \"2018\"\n",
      "  340\n",
      "  318\n",
      "  362\n",
      "  348\n",
      "  363\n",
      "  435\n",
      "  491\n",
      "  505\n",
      "  404\n",
      "  359\n",
      "  310\n",
      "  337\n"
     ]
    }
   ],
   "source": [
    "# Reading CSV\n",
    "import csv\n",
    "with open(\"files\\\\working\\\\data.csv\") as file:\n",
    "    reader = csv.reader(file)\n",
    "    for row in reader:\n",
    "        print(row[1])"
   ]
  },
  {
   "cell_type": "code",
   "execution_count": 9,
   "metadata": {},
   "outputs": [
    {
     "name": "stdout",
     "output_type": "stream",
     "text": [
      "['JAN', '  340', '  360', '  417']\n",
      "['FEB', '  318', '  342', '  391']\n",
      "['MAR', '  362', '  406', '  419']\n",
      "['APR', '  348', '  396', '  461']\n",
      "['MAY', '  363', '  420', '  472']\n",
      "['JUN', '  435', '  472', '  535']\n",
      "['JUL', '  491', '  548', '  622']\n",
      "['AUG', '  505', '  559', '  606']\n",
      "['SEP', '  404', '  463', '  508']\n",
      "['OCT', '  359', '  407', '  461']\n",
      "['NOV', '  310', '  362', '  390']\n",
      "['DEC', '  337', '  405', '  432']\n"
     ]
    }
   ],
   "source": [
    "# Reading CSV\n",
    "import csv\n",
    "with open(\"files\\\\working\\\\data.csv\") as file:\n",
    "    reader = csv.reader(file)\n",
    "    next(reader)\n",
    "    for row in reader:\n",
    "        print(row)"
   ]
  },
  {
   "cell_type": "code",
   "execution_count": 27,
   "metadata": {},
   "outputs": [],
   "source": [
    "# Writting CSV\n",
    "import csv\n",
    "with open(\"files\\\\working\\\\data.csv\", \"a\", newline=\"\") as file:\n",
    "    # Creating a writting object\n",
    "    writer = csv.writer(file)\n",
    "    csv_data1 = (\"Month\", \" 2021\", \" 2022\", \" 2023\")\n",
    "    writer.writerow(csv_data1)"
   ]
  },
  {
   "cell_type": "code",
   "execution_count": 28,
   "metadata": {},
   "outputs": [
    {
     "name": "stdout",
     "output_type": "stream",
     "text": [
      "\"Month\", \"2018\", \"2019\", \"2020\"\n",
      "\"JAN\",  340,  360,  417\n",
      "\"FEB\",  318,  342,  391\n",
      "\"MAR\",  362,  406,  419\n",
      "\"APR\",  348,  396,  461\n",
      "\"MAY\",  363,  420,  472\n",
      "\"JUN\",  435,  472,  535\n",
      "\"JUL\",  491,  548,  622\n",
      "\"AUG\",  505,  559,  606\n",
      "\"SEP\",  404,  463,  508\n",
      "\"OCT\",  359,  407,  461\n",
      "\"NOV\",  310,  362,  390\n",
      "\"DEC\",  337,  405,  432\n",
      "Month, 2021, 2022, 2023\n",
      "\n"
     ]
    }
   ],
   "source": [
    "with open(\"files\\\\working\\\\data.csv\") as file:\n",
    "    print(file.read())"
   ]
  },
  {
   "cell_type": "code",
   "execution_count": 33,
   "metadata": {},
   "outputs": [
    {
     "name": "stdout",
     "output_type": "stream",
     "text": [
      "['root', 'x', '0', '0', 'root', '/root', '/bin/bash']\n",
      "['daemon', 'x', '1', '1', 'daemon', '/usr/sbin', '/usr/sbin/nologin']\n",
      "['bin', 'x', '2', '2', 'bin', '/bin', '/usr/sbin/nologin']\n",
      "['sys', 'x', '3', '3', 'sys', '/dev', '/usr/sbin/nologin']\n",
      "['sync', 'x', '4', '65534', 'sync', '/bin', '/bin/sync']\n",
      "['games', 'x', '5', '60', 'games', '/usr/games', '/usr/sbin/nologin']\n",
      "['man', 'x', '6', '12', 'man', '/var/cache/man', '/usr/sbin/nologin']\n",
      "['lp', 'x', '7', '7', 'lp', '/var/spool/lpd', '/usr/sbin/nologin']\n",
      "['mail', 'x', '8', '8', 'mail', '/var/mail', '/usr/sbin/nologin']\n",
      "['news', 'x', '9', '9', 'news', '/var/spool/news', '/usr/sbin/nologin']\n",
      "['uucp', 'x', '10', '10', 'uucp', '/var/spool/uucp', '/usr/sbin/nologin']\n",
      "['proxy', 'x', '13', '13', 'proxy', '/bin', '/usr/sbin/nologin']\n"
     ]
    }
   ],
   "source": [
    "# When other delimeter is used:\n",
    "import csv\n",
    "with open(\"files\\\\working\\\\passwd.csv\", \"r\") as file:\n",
    "    reader = csv.reader(file, delimiter=\":\", lineterminator=\"\\n\")\n",
    "    for row in reader:\n",
    "        print(row)"
   ]
  },
  {
   "cell_type": "code",
   "execution_count": 35,
   "metadata": {},
   "outputs": [
    {
     "name": "stdout",
     "output_type": "stream",
     "text": [
      "['excel', 'excel-tab', 'unix']\n"
     ]
    }
   ],
   "source": [
    "# CSV available dialects\n",
    "print(csv.list_dialects())"
   ]
  },
  {
   "cell_type": "code",
   "execution_count": 47,
   "metadata": {},
   "outputs": [
    {
     "name": "stdout",
     "output_type": "stream",
     "text": [
      "Saludo#Pais#Lenguaje\n",
      "Hola#Mexico#Espanol\n",
      "Hi#Canada#Ingles\n",
      "Ciao#Italia#Italiano\n",
      "\n"
     ]
    }
   ],
   "source": [
    "# We can cerate our own dialect, for example if we want toa add the useage of # as delimiter\n",
    "\n",
    "with open(\"files\\\\working\\\\items.csv\", \"r\") as file:\n",
    "    print(file.read())"
   ]
  },
  {
   "cell_type": "code",
   "execution_count": 48,
   "metadata": {},
   "outputs": [
    {
     "name": "stdout",
     "output_type": "stream",
     "text": [
      "['Saludo', 'Pais', 'Lenguaje']\n",
      "['Hola', 'Mexico', 'Espanol']\n",
      "['Hi', 'Canada', 'Ingles']\n",
      "['Ciao', 'Italia', 'Italiano']\n"
     ]
    }
   ],
   "source": [
    "csv.register_dialect(\"hashes\", delimiter=\"#\", quoting=csv.QUOTE_NONE, lineterminator=\"\\n\")\n",
    "\n",
    "with open(\"files\\\\working\\\\items.csv\", \"r\") as file:\n",
    "    reader = csv.reader(file, dialect=\"hashes\")\n",
    "    for row in reader:\n",
    "        print(row)"
   ]
  },
  {
   "cell_type": "code",
   "execution_count": 49,
   "metadata": {},
   "outputs": [],
   "source": [
    "with open(\"files\\\\working\\\\items.csv\", \"a\") as file:\n",
    "    writer = csv.writer(file, dialect=\"hashes\")\n",
    "    writer.writerow((\"Ni Hao\", \"China\", \"Mandarin\"))"
   ]
  },
  {
   "cell_type": "code",
   "execution_count": 50,
   "metadata": {},
   "outputs": [
    {
     "name": "stdout",
     "output_type": "stream",
     "text": [
      "['Saludo', 'Pais', 'Lenguaje']\n",
      "['Hola', 'Mexico', 'Espanol']\n",
      "['Hi', 'Canada', 'Ingles']\n",
      "['Ciao', 'Italia', 'Italiano']\n",
      "['Ni Hao', 'China', 'Mandarin']\n"
     ]
    }
   ],
   "source": [
    "with open(\"files\\\\working\\\\items.csv\", \"r\") as file:\n",
    "    reader = csv.reader(file, dialect=\"hashes\")\n",
    "    for row in reader:\n",
    "        print(row)"
   ]
  },
  {
   "cell_type": "markdown",
   "metadata": {},
   "source": [
    "## Excel files"
   ]
  },
  {
   "cell_type": "code",
   "execution_count": null,
   "metadata": {},
   "outputs": [],
   "source": []
  },
  {
   "cell_type": "code",
   "execution_count": null,
   "metadata": {},
   "outputs": [],
   "source": []
  },
  {
   "cell_type": "code",
   "execution_count": null,
   "metadata": {},
   "outputs": [],
   "source": []
  }
 ],
 "metadata": {
  "kernelspec": {
   "display_name": "Python 3",
   "language": "python",
   "name": "python3"
  },
  "language_info": {
   "codemirror_mode": {
    "name": "ipython",
    "version": 3
   },
   "file_extension": ".py",
   "mimetype": "text/x-python",
   "name": "python",
   "nbconvert_exporter": "python",
   "pygments_lexer": "ipython3",
   "version": "3.7.4"
  }
 },
 "nbformat": 4,
 "nbformat_minor": 2
}
